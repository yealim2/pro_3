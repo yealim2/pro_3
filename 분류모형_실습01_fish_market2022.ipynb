{
  "nbformat": 4,
  "nbformat_minor": 0,
  "metadata": {
    "colab": {
      "name": "분류모형_실습01_fish_market2022",
      "provenance": [],
      "collapsed_sections": [],
      "include_colab_link": true
    },
    "kernelspec": {
      "name": "python3",
      "display_name": "Python 3"
    },
    "language_info": {
      "name": "python"
    }
  },
  "cells": [
    {
      "cell_type": "markdown",
      "metadata": {
        "id": "view-in-github",
        "colab_type": "text"
      },
      "source": [
        "<a href=\"https://colab.research.google.com/github/yealim2/pro_3/blob/main/%EB%B6%84%EB%A5%98%EB%AA%A8%ED%98%95_%EC%8B%A4%EC%8A%B501_fish_market2022.ipynb\" target=\"_parent\"><img src=\"https://colab.research.google.com/assets/colab-badge.svg\" alt=\"Open In Colab\"/></a>"
      ]
    },
    {
      "cell_type": "code",
      "metadata": {
        "id": "jgyxCrOaJZQH"
      },
      "source": [
        "data=[10,11,12]"
      ],
      "execution_count": null,
      "outputs": []
    },
    {
      "cell_type": "code",
      "metadata": {
        "colab": {
          "base_uri": "https://localhost:8080/"
        },
        "id": "eryqHuQKJjCp",
        "outputId": "e3b04a61-0f4c-4287-8460-f973eb7b8531"
      },
      "source": [
        "data"
      ],
      "execution_count": null,
      "outputs": [
        {
          "output_type": "execute_result",
          "data": {
            "text/plain": [
              "[10, 11, 12]"
            ]
          },
          "metadata": {},
          "execution_count": 4
        }
      ]
    },
    {
      "cell_type": "code",
      "metadata": {
        "id": "T72vNNnZJocX"
      },
      "source": [
        "bream_length=[23.2, 24, 23.9, 26.3, 26.5, 26.8, 26.8, 27.6, 27.6, 28.5, 28.4, 28.7, 29.1, 29.5, 29.4, 29.4, 30.4, 30.4, 30.9, 31, 31.3, 31.4, 31.5, 31.8, 31.9, 31.8, 32, 32.7, 32.8, 33.5, 35, 35, 36.2, 37.4, 38]"
      ],
      "execution_count": null,
      "outputs": []
    },
    {
      "cell_type": "code",
      "metadata": {
        "colab": {
          "base_uri": "https://localhost:8080/"
        },
        "id": "OrQyDtUZJ7vw",
        "outputId": "309e0554-aad1-4aee-abb4-081f5aff3721"
      },
      "source": [
        "bream_length"
      ],
      "execution_count": null,
      "outputs": [
        {
          "output_type": "execute_result",
          "data": {
            "text/plain": [
              "[23.2,\n",
              " 24,\n",
              " 23.9,\n",
              " 26.3,\n",
              " 26.5,\n",
              " 26.8,\n",
              " 26.8,\n",
              " 27.6,\n",
              " 27.6,\n",
              " 28.5,\n",
              " 28.4,\n",
              " 28.7,\n",
              " 29.1,\n",
              " 29.5,\n",
              " 29.4,\n",
              " 29.4,\n",
              " 30.4,\n",
              " 30.4,\n",
              " 30.9,\n",
              " 31,\n",
              " 31.3,\n",
              " 31.4,\n",
              " 31.5,\n",
              " 31.8,\n",
              " 31.9,\n",
              " 31.8,\n",
              " 32,\n",
              " 32.7,\n",
              " 32.8,\n",
              " 33.5,\n",
              " 35,\n",
              " 35,\n",
              " 36.2,\n",
              " 37.4,\n",
              " 38]"
            ]
          },
          "metadata": {},
          "execution_count": 6
        }
      ]
    },
    {
      "cell_type": "code",
      "metadata": {
        "colab": {
          "base_uri": "https://localhost:8080/"
        },
        "id": "lmnlCUa_J94W",
        "outputId": "7011101c-942c-421a-c355-c494e2887418"
      },
      "source": [
        "len(bream_length)"
      ],
      "execution_count": null,
      "outputs": [
        {
          "output_type": "execute_result",
          "data": {
            "text/plain": [
              "35"
            ]
          },
          "metadata": {},
          "execution_count": 7
        }
      ]
    },
    {
      "cell_type": "code",
      "metadata": {
        "id": "GUnU0Z4sKKO8"
      },
      "source": [
        "bream_weight=[242, 290, 340, 363, 430, 450, 500, 390, 450, 500, 475, 500, 500, 340, 600, 600, 700, 700, 610, 650, 575, 685, 620, 680, 700, 725, 720, 714, 850, 1000, 920, 955, 925, 975, 950]"
      ],
      "execution_count": null,
      "outputs": []
    },
    {
      "cell_type": "code",
      "metadata": {
        "colab": {
          "base_uri": "https://localhost:8080/"
        },
        "id": "lNcsMW1jKT5Y",
        "outputId": "10ecb5c9-5364-461e-d565-db1104fb2466"
      },
      "source": [
        "len(bream_weight)"
      ],
      "execution_count": null,
      "outputs": [
        {
          "output_type": "execute_result",
          "data": {
            "text/plain": [
              "35"
            ]
          },
          "metadata": {},
          "execution_count": 9
        }
      ]
    },
    {
      "cell_type": "code",
      "metadata": {
        "id": "0aTT_RPSKaUx"
      },
      "source": [
        "import matplotlib.pyplot as plt"
      ],
      "execution_count": null,
      "outputs": []
    },
    {
      "cell_type": "code",
      "metadata": {
        "colab": {
          "base_uri": "https://localhost:8080/",
          "height": 283
        },
        "id": "uo9CcMiRKnp4",
        "outputId": "063a1523-66c4-4361-c170-247d42ad2844"
      },
      "source": [
        "plt.scatter(bream_length,bream_weight)"
      ],
      "execution_count": null,
      "outputs": [
        {
          "output_type": "execute_result",
          "data": {
            "text/plain": [
              "<matplotlib.collections.PathCollection at 0x7f492c692610>"
            ]
          },
          "metadata": {},
          "execution_count": 11
        },
        {
          "output_type": "display_data",
          "data": {
            "image/png": "[encoded data removed]",
            "text/plain": [
              "<Figure size 432x288 with 1 Axes>"
            ]
          },
          "metadata": {
            "needs_background": "light"
          }
        }
      ]
    },
    {
      "cell_type": "code",
      "metadata": {
        "colab": {
          "base_uri": "https://localhost:8080/",
          "height": 278
        },
        "id": "um-GrCwNKuB0",
        "outputId": "f8ee6a90-8a06-4170-c70b-bd60a50a8049"
      },
      "source": [
        "plt.scatter(bream_length,bream_weight)\n",
        "plt.xlabel('length')\n",
        "plt.ylabel('weight')\n",
        "plt.show()"
      ],
      "execution_count": null,
      "outputs": [
        {
          "output_type": "display_data",
          "data": {
            "image/png": "[encoded data removed]",
            "text/plain": [
              "<Figure size 432x288 with 1 Axes>"
            ]
          },
          "metadata": {
            "needs_background": "light"
          }
        }
      ]
    },
    {
      "cell_type": "code",
      "metadata": {
        "id": "MMZMkn58LSzG"
      },
      "source": [
        "smelt_length=[9.3, 10, 10.1, 10.4, 10.7, 10.8, 11.3, 11.3, 11.4, 11.5, 11.7, 12.1, 13.2, 13.8]"
      ],
      "execution_count": null,
      "outputs": []
    },
    {
      "cell_type": "code",
      "metadata": {
        "id": "AJFfOnkNL7OK"
      },
      "source": [
        "smelt_weight=[6.7, 7.5, 7.0, 9.7, 9.8, 8.7, 10, 9.9, 9.8, 12.2, 13.4, 12.2, 19.7, 19.9]"
      ],
      "execution_count": null,
      "outputs": []
    },
    {
      "cell_type": "code",
      "metadata": {
        "id": "v9hyKkkSMMa2"
      },
      "source": [
        "len(smelt_length)"
      ],
      "execution_count": null,
      "outputs": []
    },
    {
      "cell_type": "code",
      "metadata": {
        "colab": {
          "base_uri": "https://localhost:8080/"
        },
        "id": "oLoKf5zoMQwt",
        "outputId": "ef42c33a-9362-4b7b-bda8-a71915210ea7"
      },
      "source": [
        "len(smelt_weight)"
      ],
      "execution_count": null,
      "outputs": [
        {
          "output_type": "execute_result",
          "data": {
            "text/plain": [
              "14"
            ]
          },
          "metadata": {},
          "execution_count": 15
        }
      ]
    },
    {
      "cell_type": "code",
      "metadata": {
        "colab": {
          "base_uri": "https://localhost:8080/",
          "height": 278
        },
        "id": "g40yb3kUMZFu",
        "outputId": "43a8e606-4afd-4714-a042-bff665907721"
      },
      "source": [
        "plt.scatter(smelt_length,smelt_weight)\n",
        "plt.xlabel('length')\n",
        "plt.ylabel('weight')\n",
        "plt.show()"
      ],
      "execution_count": null,
      "outputs": [
        {
          "output_type": "display_data",
          "data": {
            "image/png": "[encoded data removed]",
            "text/plain": [
              "<Figure size 432x288 with 1 Axes>"
            ]
          },
          "metadata": {
            "needs_background": "light"
          }
        }
      ]
    },
    {
      "cell_type": "code",
      "metadata": {
        "id": "gIPLg542Mgyv"
      },
      "source": [
        "length=bream_length+smelt_length"
      ],
      "execution_count": null,
      "outputs": []
    },
    {
      "cell_type": "code",
      "metadata": {
        "id": "3gqDk-9SMnkS"
      },
      "source": [
        "weight=bream_weight+smelt_weight"
      ],
      "execution_count": null,
      "outputs": []
    },
    {
      "cell_type": "code",
      "metadata": {
        "colab": {
          "base_uri": "https://localhost:8080/"
        },
        "id": "m2Ee1ko1MuL4",
        "outputId": "1d886b26-e098-4946-b58f-93b3e545054f"
      },
      "source": [
        "len(length)"
      ],
      "execution_count": null,
      "outputs": [
        {
          "output_type": "execute_result",
          "data": {
            "text/plain": [
              "49"
            ]
          },
          "metadata": {},
          "execution_count": 19
        }
      ]
    },
    {
      "cell_type": "code",
      "metadata": {
        "colab": {
          "base_uri": "https://localhost:8080/"
        },
        "id": "tIN10EBYMxJZ",
        "outputId": "a18f3572-9e9e-4495-c6de-fa6f1335ace9"
      },
      "source": [
        "len(weight)"
      ],
      "execution_count": null,
      "outputs": [
        {
          "output_type": "execute_result",
          "data": {
            "text/plain": [
              "49"
            ]
          },
          "metadata": {},
          "execution_count": 20
        }
      ]
    },
    {
      "cell_type": "code",
      "metadata": {
        "id": "LlOs_Kb1M1jN"
      },
      "source": [
        "fish_data=[[l,w] for l,w in zip(length, weight)]"
      ],
      "execution_count": null,
      "outputs": []
    },
    {
      "cell_type": "code",
      "metadata": {
        "colab": {
          "base_uri": "https://localhost:8080/"
        },
        "id": "XLgL7kVANL8f",
        "outputId": "be6577c7-9f7a-4f13-e367-a709b2b57e25"
      },
      "source": [
        "fish_data"
      ],
      "execution_count": null,
      "outputs": [
        {
          "output_type": "execute_result",
          "data": {
            "text/plain": [
              "[[23.2, 242],\n",
              " [24, 290],\n",
              " [23.9, 340],\n",
              " [26.3, 363],\n",
              " [26.5, 430],\n",
              " [26.8, 450],\n",
              " [26.8, 500],\n",
              " [27.6, 390],\n",
              " [27.6, 450],\n",
              " [28.5, 500],\n",
              " [28.4, 475],\n",
              " [28.7, 500],\n",
              " [29.1, 500],\n",
              " [29.5, 340],\n",
              " [29.4, 600],\n",
              " [29.4, 600],\n",
              " [30.4, 700],\n",
              " [30.4, 700],\n",
              " [30.9, 610],\n",
              " [31, 650],\n",
              " [31.3, 575],\n",
              " [31.4, 685],\n",
              " [31.5, 620],\n",
              " [31.8, 680],\n",
              " [31.9, 700],\n",
              " [31.8, 725],\n",
              " [32, 720],\n",
              " [32.7, 714],\n",
              " [32.8, 850],\n",
              " [33.5, 1000],\n",
              " [35, 920],\n",
              " [35, 955],\n",
              " [36.2, 925],\n",
              " [37.4, 975],\n",
              " [38, 950],\n",
              " [9.3, 6.7],\n",
              " [10, 7.5],\n",
              " [10.1, 7.0],\n",
              " [10.4, 9.7],\n",
              " [10.7, 9.8],\n",
              " [10.8, 8.7],\n",
              " [11.3, 10],\n",
              " [11.3, 9.9],\n",
              " [11.4, 9.8],\n",
              " [11.5, 12.2],\n",
              " [11.7, 13.4],\n",
              " [12.1, 12.2],\n",
              " [13.2, 19.7],\n",
              " [13.8, 19.9]]"
            ]
          },
          "metadata": {},
          "execution_count": 22
        }
      ]
    },
    {
      "cell_type": "code",
      "metadata": {
        "id": "Zi-6sUbZNWv6"
      },
      "source": [
        "fish_target=[1]*35 + [0]*14"
      ],
      "execution_count": null,
      "outputs": []
    },
    {
      "cell_type": "code",
      "metadata": {
        "colab": {
          "base_uri": "https://localhost:8080/"
        },
        "id": "4I6bM4PENeM3",
        "outputId": "210c37b5-41b0-4d43-93d7-5b11f4242df4"
      },
      "source": [
        "fish_target"
      ],
      "execution_count": null,
      "outputs": [
        {
          "output_type": "execute_result",
          "data": {
            "text/plain": [
              "[1,\n",
              " 1,\n",
              " 1,\n",
              " 1,\n",
              " 1,\n",
              " 1,\n",
              " 1,\n",
              " 1,\n",
              " 1,\n",
              " 1,\n",
              " 1,\n",
              " 1,\n",
              " 1,\n",
              " 1,\n",
              " 1,\n",
              " 1,\n",
              " 1,\n",
              " 1,\n",
              " 1,\n",
              " 1,\n",
              " 1,\n",
              " 1,\n",
              " 1,\n",
              " 1,\n",
              " 1,\n",
              " 1,\n",
              " 1,\n",
              " 1,\n",
              " 1,\n",
              " 1,\n",
              " 1,\n",
              " 1,\n",
              " 1,\n",
              " 1,\n",
              " 1,\n",
              " 0,\n",
              " 0,\n",
              " 0,\n",
              " 0,\n",
              " 0,\n",
              " 0,\n",
              " 0,\n",
              " 0,\n",
              " 0,\n",
              " 0,\n",
              " 0,\n",
              " 0,\n",
              " 0,\n",
              " 0]"
            ]
          },
          "metadata": {},
          "execution_count": 24
        }
      ]
    },
    {
      "cell_type": "code",
      "metadata": {
        "colab": {
          "base_uri": "https://localhost:8080/"
        },
        "id": "VRCZ_oZvRNXh",
        "outputId": "ec411576-8ee8-4ac5-a257-5cece4ed2935"
      },
      "source": [
        "fish_data"
      ],
      "execution_count": null,
      "outputs": [
        {
          "output_type": "execute_result",
          "data": {
            "text/plain": [
              "[[23.2, 242],\n",
              " [24, 290],\n",
              " [23.9, 340],\n",
              " [26.3, 363],\n",
              " [26.5, 430],\n",
              " [26.8, 450],\n",
              " [26.8, 500],\n",
              " [27.6, 390],\n",
              " [27.6, 450],\n",
              " [28.5, 500],\n",
              " [28.4, 475],\n",
              " [28.7, 500],\n",
              " [29.1, 500],\n",
              " [29.5, 340],\n",
              " [29.4, 600],\n",
              " [29.4, 600],\n",
              " [30.4, 700],\n",
              " [30.4, 700],\n",
              " [30.9, 610],\n",
              " [31, 650],\n",
              " [31.3, 575],\n",
              " [31.4, 685],\n",
              " [31.5, 620],\n",
              " [31.8, 680],\n",
              " [31.9, 700],\n",
              " [31.8, 725],\n",
              " [32, 720],\n",
              " [32.7, 714],\n",
              " [32.8, 850],\n",
              " [33.5, 1000],\n",
              " [35, 920],\n",
              " [35, 955],\n",
              " [36.2, 925],\n",
              " [37.4, 975],\n",
              " [38, 950],\n",
              " [9.3, 6.7],\n",
              " [10, 7.5],\n",
              " [10.1, 7.0],\n",
              " [10.4, 9.7],\n",
              " [10.7, 9.8],\n",
              " [10.8, 8.7],\n",
              " [11.3, 10],\n",
              " [11.3, 9.9],\n",
              " [11.4, 9.8],\n",
              " [11.5, 12.2],\n",
              " [11.7, 13.4],\n",
              " [12.1, 12.2],\n",
              " [13.2, 19.7],\n",
              " [13.8, 19.9]]"
            ]
          },
          "metadata": {},
          "execution_count": 25
        }
      ]
    },
    {
      "cell_type": "code",
      "metadata": {
        "colab": {
          "base_uri": "https://localhost:8080/"
        },
        "id": "qitVKSwZRQbT",
        "outputId": "6138249a-051b-4d5a-9fc2-0ef15b36041c"
      },
      "source": [
        "fish_target"
      ],
      "execution_count": null,
      "outputs": [
        {
          "output_type": "execute_result",
          "data": {
            "text/plain": [
              "[1,\n",
              " 1,\n",
              " 1,\n",
              " 1,\n",
              " 1,\n",
              " 1,\n",
              " 1,\n",
              " 1,\n",
              " 1,\n",
              " 1,\n",
              " 1,\n",
              " 1,\n",
              " 1,\n",
              " 1,\n",
              " 1,\n",
              " 1,\n",
              " 1,\n",
              " 1,\n",
              " 1,\n",
              " 1,\n",
              " 1,\n",
              " 1,\n",
              " 1,\n",
              " 1,\n",
              " 1,\n",
              " 1,\n",
              " 1,\n",
              " 1,\n",
              " 1,\n",
              " 1,\n",
              " 1,\n",
              " 1,\n",
              " 1,\n",
              " 1,\n",
              " 1,\n",
              " 0,\n",
              " 0,\n",
              " 0,\n",
              " 0,\n",
              " 0,\n",
              " 0,\n",
              " 0,\n",
              " 0,\n",
              " 0,\n",
              " 0,\n",
              " 0,\n",
              " 0,\n",
              " 0,\n",
              " 0]"
            ]
          },
          "metadata": {},
          "execution_count": 26
        }
      ]
    },
    {
      "cell_type": "code",
      "metadata": {
        "id": "xtiQlgLXPZYS"
      },
      "source": [
        "from sklearn.neighbors import KNeighborsClassifier"
      ],
      "execution_count": null,
      "outputs": []
    },
    {
      "cell_type": "code",
      "metadata": {
        "id": "_CepfzzDPo_o"
      },
      "source": [
        "kn=KNeighborsClassifier()"
      ],
      "execution_count": null,
      "outputs": []
    },
    {
      "cell_type": "code",
      "metadata": {
        "id": "rkzigOBaP2FY"
      },
      "source": [
        "kn.fit(fish_data, fish_target)"
      ],
      "execution_count": null,
      "outputs": []
    },
    {
      "cell_type": "code",
      "metadata": {
        "colab": {
          "base_uri": "https://localhost:8080/"
        },
        "id": "uFlvgwwjP8JH",
        "outputId": "95cefe51-4a07-430e-f5b3-0361aa61e225"
      },
      "source": [
        "kn.score(fish_data,fish_target)"
      ],
      "execution_count": null,
      "outputs": [
        {
          "output_type": "execute_result",
          "data": {
            "text/plain": [
              "1.0"
            ]
          },
          "metadata": {},
          "execution_count": 51
        }
      ]
    },
    {
      "cell_type": "code",
      "metadata": {
        "id": "GM3Ur86-KiWw"
      },
      "source": [
        "# 길이가 30 무게가 600인 생선은 무엇일까요?\n",
        "# 길이가 100 무게가 880인 생선은 무엇일까요?  코드로 만들어 보기 "
      ],
      "execution_count": null,
      "outputs": []
    },
    {
      "cell_type": "code",
      "metadata": {
        "id": "lkgz832LLN1u",
        "colab": {
          "base_uri": "https://localhost:8080/"
        },
        "outputId": "16612fe0-384a-4fd8-dd8d-82ed1211e443"
      },
      "source": [
        "kn.predict([[30,100]])"
      ],
      "execution_count": null,
      "outputs": [
        {
          "output_type": "execute_result",
          "data": {
            "text/plain": [
              "array([0])"
            ]
          },
          "metadata": {},
          "execution_count": 34
        }
      ]
    },
    {
      "cell_type": "code",
      "metadata": {
        "colab": {
          "base_uri": "https://localhost:8080/"
        },
        "id": "uPV7fSNYSImo",
        "outputId": "553cc709-c213-4213-a64d-9a1e900a91e7"
      },
      "source": [
        "kn.predict([[30,800]])"
      ],
      "execution_count": null,
      "outputs": [
        {
          "output_type": "execute_result",
          "data": {
            "text/plain": [
              "array([1])"
            ]
          },
          "metadata": {},
          "execution_count": 33
        }
      ]
    },
    {
      "cell_type": "code",
      "metadata": {
        "colab": {
          "base_uri": "https://localhost:8080/"
        },
        "id": "RWAdLYOjLUEe",
        "outputId": "8514d6c2-dec0-4a24-e3d5-bd00a021275f"
      },
      "source": [
        "kn.predict([[50,780]])"
      ],
      "execution_count": null,
      "outputs": [
        {
          "output_type": "execute_result",
          "data": {
            "text/plain": [
              "array([1])"
            ]
          },
          "metadata": {},
          "execution_count": 32
        }
      ]
    },
    {
      "cell_type": "code",
      "metadata": {
        "colab": {
          "base_uri": "https://localhost:8080/",
          "height": 245
        },
        "id": "rHDkvt6kSIS4",
        "outputId": "2e54f927-566f-417d-ee22-a6a33b75f0b5"
      },
      "source": [
        "plt.scatter(bream_length, bream_weight)\n",
        "plt.scatter(smelt_length, smelt_weight)\n",
        "plt.scatter(30, 1600, marker='^')\n",
        "plt.xlabel('length')\n",
        "plt.ylabel('weight')\n",
        "plt.show"
      ],
      "execution_count": null,
      "outputs": [
        {
          "output_type": "error",
          "ename": "NameError",
          "evalue": "ignored",
          "traceback": [
            "\u001b[0;31m---------------------------------------------------------------------------\u001b[0m",
            "\u001b[0;31mNameError\u001b[0m                                 Traceback (most recent call last)",
            "\u001b[0;32m<ipython-input-1-03e7ead966f1>\u001b[0m in \u001b[0;36m<module>\u001b[0;34m()\u001b[0m\n\u001b[0;32m----> 1\u001b[0;31m \u001b[0mplt\u001b[0m\u001b[0;34m.\u001b[0m\u001b[0mscatter\u001b[0m\u001b[0;34m(\u001b[0m\u001b[0mbream_length\u001b[0m\u001b[0;34m,\u001b[0m \u001b[0mbream_weight\u001b[0m\u001b[0;34m)\u001b[0m\u001b[0;34m\u001b[0m\u001b[0;34m\u001b[0m\u001b[0m\n\u001b[0m\u001b[1;32m      2\u001b[0m \u001b[0mplt\u001b[0m\u001b[0;34m.\u001b[0m\u001b[0mscatter\u001b[0m\u001b[0;34m(\u001b[0m\u001b[0msmelt_length\u001b[0m\u001b[0;34m,\u001b[0m \u001b[0msmelt_weight\u001b[0m\u001b[0;34m)\u001b[0m\u001b[0;34m\u001b[0m\u001b[0;34m\u001b[0m\u001b[0m\n\u001b[1;32m      3\u001b[0m \u001b[0mplt\u001b[0m\u001b[0;34m.\u001b[0m\u001b[0mscatter\u001b[0m\u001b[0;34m(\u001b[0m\u001b[0;36m30\u001b[0m\u001b[0;34m,\u001b[0m \u001b[0;36m1600\u001b[0m\u001b[0;34m,\u001b[0m \u001b[0mmarker\u001b[0m\u001b[0;34m=\u001b[0m\u001b[0;34m'^'\u001b[0m\u001b[0;34m)\u001b[0m\u001b[0;34m\u001b[0m\u001b[0;34m\u001b[0m\u001b[0m\n\u001b[1;32m      4\u001b[0m \u001b[0mplt\u001b[0m\u001b[0;34m.\u001b[0m\u001b[0mxlabel\u001b[0m\u001b[0;34m(\u001b[0m\u001b[0;34m'length'\u001b[0m\u001b[0;34m)\u001b[0m\u001b[0;34m\u001b[0m\u001b[0;34m\u001b[0m\u001b[0m\n\u001b[1;32m      5\u001b[0m \u001b[0mplt\u001b[0m\u001b[0;34m.\u001b[0m\u001b[0mylabel\u001b[0m\u001b[0;34m(\u001b[0m\u001b[0;34m'weight'\u001b[0m\u001b[0;34m)\u001b[0m\u001b[0;34m\u001b[0m\u001b[0;34m\u001b[0m\u001b[0m\n",
            "\u001b[0;31mNameError\u001b[0m: name 'plt' is not defined"
          ]
        }
      ]
    },
    {
      "cell_type": "markdown",
      "metadata": {
        "id": "ldr14Tm7PZJU"
      },
      "source": [
        ""
      ]
    }
  ]
}