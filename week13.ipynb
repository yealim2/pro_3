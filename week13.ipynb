{
 "cells": [
  {
   "cell_type": "markdown",
   "metadata": {},
   "source": [
    "\n",
    "# <div style=\"text-align:center\">2022년 봄학기 프로그래밍3 - 13주차 <br/><pandas 디버깅과 테스트></div>\n",
    "\n",
    "<div style=\"text-align: right\"> <b>강남대학교 인공지능융합공학부 데이터사이언스전공 곽찬희</b></div>\n",
    "<div style=\"text-align: right\"> <b>chk at kangnam dot ac dot kr</b></div>\n",
    "\n",
    "---\n",
    "### 공지사항\n",
    "- 향후 수업 진행 일정\n",
    "    - 10주차: 데이터 재구성 및 pandas 객체 병합\n",
    "    - 11주차: 시계열 분석\n",
    "    - 오늘!12주차: 인덱스 정렬 / 과제 진행\n",
    "    - **13주차: 디버깅 및 테스트 / 과제 진행 및 중간 보고 제출(github 링크)**\n",
    "    - 14주차: 발표 - github 를 이용한 10분 발표 / (동영상 제출 마감)\n",
    "    - 15주차: 기말고사 및 학기 종료 (기말고사 형태는 추후 공지)\n",
    "- 발표순서는 조 번호순 (동영상 시청 및 QnA)\n",
    "\n",
    "    \n",
    "<br/>\n",
    "\n",
    "    "
   ]
  },
  {
   "cell_type": "markdown",
   "metadata": {},
   "source": [
    "먼저 데이터를 load 해봅시다.\n",
    "\n",
    "zip 파일 안에 csv 들을 불러오기 위해 zipfile 모듈을 사용합니다."
   ]
  },
  {
   "cell_type": "code",
   "execution_count": 3,
   "metadata": {
    "lines_to_next_cell": 2
   },
   "outputs": [],
   "source": [
    "import pandas as pd\n",
    "import numpy as np\n",
    "import zipfile\n",
    "url = 'archive.zip'"
   ]
  },
  {
   "cell_type": "code",
   "execution_count": 4,
   "metadata": {
    "lines_to_next_cell": 2
   },
   "outputs": [
    {
     "name": "stdout",
     "output_type": "stream",
     "text": [
      "['SurveySchema.csv', 'freeFormResponses.csv', 'multipleChoiceResponses.csv']\n"
     ]
    },
    {
     "name": "stderr",
     "output_type": "stream",
     "text": [
      "C:\\Users\\K\\anaconda3\\lib\\site-packages\\IPython\\core\\interactiveshell.py:3444: DtypeWarning: Columns (0,2,8,10,21,23,24,25,26,27,28,44,56,64,83,85,87,107,109,123,125,150,157,172,174,194,210,218,219,223,246,249,262,264,276,277,278,279,280,281,282,283,284,285,286,287,288,289,290,304,306,325,326,329,341,368,371,384,385,389,390,391,393,394) have mixed types.Specify dtype option on import or set low_memory=False.\n",
      "  exec(code_obj, self.user_global_ns, self.user_ns)\n"
     ]
    }
   ],
   "source": [
    "with zipfile.ZipFile(url) as z:\n",
    "    print(z.namelist())\n",
    "    kag = pd.read_csv(z.open('multipleChoiceResponses.csv'))\n",
    "    df = kag.iloc[1:]"
   ]
  },
  {
   "cell_type": "code",
   "execution_count": 5,
   "metadata": {
    "lines_to_next_cell": 2
   },
   "outputs": [
    {
     "data": {
      "text/html": [
       "<div>\n",
       "<style scoped>\n",
       "    .dataframe tbody tr th:only-of-type {\n",
       "        vertical-align: middle;\n",
       "    }\n",
       "\n",
       "    .dataframe tbody tr th {\n",
       "        vertical-align: top;\n",
       "    }\n",
       "\n",
       "    .dataframe thead th {\n",
       "        text-align: right;\n",
       "    }\n",
       "</style>\n",
       "<table border=\"1\" class=\"dataframe\">\n",
       "  <thead>\n",
       "    <tr style=\"text-align: right;\">\n",
       "      <th></th>\n",
       "      <th>1</th>\n",
       "      <th>2</th>\n",
       "      <th>3</th>\n",
       "      <th>4</th>\n",
       "      <th>5</th>\n",
       "      <th>6</th>\n",
       "      <th>7</th>\n",
       "      <th>8</th>\n",
       "      <th>9</th>\n",
       "      <th>10</th>\n",
       "      <th>...</th>\n",
       "      <th>23850</th>\n",
       "      <th>23851</th>\n",
       "      <th>23852</th>\n",
       "      <th>23853</th>\n",
       "      <th>23854</th>\n",
       "      <th>23855</th>\n",
       "      <th>23856</th>\n",
       "      <th>23857</th>\n",
       "      <th>23858</th>\n",
       "      <th>23859</th>\n",
       "    </tr>\n",
       "  </thead>\n",
       "  <tbody>\n",
       "    <tr>\n",
       "      <th>Time from Start to Finish (seconds)</th>\n",
       "      <td>710</td>\n",
       "      <td>434</td>\n",
       "      <td>718</td>\n",
       "      <td>621</td>\n",
       "      <td>731</td>\n",
       "      <td>1142</td>\n",
       "      <td>959</td>\n",
       "      <td>1758</td>\n",
       "      <td>641</td>\n",
       "      <td>751</td>\n",
       "      <td>...</td>\n",
       "      <td>820</td>\n",
       "      <td>683</td>\n",
       "      <td>57</td>\n",
       "      <td>122</td>\n",
       "      <td>348</td>\n",
       "      <td>575</td>\n",
       "      <td>131</td>\n",
       "      <td>370</td>\n",
       "      <td>36</td>\n",
       "      <td>502</td>\n",
       "    </tr>\n",
       "    <tr>\n",
       "      <th>Q1</th>\n",
       "      <td>Female</td>\n",
       "      <td>Male</td>\n",
       "      <td>Female</td>\n",
       "      <td>Male</td>\n",
       "      <td>Male</td>\n",
       "      <td>Male</td>\n",
       "      <td>Male</td>\n",
       "      <td>Male</td>\n",
       "      <td>Male</td>\n",
       "      <td>Male</td>\n",
       "      <td>...</td>\n",
       "      <td>Female</td>\n",
       "      <td>Male</td>\n",
       "      <td>Female</td>\n",
       "      <td>Female</td>\n",
       "      <td>Male</td>\n",
       "      <td>Male</td>\n",
       "      <td>Female</td>\n",
       "      <td>Male</td>\n",
       "      <td>Male</td>\n",
       "      <td>Male</td>\n",
       "    </tr>\n",
       "    <tr>\n",
       "      <th>Q1_OTHER_TEXT</th>\n",
       "      <td>-1</td>\n",
       "      <td>-1</td>\n",
       "      <td>-1</td>\n",
       "      <td>-1</td>\n",
       "      <td>-1</td>\n",
       "      <td>-1</td>\n",
       "      <td>-1</td>\n",
       "      <td>-1</td>\n",
       "      <td>-1</td>\n",
       "      <td>-1</td>\n",
       "      <td>...</td>\n",
       "      <td>-1</td>\n",
       "      <td>-1</td>\n",
       "      <td>-1</td>\n",
       "      <td>-1</td>\n",
       "      <td>-1</td>\n",
       "      <td>-1</td>\n",
       "      <td>-1</td>\n",
       "      <td>-1</td>\n",
       "      <td>-1</td>\n",
       "      <td>-1</td>\n",
       "    </tr>\n",
       "    <tr>\n",
       "      <th>Q2</th>\n",
       "      <td>45-49</td>\n",
       "      <td>30-34</td>\n",
       "      <td>30-34</td>\n",
       "      <td>35-39</td>\n",
       "      <td>22-24</td>\n",
       "      <td>25-29</td>\n",
       "      <td>35-39</td>\n",
       "      <td>18-21</td>\n",
       "      <td>25-29</td>\n",
       "      <td>30-34</td>\n",
       "      <td>...</td>\n",
       "      <td>18-21</td>\n",
       "      <td>22-24</td>\n",
       "      <td>18-21</td>\n",
       "      <td>30-34</td>\n",
       "      <td>30-34</td>\n",
       "      <td>45-49</td>\n",
       "      <td>25-29</td>\n",
       "      <td>22-24</td>\n",
       "      <td>25-29</td>\n",
       "      <td>25-29</td>\n",
       "    </tr>\n",
       "    <tr>\n",
       "      <th>Q3</th>\n",
       "      <td>United States of America</td>\n",
       "      <td>Indonesia</td>\n",
       "      <td>United States of America</td>\n",
       "      <td>United States of America</td>\n",
       "      <td>India</td>\n",
       "      <td>Colombia</td>\n",
       "      <td>Chile</td>\n",
       "      <td>India</td>\n",
       "      <td>Turkey</td>\n",
       "      <td>Hungary</td>\n",
       "      <td>...</td>\n",
       "      <td>India</td>\n",
       "      <td>Turkey</td>\n",
       "      <td>Turkey</td>\n",
       "      <td>Turkey</td>\n",
       "      <td>Turkey</td>\n",
       "      <td>France</td>\n",
       "      <td>Turkey</td>\n",
       "      <td>Turkey</td>\n",
       "      <td>United Kingdom of Great Britain and Northern I...</td>\n",
       "      <td>Spain</td>\n",
       "    </tr>\n",
       "    <tr>\n",
       "      <th>...</th>\n",
       "      <td>...</td>\n",
       "      <td>...</td>\n",
       "      <td>...</td>\n",
       "      <td>...</td>\n",
       "      <td>...</td>\n",
       "      <td>...</td>\n",
       "      <td>...</td>\n",
       "      <td>...</td>\n",
       "      <td>...</td>\n",
       "      <td>...</td>\n",
       "      <td>...</td>\n",
       "      <td>...</td>\n",
       "      <td>...</td>\n",
       "      <td>...</td>\n",
       "      <td>...</td>\n",
       "      <td>...</td>\n",
       "      <td>...</td>\n",
       "      <td>...</td>\n",
       "      <td>...</td>\n",
       "      <td>...</td>\n",
       "      <td>...</td>\n",
       "    </tr>\n",
       "    <tr>\n",
       "      <th>Q50_Part_5</th>\n",
       "      <td>NaN</td>\n",
       "      <td>NaN</td>\n",
       "      <td>NaN</td>\n",
       "      <td>Not enough incentives to share my work</td>\n",
       "      <td>Not enough incentives to share my work</td>\n",
       "      <td>NaN</td>\n",
       "      <td>NaN</td>\n",
       "      <td>Not enough incentives to share my work</td>\n",
       "      <td>NaN</td>\n",
       "      <td>NaN</td>\n",
       "      <td>...</td>\n",
       "      <td>NaN</td>\n",
       "      <td>NaN</td>\n",
       "      <td>NaN</td>\n",
       "      <td>NaN</td>\n",
       "      <td>NaN</td>\n",
       "      <td>NaN</td>\n",
       "      <td>NaN</td>\n",
       "      <td>NaN</td>\n",
       "      <td>NaN</td>\n",
       "      <td>NaN</td>\n",
       "    </tr>\n",
       "    <tr>\n",
       "      <th>Q50_Part_6</th>\n",
       "      <td>NaN</td>\n",
       "      <td>NaN</td>\n",
       "      <td>NaN</td>\n",
       "      <td>NaN</td>\n",
       "      <td>NaN</td>\n",
       "      <td>I had never considered making my work easier f...</td>\n",
       "      <td>I had never considered making my work easier f...</td>\n",
       "      <td>NaN</td>\n",
       "      <td>NaN</td>\n",
       "      <td>NaN</td>\n",
       "      <td>...</td>\n",
       "      <td>NaN</td>\n",
       "      <td>NaN</td>\n",
       "      <td>NaN</td>\n",
       "      <td>NaN</td>\n",
       "      <td>NaN</td>\n",
       "      <td>NaN</td>\n",
       "      <td>NaN</td>\n",
       "      <td>NaN</td>\n",
       "      <td>NaN</td>\n",
       "      <td>NaN</td>\n",
       "    </tr>\n",
       "    <tr>\n",
       "      <th>Q50_Part_7</th>\n",
       "      <td>NaN</td>\n",
       "      <td>NaN</td>\n",
       "      <td>NaN</td>\n",
       "      <td>NaN</td>\n",
       "      <td>NaN</td>\n",
       "      <td>NaN</td>\n",
       "      <td>NaN</td>\n",
       "      <td>NaN</td>\n",
       "      <td>NaN</td>\n",
       "      <td>NaN</td>\n",
       "      <td>...</td>\n",
       "      <td>NaN</td>\n",
       "      <td>NaN</td>\n",
       "      <td>NaN</td>\n",
       "      <td>NaN</td>\n",
       "      <td>NaN</td>\n",
       "      <td>NaN</td>\n",
       "      <td>NaN</td>\n",
       "      <td>NaN</td>\n",
       "      <td>NaN</td>\n",
       "      <td>NaN</td>\n",
       "    </tr>\n",
       "    <tr>\n",
       "      <th>Q50_Part_8</th>\n",
       "      <td>NaN</td>\n",
       "      <td>NaN</td>\n",
       "      <td>NaN</td>\n",
       "      <td>NaN</td>\n",
       "      <td>NaN</td>\n",
       "      <td>NaN</td>\n",
       "      <td>NaN</td>\n",
       "      <td>NaN</td>\n",
       "      <td>NaN</td>\n",
       "      <td>NaN</td>\n",
       "      <td>...</td>\n",
       "      <td>NaN</td>\n",
       "      <td>NaN</td>\n",
       "      <td>NaN</td>\n",
       "      <td>NaN</td>\n",
       "      <td>NaN</td>\n",
       "      <td>NaN</td>\n",
       "      <td>NaN</td>\n",
       "      <td>NaN</td>\n",
       "      <td>NaN</td>\n",
       "      <td>NaN</td>\n",
       "    </tr>\n",
       "    <tr>\n",
       "      <th>Q50_OTHER_TEXT</th>\n",
       "      <td>-1</td>\n",
       "      <td>-1</td>\n",
       "      <td>-1</td>\n",
       "      <td>-1</td>\n",
       "      <td>-1</td>\n",
       "      <td>-1</td>\n",
       "      <td>-1</td>\n",
       "      <td>-1</td>\n",
       "      <td>-1</td>\n",
       "      <td>-1</td>\n",
       "      <td>...</td>\n",
       "      <td>-1</td>\n",
       "      <td>-1</td>\n",
       "      <td>-1</td>\n",
       "      <td>-1</td>\n",
       "      <td>-1</td>\n",
       "      <td>-1</td>\n",
       "      <td>-1</td>\n",
       "      <td>-1</td>\n",
       "      <td>-1</td>\n",
       "      <td>-1</td>\n",
       "    </tr>\n",
       "  </tbody>\n",
       "</table>\n",
       "<p>395 rows × 23859 columns</p>\n",
       "</div>"
      ],
      "text/plain": [
       "                                                        1          2      \\\n",
       "Time from Start to Finish (seconds)                       710        434   \n",
       "Q1                                                     Female       Male   \n",
       "Q1_OTHER_TEXT                                              -1         -1   \n",
       "Q2                                                      45-49      30-34   \n",
       "Q3                                   United States of America  Indonesia   \n",
       "...                                                       ...        ...   \n",
       "Q50_Part_5                                                NaN        NaN   \n",
       "Q50_Part_6                                                NaN        NaN   \n",
       "Q50_Part_7                                                NaN        NaN   \n",
       "Q50_Part_8                                                NaN        NaN   \n",
       "Q50_OTHER_TEXT                                             -1         -1   \n",
       "\n",
       "                                                        3      \\\n",
       "Time from Start to Finish (seconds)                       718   \n",
       "Q1                                                     Female   \n",
       "Q1_OTHER_TEXT                                              -1   \n",
       "Q2                                                      30-34   \n",
       "Q3                                   United States of America   \n",
       "...                                                       ...   \n",
       "Q50_Part_5                                                NaN   \n",
       "Q50_Part_6                                                NaN   \n",
       "Q50_Part_7                                                NaN   \n",
       "Q50_Part_8                                                NaN   \n",
       "Q50_OTHER_TEXT                                             -1   \n",
       "\n",
       "                                                                      4      \\\n",
       "Time from Start to Finish (seconds)                                     621   \n",
       "Q1                                                                     Male   \n",
       "Q1_OTHER_TEXT                                                            -1   \n",
       "Q2                                                                    35-39   \n",
       "Q3                                                 United States of America   \n",
       "...                                                                     ...   \n",
       "Q50_Part_5                           Not enough incentives to share my work   \n",
       "Q50_Part_6                                                              NaN   \n",
       "Q50_Part_7                                                              NaN   \n",
       "Q50_Part_8                                                              NaN   \n",
       "Q50_OTHER_TEXT                                                           -1   \n",
       "\n",
       "                                                                      5      \\\n",
       "Time from Start to Finish (seconds)                                     731   \n",
       "Q1                                                                     Male   \n",
       "Q1_OTHER_TEXT                                                            -1   \n",
       "Q2                                                                    22-24   \n",
       "Q3                                                                    India   \n",
       "...                                                                     ...   \n",
       "Q50_Part_5                           Not enough incentives to share my work   \n",
       "Q50_Part_6                                                              NaN   \n",
       "Q50_Part_7                                                              NaN   \n",
       "Q50_Part_8                                                              NaN   \n",
       "Q50_OTHER_TEXT                                                           -1   \n",
       "\n",
       "                                                                                 6      \\\n",
       "Time from Start to Finish (seconds)                                               1142   \n",
       "Q1                                                                                Male   \n",
       "Q1_OTHER_TEXT                                                                       -1   \n",
       "Q2                                                                               25-29   \n",
       "Q3                                                                            Colombia   \n",
       "...                                                                                ...   \n",
       "Q50_Part_5                                                                         NaN   \n",
       "Q50_Part_6                           I had never considered making my work easier f...   \n",
       "Q50_Part_7                                                                         NaN   \n",
       "Q50_Part_8                                                                         NaN   \n",
       "Q50_OTHER_TEXT                                                                      -1   \n",
       "\n",
       "                                                                                 7      \\\n",
       "Time from Start to Finish (seconds)                                                959   \n",
       "Q1                                                                                Male   \n",
       "Q1_OTHER_TEXT                                                                       -1   \n",
       "Q2                                                                               35-39   \n",
       "Q3                                                                               Chile   \n",
       "...                                                                                ...   \n",
       "Q50_Part_5                                                                         NaN   \n",
       "Q50_Part_6                           I had never considered making my work easier f...   \n",
       "Q50_Part_7                                                                         NaN   \n",
       "Q50_Part_8                                                                         NaN   \n",
       "Q50_OTHER_TEXT                                                                      -1   \n",
       "\n",
       "                                                                      8      \\\n",
       "Time from Start to Finish (seconds)                                    1758   \n",
       "Q1                                                                     Male   \n",
       "Q1_OTHER_TEXT                                                            -1   \n",
       "Q2                                                                    18-21   \n",
       "Q3                                                                    India   \n",
       "...                                                                     ...   \n",
       "Q50_Part_5                           Not enough incentives to share my work   \n",
       "Q50_Part_6                                                              NaN   \n",
       "Q50_Part_7                                                              NaN   \n",
       "Q50_Part_8                                                              NaN   \n",
       "Q50_OTHER_TEXT                                                           -1   \n",
       "\n",
       "                                      9        10     ...   23850   23851  \\\n",
       "Time from Start to Finish (seconds)     641      751  ...     820     683   \n",
       "Q1                                     Male     Male  ...  Female    Male   \n",
       "Q1_OTHER_TEXT                            -1       -1  ...      -1      -1   \n",
       "Q2                                    25-29    30-34  ...   18-21   22-24   \n",
       "Q3                                   Turkey  Hungary  ...   India  Turkey   \n",
       "...                                     ...      ...  ...     ...     ...   \n",
       "Q50_Part_5                              NaN      NaN  ...     NaN     NaN   \n",
       "Q50_Part_6                              NaN      NaN  ...     NaN     NaN   \n",
       "Q50_Part_7                              NaN      NaN  ...     NaN     NaN   \n",
       "Q50_Part_8                              NaN      NaN  ...     NaN     NaN   \n",
       "Q50_OTHER_TEXT                           -1       -1  ...      -1      -1   \n",
       "\n",
       "                                      23852   23853   23854   23855   23856  \\\n",
       "Time from Start to Finish (seconds)      57     122     348     575     131   \n",
       "Q1                                   Female  Female    Male    Male  Female   \n",
       "Q1_OTHER_TEXT                            -1      -1      -1      -1      -1   \n",
       "Q2                                    18-21   30-34   30-34   45-49   25-29   \n",
       "Q3                                   Turkey  Turkey  Turkey  France  Turkey   \n",
       "...                                     ...     ...     ...     ...     ...   \n",
       "Q50_Part_5                              NaN     NaN     NaN     NaN     NaN   \n",
       "Q50_Part_6                              NaN     NaN     NaN     NaN     NaN   \n",
       "Q50_Part_7                              NaN     NaN     NaN     NaN     NaN   \n",
       "Q50_Part_8                              NaN     NaN     NaN     NaN     NaN   \n",
       "Q50_OTHER_TEXT                           -1      -1      -1      -1      -1   \n",
       "\n",
       "                                      23857  \\\n",
       "Time from Start to Finish (seconds)     370   \n",
       "Q1                                     Male   \n",
       "Q1_OTHER_TEXT                            -1   \n",
       "Q2                                    22-24   \n",
       "Q3                                   Turkey   \n",
       "...                                     ...   \n",
       "Q50_Part_5                              NaN   \n",
       "Q50_Part_6                              NaN   \n",
       "Q50_Part_7                              NaN   \n",
       "Q50_Part_8                              NaN   \n",
       "Q50_OTHER_TEXT                           -1   \n",
       "\n",
       "                                                                                 23858  \\\n",
       "Time from Start to Finish (seconds)                                                 36   \n",
       "Q1                                                                                Male   \n",
       "Q1_OTHER_TEXT                                                                       -1   \n",
       "Q2                                                                               25-29   \n",
       "Q3                                   United Kingdom of Great Britain and Northern I...   \n",
       "...                                                                                ...   \n",
       "Q50_Part_5                                                                         NaN   \n",
       "Q50_Part_6                                                                         NaN   \n",
       "Q50_Part_7                                                                         NaN   \n",
       "Q50_Part_8                                                                         NaN   \n",
       "Q50_OTHER_TEXT                                                                      -1   \n",
       "\n",
       "                                     23859  \n",
       "Time from Start to Finish (seconds)    502  \n",
       "Q1                                    Male  \n",
       "Q1_OTHER_TEXT                           -1  \n",
       "Q2                                   25-29  \n",
       "Q3                                   Spain  \n",
       "...                                    ...  \n",
       "Q50_Part_5                             NaN  \n",
       "Q50_Part_6                             NaN  \n",
       "Q50_Part_7                             NaN  \n",
       "Q50_Part_8                             NaN  \n",
       "Q50_OTHER_TEXT                          -1  \n",
       "\n",
       "[395 rows x 23859 columns]"
      ]
     },
     "execution_count": 5,
     "metadata": {},
     "output_type": "execute_result"
    }
   ],
   "source": [
    "df.T"
   ]
  },
  {
   "cell_type": "code",
   "execution_count": 6,
   "metadata": {
    "lines_to_next_cell": 2
   },
   "outputs": [
    {
     "data": {
      "text/plain": [
       "Time from Start to Finish (seconds)    object\n",
       "Q1                                     object\n",
       "Q1_OTHER_TEXT                          object\n",
       "Q2                                     object\n",
       "Q3                                     object\n",
       "                                        ...  \n",
       "Q50_Part_5                             object\n",
       "Q50_Part_6                             object\n",
       "Q50_Part_7                             object\n",
       "Q50_Part_8                             object\n",
       "Q50_OTHER_TEXT                         object\n",
       "Length: 395, dtype: object"
      ]
     },
     "execution_count": 6,
     "metadata": {},
     "output_type": "execute_result"
    }
   ],
   "source": [
    "df.dtypes"
   ]
  },
  {
   "cell_type": "markdown",
   "metadata": {},
   "source": [
    "SurveySchema 파일에는 각 문항에 대한 설명들이 들어가 있습니다. \n",
    "\n",
    "보통은 주어진 보기에서 고르는 경우가 많죠. 아래를 봅시다."
   ]
  },
  {
   "cell_type": "code",
   "execution_count": 7,
   "metadata": {},
   "outputs": [
    {
     "data": {
      "text/plain": [
       "Male                       19430\n",
       "Female                      4010\n",
       "Prefer not to say            340\n",
       "Prefer to self-describe       79\n",
       "Name: Q1, dtype: int64"
      ]
     },
     "execution_count": 7,
     "metadata": {},
     "output_type": "execute_result"
    }
   ],
   "source": [
    "df.Q1.value_counts(dropna=False)"
   ]
  },
  {
   "cell_type": "markdown",
   "metadata": {},
   "source": [
    "이제 컬럼명을 바꾸면서 데이터 정리를 해보겠습니다."
   ]
  },
  {
   "cell_type": "code",
   "execution_count": 12,
   "metadata": {
    "lines_to_next_cell": 2
   },
   "outputs": [],
   "source": [
    "def tweak_kag(df):\n",
    "    na_mask = df.Q9.isna()\n",
    "    hide_mask = df.Q9.str.startswith('I do not').fillna(False)\n",
    "    df = df[~na_mask & ~hide_mask]\n",
    "\n",
    "    # q1 은 Gender 에 대한 응답\n",
    "    q1 = (df.Q1\n",
    "      .replace({'Prefer not to say': 'Another',\n",
    "               'Prefer to self-describe': 'Another'})\n",
    "      .rename('Gender')\n",
    "    )\n",
    "\n",
    "    # q2는 나이\n",
    "    \n",
    "    q2 = df.Q2.str.slice(0,2).astype(int).rename('Age')\n",
    "    \n",
    "    #q3에서는 미국, 인도, 중국을 제외한 국가를 Another 로 표기\n",
    "    def limit_countries(val):\n",
    "        if val in  {'United States of America', 'India', 'China'}:\n",
    "            return val\n",
    "        return 'Another'\n",
    "    q3 = df.Q3.apply(limit_countries).rename('Country')\n",
    "\n",
    "    #q4는 학력 코드화\n",
    "    q4 = (df.Q4\n",
    "     .replace({'Master’s degree': 18,\n",
    "     'Bachelor’s degree': 16,\n",
    "     'Doctoral degree': 20,\n",
    "     'Some college/university study without earning a bachelor’s degree': 13,\n",
    "     'Professional degree': 19,\n",
    "     'I prefer not to answer': None,\n",
    "     'No formal education past high school': 12})\n",
    "     .fillna(11)\n",
    "     .rename('Edu')\n",
    "    )\n",
    "\n",
    "\n",
    "    #q5에서는 전공 처리\n",
    "    def only_cs_stat_val(val):\n",
    "        if val not in {'cs', 'eng', 'stat'}:\n",
    "            return 'another'\n",
    "        return val\n",
    "\n",
    "    q5 = (df.Q5\n",
    "            .replace({\n",
    "                'Computer science (software engineering, etc.)': 'cs',\n",
    "                'Engineering (non-computer focused)': 'eng',\n",
    "                'Mathematics or statistics': 'stat'})\n",
    "             .apply(only_cs_stat_val)\n",
    "             .rename('Studies'))\n",
    "    \n",
    "    # q6은 직업\n",
    "    def limit_occupation(val):\n",
    "        if val in {'Student', 'Data Scientist', 'Software Engineer', 'Not employed',\n",
    "                  'Data Engineer'}:\n",
    "            return val\n",
    "        return 'Another'\n",
    "\n",
    "\n",
    "    q6 = df.Q6.apply(limit_occupation).rename('Occupation')\n",
    "\n",
    "    # q8은 경력\n",
    "    q8 = (df.Q8\n",
    "      .str.replace('+', '', regex=True)\n",
    "      .str.split('-', expand=True)\n",
    "      .iloc[:,0]\n",
    "      .fillna(-1)\n",
    "      .astype(int)\n",
    "      .rename('Experience')\n",
    "    )\n",
    "\n",
    "    #q9는 임금수준\n",
    "    q9 = (df.Q9\n",
    "     .str.replace('+','')\n",
    "     .str.replace(',','')\n",
    "     .str.replace('500000', '500')\n",
    "     .str.replace('I do not wish to disclose my approximate yearly compensation','')\n",
    "     .str.split('-', expand=True)\n",
    "     .iloc[:,0]\n",
    "     .astype(int)\n",
    "     .mul(1000)\n",
    "     .rename('Salary'))\n",
    "    return pd.concat([q1, q2, q3, q4, q5, q6, q8, q9], axis=1)"
   ]
  },
  {
   "cell_type": "code",
   "execution_count": 13,
   "metadata": {
    "lines_to_next_cell": 2
   },
   "outputs": [
    {
     "name": "stderr",
     "output_type": "stream",
     "text": [
      "C:\\Users\\K\\AppData\\Local\\Temp/ipykernel_14240/4157588000.py:73: FutureWarning: The default value of regex will change from True to False in a future version. In addition, single character regular expressions will *not* be treated as literal strings when regex=True.\n",
      "  q9 = (df.Q9\n"
     ]
    },
    {
     "data": {
      "text/html": [
       "<div>\n",
       "<style scoped>\n",
       "    .dataframe tbody tr th:only-of-type {\n",
       "        vertical-align: middle;\n",
       "    }\n",
       "\n",
       "    .dataframe tbody tr th {\n",
       "        vertical-align: top;\n",
       "    }\n",
       "\n",
       "    .dataframe thead th {\n",
       "        text-align: right;\n",
       "    }\n",
       "</style>\n",
       "<table border=\"1\" class=\"dataframe\">\n",
       "  <thead>\n",
       "    <tr style=\"text-align: right;\">\n",
       "      <th></th>\n",
       "      <th>Gender</th>\n",
       "      <th>Age</th>\n",
       "      <th>Country</th>\n",
       "      <th>Edu</th>\n",
       "      <th>Studies</th>\n",
       "      <th>Occupation</th>\n",
       "      <th>Experience</th>\n",
       "      <th>Salary</th>\n",
       "    </tr>\n",
       "  </thead>\n",
       "  <tbody>\n",
       "    <tr>\n",
       "      <th>2</th>\n",
       "      <td>Male</td>\n",
       "      <td>30</td>\n",
       "      <td>Another</td>\n",
       "      <td>16.0</td>\n",
       "      <td>eng</td>\n",
       "      <td>Another</td>\n",
       "      <td>5</td>\n",
       "      <td>10000</td>\n",
       "    </tr>\n",
       "    <tr>\n",
       "      <th>3</th>\n",
       "      <td>Female</td>\n",
       "      <td>30</td>\n",
       "      <td>United States of America</td>\n",
       "      <td>18.0</td>\n",
       "      <td>cs</td>\n",
       "      <td>Data Scientist</td>\n",
       "      <td>0</td>\n",
       "      <td>0</td>\n",
       "    </tr>\n",
       "    <tr>\n",
       "      <th>5</th>\n",
       "      <td>Male</td>\n",
       "      <td>22</td>\n",
       "      <td>India</td>\n",
       "      <td>18.0</td>\n",
       "      <td>stat</td>\n",
       "      <td>Another</td>\n",
       "      <td>0</td>\n",
       "      <td>0</td>\n",
       "    </tr>\n",
       "    <tr>\n",
       "      <th>7</th>\n",
       "      <td>Male</td>\n",
       "      <td>35</td>\n",
       "      <td>Another</td>\n",
       "      <td>20.0</td>\n",
       "      <td>another</td>\n",
       "      <td>Another</td>\n",
       "      <td>10</td>\n",
       "      <td>10000</td>\n",
       "    </tr>\n",
       "    <tr>\n",
       "      <th>8</th>\n",
       "      <td>Male</td>\n",
       "      <td>18</td>\n",
       "      <td>India</td>\n",
       "      <td>18.0</td>\n",
       "      <td>another</td>\n",
       "      <td>Another</td>\n",
       "      <td>0</td>\n",
       "      <td>0</td>\n",
       "    </tr>\n",
       "    <tr>\n",
       "      <th>...</th>\n",
       "      <td>...</td>\n",
       "      <td>...</td>\n",
       "      <td>...</td>\n",
       "      <td>...</td>\n",
       "      <td>...</td>\n",
       "      <td>...</td>\n",
       "      <td>...</td>\n",
       "      <td>...</td>\n",
       "    </tr>\n",
       "    <tr>\n",
       "      <th>23844</th>\n",
       "      <td>Male</td>\n",
       "      <td>30</td>\n",
       "      <td>Another</td>\n",
       "      <td>18.0</td>\n",
       "      <td>cs</td>\n",
       "      <td>Software Engineer</td>\n",
       "      <td>10</td>\n",
       "      <td>90000</td>\n",
       "    </tr>\n",
       "    <tr>\n",
       "      <th>23845</th>\n",
       "      <td>Male</td>\n",
       "      <td>22</td>\n",
       "      <td>Another</td>\n",
       "      <td>18.0</td>\n",
       "      <td>stat</td>\n",
       "      <td>Student</td>\n",
       "      <td>0</td>\n",
       "      <td>0</td>\n",
       "    </tr>\n",
       "    <tr>\n",
       "      <th>23854</th>\n",
       "      <td>Male</td>\n",
       "      <td>30</td>\n",
       "      <td>Another</td>\n",
       "      <td>20.0</td>\n",
       "      <td>cs</td>\n",
       "      <td>Another</td>\n",
       "      <td>5</td>\n",
       "      <td>10000</td>\n",
       "    </tr>\n",
       "    <tr>\n",
       "      <th>23855</th>\n",
       "      <td>Male</td>\n",
       "      <td>45</td>\n",
       "      <td>Another</td>\n",
       "      <td>20.0</td>\n",
       "      <td>cs</td>\n",
       "      <td>Another</td>\n",
       "      <td>5</td>\n",
       "      <td>250000</td>\n",
       "    </tr>\n",
       "    <tr>\n",
       "      <th>23857</th>\n",
       "      <td>Male</td>\n",
       "      <td>22</td>\n",
       "      <td>Another</td>\n",
       "      <td>18.0</td>\n",
       "      <td>cs</td>\n",
       "      <td>Software Engineer</td>\n",
       "      <td>0</td>\n",
       "      <td>10000</td>\n",
       "    </tr>\n",
       "  </tbody>\n",
       "</table>\n",
       "<p>15429 rows × 8 columns</p>\n",
       "</div>"
      ],
      "text/plain": [
       "       Gender  Age                   Country   Edu  Studies  \\\n",
       "2        Male   30                   Another  16.0      eng   \n",
       "3      Female   30  United States of America  18.0       cs   \n",
       "5        Male   22                     India  18.0     stat   \n",
       "7        Male   35                   Another  20.0  another   \n",
       "8        Male   18                     India  18.0  another   \n",
       "...       ...  ...                       ...   ...      ...   \n",
       "23844    Male   30                   Another  18.0       cs   \n",
       "23845    Male   22                   Another  18.0     stat   \n",
       "23854    Male   30                   Another  20.0       cs   \n",
       "23855    Male   45                   Another  20.0       cs   \n",
       "23857    Male   22                   Another  18.0       cs   \n",
       "\n",
       "              Occupation  Experience  Salary  \n",
       "2                Another           5   10000  \n",
       "3         Data Scientist           0       0  \n",
       "5                Another           0       0  \n",
       "7                Another          10   10000  \n",
       "8                Another           0       0  \n",
       "...                  ...         ...     ...  \n",
       "23844  Software Engineer          10   90000  \n",
       "23845            Student           0       0  \n",
       "23854            Another           5   10000  \n",
       "23855            Another           5  250000  \n",
       "23857  Software Engineer           0   10000  \n",
       "\n",
       "[15429 rows x 8 columns]"
      ]
     },
     "execution_count": 13,
     "metadata": {},
     "output_type": "execute_result"
    }
   ],
   "source": [
    "tweak_kag(df)"
   ]
  },
  {
   "cell_type": "code",
   "execution_count": 14,
   "metadata": {
    "lines_to_next_cell": 2
   },
   "outputs": [
    {
     "name": "stderr",
     "output_type": "stream",
     "text": [
      "C:\\Users\\K\\AppData\\Local\\Temp/ipykernel_14240/4157588000.py:73: FutureWarning: The default value of regex will change from True to False in a future version. In addition, single character regular expressions will *not* be treated as literal strings when regex=True.\n",
      "  q9 = (df.Q9\n"
     ]
    },
    {
     "data": {
      "text/plain": [
       "Gender         object\n",
       "Age             int32\n",
       "Country        object\n",
       "Edu           float64\n",
       "Studies        object\n",
       "Occupation     object\n",
       "Experience      int32\n",
       "Salary          int32\n",
       "dtype: object"
      ]
     },
     "execution_count": 14,
     "metadata": {},
     "output_type": "execute_result"
    }
   ],
   "source": [
    "tweak_kag(df).dtypes"
   ]
  },
  {
   "cell_type": "markdown",
   "metadata": {
    "tags": []
   },
   "source": [
    "위와 같이 정리하면 조금 더 쉽게 분석이 가능합니다.\n",
    "\n",
    "예를 들어, Salary 와 Experience 의 상관관계를 봅시다."
   ]
  },
  {
   "cell_type": "code",
   "execution_count": 15,
   "metadata": {
    "lines_to_next_cell": 2
   },
   "outputs": [
    {
     "name": "stderr",
     "output_type": "stream",
     "text": [
      "C:\\Users\\K\\AppData\\Local\\Temp/ipykernel_14240/4157588000.py:73: FutureWarning: The default value of regex will change from True to False in a future version. In addition, single character regular expressions will *not* be treated as literal strings when regex=True.\n",
      "  q9 = (df.Q9\n"
     ]
    },
    {
     "data": {
      "text/plain": [
       "Country\n",
       "Another                     0.289827\n",
       "China                       0.252974\n",
       "India                       0.167335\n",
       "United States of America    0.354125\n",
       "dtype: float64"
      ]
     },
     "execution_count": 15,
     "metadata": {},
     "output_type": "execute_result"
    }
   ],
   "source": [
    "kag = tweak_kag(df)\n",
    "(kag\n",
    "    .groupby('Country')\n",
    "    .apply(lambda g: g.Salary.corr(g.Experience))\n",
    ")"
   ]
  },
  {
   "cell_type": "markdown",
   "metadata": {},
   "source": [
    "## Apply 성능\n",
    "apply 는 편리한 함수이지만, 시간이 오래 걸리는(==비용이 많이 드는) 작업입니다.\n",
    "\n",
    "이 비용을 어떻게 줄일 수 있을지 알아봅시다."
   ]
  },
  {
   "cell_type": "code",
   "execution_count": 16,
   "metadata": {},
   "outputs": [],
   "source": [
    "def limit_countries(val):\n",
    "     if val in  {'United States of America', 'India', 'China'}:\n",
    "         return val\n",
    "     return 'Another'"
   ]
  },
  {
   "cell_type": "code",
   "execution_count": 26,
   "metadata": {
    "lines_to_next_cell": 2
   },
   "outputs": [],
   "source": [
    "%%timeit\n",
    "q3 = df.Q3.apply(limit_countries).rename('Country')"
   ]
  },
  {
   "cell_type": "code",
   "execution_count": 19,
   "metadata": {
    "lines_to_next_cell": 2
   },
   "outputs": [
    {
     "name": "stdout",
     "output_type": "stream",
     "text": [
      "31 ms ± 185 µs per loop (mean ± std. dev. of 7 runs, 10 loops each)\n"
     ]
    }
   ],
   "source": [
    "%%timeit\n",
    "other_values = df.Q3.value_counts().iloc[3:].index\n",
    "q3_2 = df.Q3.replace(other_values, 'Another')\n",
    "#replace 는 더 느립니다."
   ]
  },
  {
   "cell_type": "code",
   "execution_count": 22,
   "metadata": {
    "lines_to_next_cell": 2
   },
   "outputs": [
    {
     "name": "stdout",
     "output_type": "stream",
     "text": [
      "1.55 ms ± 28.7 µs per loop (mean ± std. dev. of 7 runs, 1000 loops each)\n"
     ]
    }
   ],
   "source": [
    "%%timeit\n",
    "values = {'United States of America', 'India', 'China'}\n",
    "q3_3 = df.Q3.where(df.Q3.isin(values), 'Another')\n",
    "#책에서는 이 부분이 훨씬 빨라진다고 했지만, 큰 차이는 없습니다."
   ]
  },
  {
   "cell_type": "code",
   "execution_count": 23,
   "metadata": {
    "lines_to_next_cell": 2
   },
   "outputs": [
    {
     "name": "stdout",
     "output_type": "stream",
     "text": [
      "1.33 ms ± 23.7 µs per loop (mean ± std. dev. of 7 runs, 1000 loops each)\n"
     ]
    }
   ],
   "source": [
    "%%timeit\n",
    "values = {'United States of America', 'India', 'China'}\n",
    "q3_4 = pd.Series(np.where(df.Q3.isin(values), df.Q3, 'Another'), \n",
    "     index=df.index)\n",
    "#마지막으로 np.where 를 통해 numpy 함수를 직접 써봅니다."
   ]
  },
  {
   "cell_type": "code",
   "execution_count": 27,
   "metadata": {
    "lines_to_next_cell": 2
   },
   "outputs": [
    {
     "ename": "NameError",
     "evalue": "name 'q3_2' is not defined",
     "output_type": "error",
     "traceback": [
      "\u001b[1;31m---------------------------------------------------------------------------\u001b[0m",
      "\u001b[1;31mNameError\u001b[0m                                 Traceback (most recent call last)",
      "\u001b[1;32m~\\AppData\\Local\\Temp/ipykernel_14240/1163615386.py\u001b[0m in \u001b[0;36m<module>\u001b[1;34m\u001b[0m\n\u001b[1;32m----> 1\u001b[1;33m \u001b[0mq3\u001b[0m\u001b[1;33m.\u001b[0m\u001b[0mequals\u001b[0m\u001b[1;33m(\u001b[0m\u001b[0mq3_2\u001b[0m\u001b[1;33m)\u001b[0m\u001b[1;33m\u001b[0m\u001b[1;33m\u001b[0m\u001b[0m\n\u001b[0m",
      "\u001b[1;31mNameError\u001b[0m: name 'q3_2' is not defined"
     ]
    }
   ],
   "source": [
    "q3.equals(q3_2)"
   ]
  },
  {
   "cell_type": "code",
   "execution_count": null,
   "metadata": {
    "lines_to_next_cell": 2
   },
   "outputs": [],
   "source": [
    "q3.equals(q3_3)"
   ]
  },
  {
   "cell_type": "code",
   "execution_count": null,
   "metadata": {},
   "outputs": [],
   "source": [
    "q3.equals(q3_4)"
   ]
  },
  {
   "cell_type": "markdown",
   "metadata": {},
   "source": [
    "### Apply debug 하기\n",
    "\n",
    "apply 에 적용할 함수에는 인자를 넘겨줄 수 있는데, 이 인자가 어떤 것인지 눈으로 확인하고 싶을 때가 있습니다.\n",
    "그럴 때엔 아래와 같이 중간 단계의 함수를 만들면 편리합니다."
   ]
  },
  {
   "cell_type": "code",
   "execution_count": 32,
   "metadata": {},
   "outputs": [],
   "source": [
    "def limit_countries(val):\n",
    "     if val in  {'United States of America', 'India', 'China'}:\n",
    "         return val\n",
    "     return 'Another'"
   ]
  },
  {
   "cell_type": "code",
   "execution_count": 33,
   "metadata": {},
   "outputs": [],
   "source": [
    "q3 = df.Q3.apply(limit_countries).rename('Country')"
   ]
  },
  {
   "cell_type": "code",
   "execution_count": 34,
   "metadata": {},
   "outputs": [],
   "source": [
    "def debug(something):\n",
    "    # what is something? A cell, series, dataframe?\n",
    "    print(type(something), something)\n",
    "    1/0"
   ]
  },
  {
   "cell_type": "code",
   "execution_count": 35,
   "metadata": {
    "lines_to_next_cell": 2
   },
   "outputs": [
    {
     "name": "stdout",
     "output_type": "stream",
     "text": [
      "<class 'str'> United States of America\n"
     ]
    },
    {
     "ename": "ZeroDivisionError",
     "evalue": "division by zero",
     "output_type": "error",
     "traceback": [
      "\u001b[1;31m---------------------------------------------------------------------------\u001b[0m",
      "\u001b[1;31mZeroDivisionError\u001b[0m                         Traceback (most recent call last)",
      "\u001b[1;32m~\\AppData\\Local\\Temp/ipykernel_14240/2492626713.py\u001b[0m in \u001b[0;36m<module>\u001b[1;34m\u001b[0m\n\u001b[1;32m----> 1\u001b[1;33m \u001b[0mq3\u001b[0m\u001b[1;33m.\u001b[0m\u001b[0mapply\u001b[0m\u001b[1;33m(\u001b[0m\u001b[0mdebug\u001b[0m\u001b[1;33m)\u001b[0m\u001b[1;33m\u001b[0m\u001b[1;33m\u001b[0m\u001b[0m\n\u001b[0m",
      "\u001b[1;32m~\\anaconda3\\lib\\site-packages\\pandas\\core\\series.py\u001b[0m in \u001b[0;36mapply\u001b[1;34m(self, func, convert_dtype, args, **kwargs)\u001b[0m\n\u001b[0;32m   4355\u001b[0m         \u001b[0mdtype\u001b[0m\u001b[1;33m:\u001b[0m \u001b[0mfloat64\u001b[0m\u001b[1;33m\u001b[0m\u001b[1;33m\u001b[0m\u001b[0m\n\u001b[0;32m   4356\u001b[0m         \"\"\"\n\u001b[1;32m-> 4357\u001b[1;33m         \u001b[1;32mreturn\u001b[0m \u001b[0mSeriesApply\u001b[0m\u001b[1;33m(\u001b[0m\u001b[0mself\u001b[0m\u001b[1;33m,\u001b[0m \u001b[0mfunc\u001b[0m\u001b[1;33m,\u001b[0m \u001b[0mconvert_dtype\u001b[0m\u001b[1;33m,\u001b[0m \u001b[0margs\u001b[0m\u001b[1;33m,\u001b[0m \u001b[0mkwargs\u001b[0m\u001b[1;33m)\u001b[0m\u001b[1;33m.\u001b[0m\u001b[0mapply\u001b[0m\u001b[1;33m(\u001b[0m\u001b[1;33m)\u001b[0m\u001b[1;33m\u001b[0m\u001b[1;33m\u001b[0m\u001b[0m\n\u001b[0m\u001b[0;32m   4358\u001b[0m \u001b[1;33m\u001b[0m\u001b[0m\n\u001b[0;32m   4359\u001b[0m     def _reduce(\n",
      "\u001b[1;32m~\\anaconda3\\lib\\site-packages\\pandas\\core\\apply.py\u001b[0m in \u001b[0;36mapply\u001b[1;34m(self)\u001b[0m\n\u001b[0;32m   1041\u001b[0m             \u001b[1;32mreturn\u001b[0m \u001b[0mself\u001b[0m\u001b[1;33m.\u001b[0m\u001b[0mapply_str\u001b[0m\u001b[1;33m(\u001b[0m\u001b[1;33m)\u001b[0m\u001b[1;33m\u001b[0m\u001b[1;33m\u001b[0m\u001b[0m\n\u001b[0;32m   1042\u001b[0m \u001b[1;33m\u001b[0m\u001b[0m\n\u001b[1;32m-> 1043\u001b[1;33m         \u001b[1;32mreturn\u001b[0m \u001b[0mself\u001b[0m\u001b[1;33m.\u001b[0m\u001b[0mapply_standard\u001b[0m\u001b[1;33m(\u001b[0m\u001b[1;33m)\u001b[0m\u001b[1;33m\u001b[0m\u001b[1;33m\u001b[0m\u001b[0m\n\u001b[0m\u001b[0;32m   1044\u001b[0m \u001b[1;33m\u001b[0m\u001b[0m\n\u001b[0;32m   1045\u001b[0m     \u001b[1;32mdef\u001b[0m \u001b[0magg\u001b[0m\u001b[1;33m(\u001b[0m\u001b[0mself\u001b[0m\u001b[1;33m)\u001b[0m\u001b[1;33m:\u001b[0m\u001b[1;33m\u001b[0m\u001b[1;33m\u001b[0m\u001b[0m\n",
      "\u001b[1;32m~\\anaconda3\\lib\\site-packages\\pandas\\core\\apply.py\u001b[0m in \u001b[0;36mapply_standard\u001b[1;34m(self)\u001b[0m\n\u001b[0;32m   1096\u001b[0m                 \u001b[1;31m# List[Union[Callable[..., Any], str]]]]]\"; expected\u001b[0m\u001b[1;33m\u001b[0m\u001b[1;33m\u001b[0m\u001b[1;33m\u001b[0m\u001b[0m\n\u001b[0;32m   1097\u001b[0m                 \u001b[1;31m# \"Callable[[Any], Any]\"\u001b[0m\u001b[1;33m\u001b[0m\u001b[1;33m\u001b[0m\u001b[1;33m\u001b[0m\u001b[0m\n\u001b[1;32m-> 1098\u001b[1;33m                 mapped = lib.map_infer(\n\u001b[0m\u001b[0;32m   1099\u001b[0m                     \u001b[0mvalues\u001b[0m\u001b[1;33m,\u001b[0m\u001b[1;33m\u001b[0m\u001b[1;33m\u001b[0m\u001b[0m\n\u001b[0;32m   1100\u001b[0m                     \u001b[0mf\u001b[0m\u001b[1;33m,\u001b[0m  \u001b[1;31m# type: ignore[arg-type]\u001b[0m\u001b[1;33m\u001b[0m\u001b[1;33m\u001b[0m\u001b[0m\n",
      "\u001b[1;32m~\\anaconda3\\lib\\site-packages\\pandas\\_libs\\lib.pyx\u001b[0m in \u001b[0;36mpandas._libs.lib.map_infer\u001b[1;34m()\u001b[0m\n",
      "\u001b[1;32m~\\AppData\\Local\\Temp/ipykernel_14240/1597696634.py\u001b[0m in \u001b[0;36mdebug\u001b[1;34m(something)\u001b[0m\n\u001b[0;32m      2\u001b[0m     \u001b[1;31m# what is something? A cell, series, dataframe?\u001b[0m\u001b[1;33m\u001b[0m\u001b[1;33m\u001b[0m\u001b[1;33m\u001b[0m\u001b[0m\n\u001b[0;32m      3\u001b[0m     \u001b[0mprint\u001b[0m\u001b[1;33m(\u001b[0m\u001b[0mtype\u001b[0m\u001b[1;33m(\u001b[0m\u001b[0msomething\u001b[0m\u001b[1;33m)\u001b[0m\u001b[1;33m,\u001b[0m \u001b[0msomething\u001b[0m\u001b[1;33m)\u001b[0m\u001b[1;33m\u001b[0m\u001b[1;33m\u001b[0m\u001b[0m\n\u001b[1;32m----> 4\u001b[1;33m     \u001b[1;36m1\u001b[0m\u001b[1;33m/\u001b[0m\u001b[1;36m0\u001b[0m\u001b[1;33m\u001b[0m\u001b[1;33m\u001b[0m\u001b[0m\n\u001b[0m",
      "\u001b[1;31mZeroDivisionError\u001b[0m: division by zero"
     ]
    }
   ],
   "source": [
    "q3.apply(debug)"
   ]
  },
  {
   "cell_type": "code",
   "execution_count": 39,
   "metadata": {},
   "outputs": [],
   "source": [
    "#글로벌 변수를 이용해, 해당 인자를 저장할 수도 있습니다.\n",
    "the_item = None\n",
    "def debug(something):\n",
    "    global the_item\n",
    "    the_item = something\n",
    "    return something"
   ]
  },
  {
   "cell_type": "code",
   "execution_count": 37,
   "metadata": {
    "lines_to_next_cell": 2
   },
   "outputs": [],
   "source": [
    "_ = q3.apply(debug)"
   ]
  },
  {
   "cell_type": "code",
   "execution_count": 38,
   "metadata": {
    "lines_to_next_cell": 2
   },
   "outputs": [
    {
     "data": {
      "text/plain": [
       "'Another'"
      ]
     },
     "execution_count": 38,
     "metadata": {},
     "output_type": "execute_result"
    }
   ],
   "source": [
    "the_item"
   ]
  },
  {
   "cell_type": "markdown",
   "metadata": {},
   "source": [
    "## Improving Apply Performance with Dask, Pandarell, Swifter, and More"
   ]
  },
  {
   "cell_type": "markdown",
   "metadata": {},
   "source": [
    "### How to do it..."
   ]
  },
  {
   "cell_type": "code",
   "execution_count": 47,
   "metadata": {
    "scrolled": true,
    "tags": []
   },
   "outputs": [
    {
     "name": "stdout",
     "output_type": "stream",
     "text": [
      "Requirement already satisfied: pandarallel in c:\\users\\k\\anaconda3\\lib\\site-packages (1.6.1)\n",
      "Requirement already satisfied: dill>=0.3.1 in c:\\users\\k\\anaconda3\\lib\\site-packages (from pandarallel) (0.3.5.1)\n",
      "Requirement already satisfied: pandas>=1 in c:\\users\\k\\anaconda3\\lib\\site-packages (from pandarallel) (1.3.4)\n",
      "Requirement already satisfied: psutil in c:\\users\\k\\anaconda3\\lib\\site-packages (from pandarallel) (5.8.0)\n",
      "Requirement already satisfied: numpy>=1.17.3 in c:\\users\\k\\anaconda3\\lib\\site-packages (from pandas>=1->pandarallel) (1.20.3)\n",
      "Requirement already satisfied: python-dateutil>=2.7.3 in c:\\users\\k\\anaconda3\\lib\\site-packages (from pandas>=1->pandarallel) (2.8.2)\n",
      "Requirement already satisfied: pytz>=2017.3 in c:\\users\\k\\anaconda3\\lib\\site-packages (from pandas>=1->pandarallel) (2021.3)\n",
      "Requirement already satisfied: six>=1.5 in c:\\users\\k\\anaconda3\\lib\\site-packages (from python-dateutil>=2.7.3->pandas>=1->pandarallel) (1.15.0)\n"
     ]
    },
    {
     "name": "stderr",
     "output_type": "stream",
     "text": [
      "WARNING: Ignoring invalid distribution -onlpy (c:\\users\\k\\anaconda3\\lib\\site-packages)\n",
      "WARNING: Ignoring invalid distribution -onlpy (c:\\users\\k\\anaconda3\\lib\\site-packages)\n",
      "WARNING: Ignoring invalid distribution -onlpy (c:\\users\\k\\anaconda3\\lib\\site-packages)\n",
      "WARNING: Ignoring invalid distribution -onlpy (c:\\users\\k\\anaconda3\\lib\\site-packages)\n",
      "WARNING: Ignoring invalid distribution -onlpy (c:\\users\\k\\anaconda3\\lib\\site-packages)\n",
      "WARNING: Ignoring invalid distribution -onlpy (c:\\users\\k\\anaconda3\\lib\\site-packages)\n"
     ]
    },
    {
     "name": "stdout",
     "output_type": "stream",
     "text": [
      "Collecting swifter\n",
      "  Downloading swifter-1.1.3.tar.gz (647 kB)\n",
      "  Preparing metadata (setup.py): started\n",
      "  Preparing metadata (setup.py): finished with status 'done'\n",
      "Requirement already satisfied: pandas>=1.0.0 in c:\\users\\k\\anaconda3\\lib\\site-packages (from swifter) (1.3.4)\n",
      "Requirement already satisfied: psutil>=5.6.6 in c:\\users\\k\\anaconda3\\lib\\site-packages (from swifter) (5.8.0)\n",
      "Requirement already satisfied: dask[dataframe]>=2.10.0 in c:\\users\\k\\anaconda3\\lib\\site-packages (from swifter) (2021.11.2)\n",
      "Requirement already satisfied: tqdm>=4.33.0 in c:\\users\\k\\anaconda3\\lib\\site-packages (from swifter) (4.62.3)\n",
      "Requirement already satisfied: ipywidgets>=7.0.0 in c:\\users\\k\\anaconda3\\lib\\site-packages (from swifter) (7.6.5)\n",
      "Requirement already satisfied: cloudpickle>=0.2.2 in c:\\users\\k\\anaconda3\\lib\\site-packages (from swifter) (2.0.0)\n",
      "Requirement already satisfied: parso>0.4.0 in c:\\users\\k\\anaconda3\\lib\\site-packages (from swifter) (0.7.0)\n",
      "Requirement already satisfied: bleach>=3.1.1 in c:\\users\\k\\anaconda3\\lib\\site-packages (from swifter) (4.1.0)\n",
      "Requirement already satisfied: six>=1.9.0 in c:\\users\\k\\anaconda3\\lib\\site-packages (from bleach>=3.1.1->swifter) (1.15.0)\n",
      "Requirement already satisfied: packaging in c:\\users\\k\\anaconda3\\lib\\site-packages (from bleach>=3.1.1->swifter) (21.3)\n",
      "Requirement already satisfied: webencodings in c:\\users\\k\\anaconda3\\lib\\site-packages (from bleach>=3.1.1->swifter) (0.5.1)\n",
      "Requirement already satisfied: toolz>=0.8.2 in c:\\users\\k\\anaconda3\\lib\\site-packages (from dask[dataframe]>=2.10.0->swifter) (0.11.2)\n",
      "Requirement already satisfied: pyyaml in c:\\users\\k\\anaconda3\\lib\\site-packages (from dask[dataframe]>=2.10.0->swifter) (6.0)\n",
      "Requirement already satisfied: fsspec>=0.6.0 in c:\\users\\k\\anaconda3\\lib\\site-packages (from dask[dataframe]>=2.10.0->swifter) (2021.11.0)\n",
      "Requirement already satisfied: partd>=0.3.10 in c:\\users\\k\\anaconda3\\lib\\site-packages (from dask[dataframe]>=2.10.0->swifter) (1.2.0)\n",
      "Requirement already satisfied: numpy>=1.18 in c:\\users\\k\\anaconda3\\lib\\site-packages (from dask[dataframe]>=2.10.0->swifter) (1.20.3)\n",
      "Requirement already satisfied: traitlets>=4.3.1 in c:\\users\\k\\anaconda3\\lib\\site-packages (from ipywidgets>=7.0.0->swifter) (5.1.1)\n",
      "Requirement already satisfied: ipython-genutils~=0.2.0 in c:\\users\\k\\anaconda3\\lib\\site-packages (from ipywidgets>=7.0.0->swifter) (0.2.0)\n",
      "Requirement already satisfied: nbformat>=4.2.0 in c:\\users\\k\\anaconda3\\lib\\site-packages (from ipywidgets>=7.0.0->swifter) (5.1.3)\n",
      "Requirement already satisfied: ipykernel>=4.5.1 in c:\\users\\k\\anaconda3\\lib\\site-packages (from ipywidgets>=7.0.0->swifter) (6.5.0)\n",
      "Requirement already satisfied: ipython>=4.0.0 in c:\\users\\k\\anaconda3\\lib\\site-packages (from ipywidgets>=7.0.0->swifter) (7.29.0)\n",
      "Requirement already satisfied: jupyterlab-widgets>=1.0.0 in c:\\users\\k\\anaconda3\\lib\\site-packages (from ipywidgets>=7.0.0->swifter) (1.0.2)\n",
      "Requirement already satisfied: widgetsnbextension~=3.5.0 in c:\\users\\k\\anaconda3\\lib\\site-packages (from ipywidgets>=7.0.0->swifter) (3.5.2)\n",
      "Requirement already satisfied: python-dateutil>=2.7.3 in c:\\users\\k\\anaconda3\\lib\\site-packages (from pandas>=1.0.0->swifter) (2.8.2)\n",
      "Requirement already satisfied: pytz>=2017.3 in c:\\users\\k\\anaconda3\\lib\\site-packages (from pandas>=1.0.0->swifter) (2021.3)\n",
      "Requirement already satisfied: colorama in c:\\users\\k\\anaconda3\\lib\\site-packages (from tqdm>=4.33.0->swifter) (0.4.4)\n",
      "Requirement already satisfied: tornado<7.0,>=4.2 in c:\\users\\k\\anaconda3\\lib\\site-packages (from ipykernel>=4.5.1->ipywidgets>=7.0.0->swifter) (6.1)\n",
      "Requirement already satisfied: matplotlib-inline<0.2.0,>=0.1.0 in c:\\users\\k\\anaconda3\\lib\\site-packages (from ipykernel>=4.5.1->ipywidgets>=7.0.0->swifter) (0.1.3)\n",
      "Requirement already satisfied: jupyter-client<8.0 in c:\\users\\k\\anaconda3\\lib\\site-packages (from ipykernel>=4.5.1->ipywidgets>=7.0.0->swifter) (7.1.0)\n",
      "Requirement already satisfied: debugpy<2.0,>=1.0.0 in c:\\users\\k\\anaconda3\\lib\\site-packages (from ipykernel>=4.5.1->ipywidgets>=7.0.0->swifter) (1.5.1)\n",
      "Requirement already satisfied: pickleshare in c:\\users\\k\\anaconda3\\lib\\site-packages (from ipython>=4.0.0->ipywidgets>=7.0.0->swifter) (0.7.5)\n",
      "Requirement already satisfied: backcall in c:\\users\\k\\anaconda3\\lib\\site-packages (from ipython>=4.0.0->ipywidgets>=7.0.0->swifter) (0.2.0)\n",
      "Requirement already satisfied: pygments in c:\\users\\k\\anaconda3\\lib\\site-packages (from ipython>=4.0.0->ipywidgets>=7.0.0->swifter) (2.10.0)\n",
      "Requirement already satisfied: jedi>=0.16 in c:\\users\\k\\anaconda3\\lib\\site-packages (from ipython>=4.0.0->ipywidgets>=7.0.0->swifter) (0.17.2)\n",
      "Requirement already satisfied: decorator in c:\\users\\k\\anaconda3\\lib\\site-packages (from ipython>=4.0.0->ipywidgets>=7.0.0->swifter) (5.1.0)\n",
      "Requirement already satisfied: setuptools>=18.5 in c:\\users\\k\\anaconda3\\lib\\site-packages (from ipython>=4.0.0->ipywidgets>=7.0.0->swifter) (59.2.0)\n",
      "Requirement already satisfied: prompt-toolkit!=3.0.0,!=3.0.1,<3.1.0,>=2.0.0 in c:\\users\\k\\anaconda3\\lib\\site-packages (from ipython>=4.0.0->ipywidgets>=7.0.0->swifter) (3.0.22)\n",
      "Requirement already satisfied: jsonschema!=2.5.0,>=2.4 in c:\\users\\k\\anaconda3\\lib\\site-packages (from nbformat>=4.2.0->ipywidgets>=7.0.0->swifter) (4.2.1)\n",
      "Requirement already satisfied: jupyter-core in c:\\users\\k\\anaconda3\\lib\\site-packages (from nbformat>=4.2.0->ipywidgets>=7.0.0->swifter) (4.9.1)\n",
      "Requirement already satisfied: pyparsing!=3.0.5,>=2.0.2 in c:\\users\\k\\anaconda3\\lib\\site-packages (from packaging->bleach>=3.1.1->swifter) (3.0.6)\n",
      "Requirement already satisfied: locket in c:\\users\\k\\anaconda3\\lib\\site-packages (from partd>=0.3.10->dask[dataframe]>=2.10.0->swifter) (0.2.0)\n",
      "Requirement already satisfied: notebook>=4.4.1 in c:\\users\\k\\anaconda3\\lib\\site-packages (from widgetsnbextension~=3.5.0->ipywidgets>=7.0.0->swifter) (6.4.6)\n",
      "Requirement already satisfied: importlib-resources>=1.4.0 in c:\\users\\k\\anaconda3\\lib\\site-packages (from jsonschema!=2.5.0,>=2.4->nbformat>=4.2.0->ipywidgets>=7.0.0->swifter) (5.4.0)\n",
      "Requirement already satisfied: pyrsistent!=0.17.0,!=0.17.1,!=0.17.2,>=0.14.0 in c:\\users\\k\\anaconda3\\lib\\site-packages (from jsonschema!=2.5.0,>=2.4->nbformat>=4.2.0->ipywidgets>=7.0.0->swifter) (0.18.0)\n",
      "Requirement already satisfied: attrs>=17.4.0 in c:\\users\\k\\anaconda3\\lib\\site-packages (from jsonschema!=2.5.0,>=2.4->nbformat>=4.2.0->ipywidgets>=7.0.0->swifter) (21.2.0)\n",
      "Requirement already satisfied: pyzmq>=13 in c:\\users\\k\\anaconda3\\lib\\site-packages (from jupyter-client<8.0->ipykernel>=4.5.1->ipywidgets>=7.0.0->swifter) (22.3.0)\n",
      "Requirement already satisfied: entrypoints in c:\\users\\k\\anaconda3\\lib\\site-packages (from jupyter-client<8.0->ipykernel>=4.5.1->ipywidgets>=7.0.0->swifter) (0.3)\n",
      "Requirement already satisfied: nest-asyncio>=1.5 in c:\\users\\k\\anaconda3\\lib\\site-packages (from jupyter-client<8.0->ipykernel>=4.5.1->ipywidgets>=7.0.0->swifter) (1.5.1)\n",
      "Requirement already satisfied: pywin32>=1.0 in c:\\users\\k\\anaconda3\\lib\\site-packages (from jupyter-core->nbformat>=4.2.0->ipywidgets>=7.0.0->swifter) (302)\n",
      "Requirement already satisfied: Send2Trash>=1.8.0 in c:\\users\\k\\anaconda3\\lib\\site-packages (from notebook>=4.4.1->widgetsnbextension~=3.5.0->ipywidgets>=7.0.0->swifter) (1.8.0)\n",
      "Requirement already satisfied: jinja2 in c:\\users\\k\\anaconda3\\lib\\site-packages (from notebook>=4.4.1->widgetsnbextension~=3.5.0->ipywidgets>=7.0.0->swifter) (3.0.3)\n",
      "Requirement already satisfied: nbconvert in c:\\users\\k\\anaconda3\\lib\\site-packages (from notebook>=4.4.1->widgetsnbextension~=3.5.0->ipywidgets>=7.0.0->swifter) (6.3.0)\n",
      "Requirement already satisfied: prometheus-client in c:\\users\\k\\anaconda3\\lib\\site-packages (from notebook>=4.4.1->widgetsnbextension~=3.5.0->ipywidgets>=7.0.0->swifter) (0.12.0)\n",
      "Requirement already satisfied: terminado>=0.8.3 in c:\\users\\k\\anaconda3\\lib\\site-packages (from notebook>=4.4.1->widgetsnbextension~=3.5.0->ipywidgets>=7.0.0->swifter) (0.12.1)\n",
      "Requirement already satisfied: argon2-cffi in c:\\users\\k\\anaconda3\\lib\\site-packages (from notebook>=4.4.1->widgetsnbextension~=3.5.0->ipywidgets>=7.0.0->swifter) (21.1.0)\n",
      "Requirement already satisfied: wcwidth in c:\\users\\k\\anaconda3\\lib\\site-packages (from prompt-toolkit!=3.0.0,!=3.0.1,<3.1.0,>=2.0.0->ipython>=4.0.0->ipywidgets>=7.0.0->swifter) (0.2.5)\n",
      "Requirement already satisfied: zipp>=3.1.0 in c:\\users\\k\\anaconda3\\lib\\site-packages (from importlib-resources>=1.4.0->jsonschema!=2.5.0,>=2.4->nbformat>=4.2.0->ipywidgets>=7.0.0->swifter) (3.6.0)\n",
      "Requirement already satisfied: pywinpty>=1.1.0 in c:\\users\\k\\anaconda3\\lib\\site-packages (from terminado>=0.8.3->notebook>=4.4.1->widgetsnbextension~=3.5.0->ipywidgets>=7.0.0->swifter) (1.1.6)\n",
      "Requirement already satisfied: cffi>=1.0.0 in c:\\users\\k\\anaconda3\\lib\\site-packages (from argon2-cffi->notebook>=4.4.1->widgetsnbextension~=3.5.0->ipywidgets>=7.0.0->swifter) (1.15.0)\n",
      "Requirement already satisfied: MarkupSafe>=2.0 in c:\\users\\k\\anaconda3\\lib\\site-packages (from jinja2->notebook>=4.4.1->widgetsnbextension~=3.5.0->ipywidgets>=7.0.0->swifter) (2.0.1)\n",
      "Requirement already satisfied: jupyterlab-pygments in c:\\users\\k\\anaconda3\\lib\\site-packages (from nbconvert->notebook>=4.4.1->widgetsnbextension~=3.5.0->ipywidgets>=7.0.0->swifter) (0.1.2)\n",
      "Requirement already satisfied: testpath in c:\\users\\k\\anaconda3\\lib\\site-packages (from nbconvert->notebook>=4.4.1->widgetsnbextension~=3.5.0->ipywidgets>=7.0.0->swifter) (0.5.0)\n",
      "Requirement already satisfied: nbclient<0.6.0,>=0.5.0 in c:\\users\\k\\anaconda3\\lib\\site-packages (from nbconvert->notebook>=4.4.1->widgetsnbextension~=3.5.0->ipywidgets>=7.0.0->swifter) (0.5.9)\n",
      "Requirement already satisfied: mistune<2,>=0.8.1 in c:\\users\\k\\anaconda3\\lib\\site-packages (from nbconvert->notebook>=4.4.1->widgetsnbextension~=3.5.0->ipywidgets>=7.0.0->swifter) (0.8.4)\n",
      "Requirement already satisfied: pandocfilters>=1.4.1 in c:\\users\\k\\anaconda3\\lib\\site-packages (from nbconvert->notebook>=4.4.1->widgetsnbextension~=3.5.0->ipywidgets>=7.0.0->swifter) (1.5.0)\n",
      "Requirement already satisfied: defusedxml in c:\\users\\k\\anaconda3\\lib\\site-packages (from nbconvert->notebook>=4.4.1->widgetsnbextension~=3.5.0->ipywidgets>=7.0.0->swifter) (0.7.1)\n",
      "Requirement already satisfied: pycparser in c:\\users\\k\\anaconda3\\lib\\site-packages (from cffi>=1.0.0->argon2-cffi->notebook>=4.4.1->widgetsnbextension~=3.5.0->ipywidgets>=7.0.0->swifter) (2.21)\n",
      "Building wheels for collected packages: swifter\n",
      "  Building wheel for swifter (setup.py): started\n",
      "  Building wheel for swifter (setup.py): finished with status 'done'\n",
      "  Created wheel for swifter: filename=swifter-1.1.3-py3-none-any.whl size=13077 sha256=24bd972a88ed230bc5c8d966e4d4283f6ee73b56171395da21b44ba403b5eb28\n",
      "  Stored in directory: c:\\users\\k\\appdata\\local\\pip\\cache\\wheels\\eb\\11\\ab\\0b6c21c1ae17d57b6005df3f022fb7a6ce3c769cdaeb35f258\n",
      "Successfully built swifter\n",
      "Installing collected packages: swifter\n",
      "Successfully installed swifter-1.1.3\n"
     ]
    },
    {
     "name": "stderr",
     "output_type": "stream",
     "text": [
      "WARNING: Ignoring invalid distribution -onlpy (c:\\users\\k\\anaconda3\\lib\\site-packages)\n",
      "WARNING: Ignoring invalid distribution -onlpy (c:\\users\\k\\anaconda3\\lib\\site-packages)\n",
      "WARNING: Ignoring invalid distribution -onlpy (c:\\users\\k\\anaconda3\\lib\\site-packages)\n",
      "WARNING: Ignoring invalid distribution -onlpy (c:\\users\\k\\anaconda3\\lib\\site-packages)\n",
      "WARNING: Ignoring invalid distribution -onlpy (c:\\users\\k\\anaconda3\\lib\\site-packages)\n",
      "WARNING: Ignoring invalid distribution -onlpy (c:\\users\\k\\anaconda3\\lib\\site-packages)\n",
      "WARNING: Ignoring invalid distribution -onlpy (c:\\users\\k\\anaconda3\\lib\\site-packages)\n"
     ]
    }
   ],
   "source": [
    "!pip install pandarallel\n",
    "!pip install swifter"
   ]
  },
  {
   "cell_type": "code",
   "execution_count": 42,
   "metadata": {},
   "outputs": [
    {
     "name": "stdout",
     "output_type": "stream",
     "text": [
      "INFO: Pandarallel will run on 6 workers.\n",
      "INFO: Pandarallel will use standard multiprocessing data transfer (pipe) to transfer data between the main process and workers.\n",
      "\n",
      "WARNING: You are on Windows. If you detect any issue with pandarallel, be sure you checked out the Troubleshooting page:\n",
      "https://nalepae.github.io/pandarallel/troubleshooting/\n"
     ]
    }
   ],
   "source": [
    "from pandarallel import pandarallel\n",
    "pandarallel.initialize()"
   ]
  },
  {
   "cell_type": "code",
   "execution_count": 43,
   "metadata": {},
   "outputs": [],
   "source": [
    "def limit_countries(val):\n",
    "     if val in  {'United States of America', 'India', 'China'}:\n",
    "         return val\n",
    "     return 'Another'"
   ]
  },
  {
   "cell_type": "code",
   "execution_count": 46,
   "metadata": {
    "lines_to_next_cell": 2
   },
   "outputs": [
    {
     "name": "stdout",
     "output_type": "stream",
     "text": [
      "2.11 s ± 122 ms per loop (mean ± std. dev. of 7 runs, 1 loop each)\n"
     ]
    }
   ],
   "source": [
    "%%timeit\n",
    "res_p = df.Q3.parallel_apply(limit_countries).rename('Country')"
   ]
  },
  {
   "cell_type": "code",
   "execution_count": 48,
   "metadata": {
    "lines_to_next_cell": 2
   },
   "outputs": [],
   "source": [
    "import swifter"
   ]
  },
  {
   "cell_type": "code",
   "execution_count": 49,
   "metadata": {
    "lines_to_next_cell": 2
   },
   "outputs": [
    {
     "data": {
      "application/vnd.jupyter.widget-view+json": {
       "model_id": "90b680e8524641ad98e5739c6d81a235",
       "version_major": 2,
       "version_minor": 0
      },
      "text/plain": [
       "Pandas Apply:   0%|          | 0/23859 [00:00<?, ?it/s]"
      ]
     },
     "metadata": {},
     "output_type": "display_data"
    },
    {
     "data": {
      "application/vnd.jupyter.widget-view+json": {
       "model_id": "ae541461413a48938b1e1e541d7738c5",
       "version_major": 2,
       "version_minor": 0
      },
      "text/plain": [
       "Pandas Apply:   0%|          | 0/23859 [00:00<?, ?it/s]"
      ]
     },
     "metadata": {},
     "output_type": "display_data"
    },
    {
     "data": {
      "application/vnd.jupyter.widget-view+json": {
       "model_id": "f4958f79a2de48188e961bfdc477f391",
       "version_major": 2,
       "version_minor": 0
      },
      "text/plain": [
       "Pandas Apply:   0%|          | 0/23859 [00:00<?, ?it/s]"
      ]
     },
     "metadata": {},
     "output_type": "display_data"
    },
    {
     "data": {
      "application/vnd.jupyter.widget-view+json": {
       "model_id": "762bbc4122714ce9a1b06cd69dbed1d0",
       "version_major": 2,
       "version_minor": 0
      },
      "text/plain": [
       "Pandas Apply:   0%|          | 0/23859 [00:00<?, ?it/s]"
      ]
     },
     "metadata": {},
     "output_type": "display_data"
    },
    {
     "data": {
      "application/vnd.jupyter.widget-view+json": {
       "model_id": "e0932b8458ea4f5181df7c65ff659d95",
       "version_major": 2,
       "version_minor": 0
      },
      "text/plain": [
       "Pandas Apply:   0%|          | 0/23859 [00:00<?, ?it/s]"
      ]
     },
     "metadata": {},
     "output_type": "display_data"
    },
    {
     "data": {
      "application/vnd.jupyter.widget-view+json": {
       "model_id": "29e7e48ddc2f46c2a6034bec41a15986",
       "version_major": 2,
       "version_minor": 0
      },
      "text/plain": [
       "Pandas Apply:   0%|          | 0/23859 [00:00<?, ?it/s]"
      ]
     },
     "metadata": {},
     "output_type": "display_data"
    },
    {
     "data": {
      "application/vnd.jupyter.widget-view+json": {
       "model_id": "58579499b5f345ef8f20d4e859a539f4",
       "version_major": 2,
       "version_minor": 0
      },
      "text/plain": [
       "Pandas Apply:   0%|          | 0/23859 [00:00<?, ?it/s]"
      ]
     },
     "metadata": {},
     "output_type": "display_data"
    },
    {
     "data": {
      "application/vnd.jupyter.widget-view+json": {
       "model_id": "ba064aea23714157aed2c97e9880ff18",
       "version_major": 2,
       "version_minor": 0
      },
      "text/plain": [
       "Pandas Apply:   0%|          | 0/23859 [00:00<?, ?it/s]"
      ]
     },
     "metadata": {},
     "output_type": "display_data"
    },
    {
     "data": {
      "application/vnd.jupyter.widget-view+json": {
       "model_id": "d9b43bf576a3494497c207185bbdfb75",
       "version_major": 2,
       "version_minor": 0
      },
      "text/plain": [
       "Pandas Apply:   0%|          | 0/23859 [00:00<?, ?it/s]"
      ]
     },
     "metadata": {},
     "output_type": "display_data"
    },
    {
     "data": {
      "application/vnd.jupyter.widget-view+json": {
       "model_id": "a50ee3dcb66942798588dee3e68a8380",
       "version_major": 2,
       "version_minor": 0
      },
      "text/plain": [
       "Pandas Apply:   0%|          | 0/23859 [00:00<?, ?it/s]"
      ]
     },
     "metadata": {},
     "output_type": "display_data"
    },
    {
     "data": {
      "application/vnd.jupyter.widget-view+json": {
       "model_id": "3219621728db48b89055a314a8f305a7",
       "version_major": 2,
       "version_minor": 0
      },
      "text/plain": [
       "Pandas Apply:   0%|          | 0/23859 [00:00<?, ?it/s]"
      ]
     },
     "metadata": {},
     "output_type": "display_data"
    },
    {
     "data": {
      "application/vnd.jupyter.widget-view+json": {
       "model_id": "76964b580a3b4972a615f4d97b92b569",
       "version_major": 2,
       "version_minor": 0
      },
      "text/plain": [
       "Pandas Apply:   0%|          | 0/23859 [00:00<?, ?it/s]"
      ]
     },
     "metadata": {},
     "output_type": "display_data"
    },
    {
     "data": {
      "application/vnd.jupyter.widget-view+json": {
       "model_id": "490eee0dd7674027bdc0206211935255",
       "version_major": 2,
       "version_minor": 0
      },
      "text/plain": [
       "Pandas Apply:   0%|          | 0/23859 [00:00<?, ?it/s]"
      ]
     },
     "metadata": {},
     "output_type": "display_data"
    },
    {
     "data": {
      "application/vnd.jupyter.widget-view+json": {
       "model_id": "9f2d4338536245b3aa53ab25a6246fa2",
       "version_major": 2,
       "version_minor": 0
      },
      "text/plain": [
       "Pandas Apply:   0%|          | 0/23859 [00:00<?, ?it/s]"
      ]
     },
     "metadata": {},
     "output_type": "display_data"
    },
    {
     "data": {
      "application/vnd.jupyter.widget-view+json": {
       "model_id": "275e5588368d4334a585952bc0791897",
       "version_major": 2,
       "version_minor": 0
      },
      "text/plain": [
       "Pandas Apply:   0%|          | 0/23859 [00:00<?, ?it/s]"
      ]
     },
     "metadata": {},
     "output_type": "display_data"
    },
    {
     "data": {
      "application/vnd.jupyter.widget-view+json": {
       "model_id": "8dbd067f15124f89a35624e8c11b3ae0",
       "version_major": 2,
       "version_minor": 0
      },
      "text/plain": [
       "Pandas Apply:   0%|          | 0/23859 [00:00<?, ?it/s]"
      ]
     },
     "metadata": {},
     "output_type": "display_data"
    },
    {
     "data": {
      "application/vnd.jupyter.widget-view+json": {
       "model_id": "514734e20b234e49a8ebfe18f2706af4",
       "version_major": 2,
       "version_minor": 0
      },
      "text/plain": [
       "Pandas Apply:   0%|          | 0/23859 [00:00<?, ?it/s]"
      ]
     },
     "metadata": {},
     "output_type": "display_data"
    },
    {
     "data": {
      "application/vnd.jupyter.widget-view+json": {
       "model_id": "f272e4b0f8f44a4c8b4e74b31d39c2ca",
       "version_major": 2,
       "version_minor": 0
      },
      "text/plain": [
       "Pandas Apply:   0%|          | 0/23859 [00:00<?, ?it/s]"
      ]
     },
     "metadata": {},
     "output_type": "display_data"
    },
    {
     "data": {
      "application/vnd.jupyter.widget-view+json": {
       "model_id": "7d3186439b7b475a87ccd24a549e5ce1",
       "version_major": 2,
       "version_minor": 0
      },
      "text/plain": [
       "Pandas Apply:   0%|          | 0/23859 [00:00<?, ?it/s]"
      ]
     },
     "metadata": {},
     "output_type": "display_data"
    },
    {
     "data": {
      "application/vnd.jupyter.widget-view+json": {
       "model_id": "2e6c67604b244d87aadefca4781bc319",
       "version_major": 2,
       "version_minor": 0
      },
      "text/plain": [
       "Pandas Apply:   0%|          | 0/23859 [00:00<?, ?it/s]"
      ]
     },
     "metadata": {},
     "output_type": "display_data"
    },
    {
     "data": {
      "application/vnd.jupyter.widget-view+json": {
       "model_id": "ef25295a6ed745ef82d6cdbae6e9e6ef",
       "version_major": 2,
       "version_minor": 0
      },
      "text/plain": [
       "Pandas Apply:   0%|          | 0/23859 [00:00<?, ?it/s]"
      ]
     },
     "metadata": {},
     "output_type": "display_data"
    },
    {
     "data": {
      "application/vnd.jupyter.widget-view+json": {
       "model_id": "a5602ba661464918869e4d7b1fd2cfb9",
       "version_major": 2,
       "version_minor": 0
      },
      "text/plain": [
       "Pandas Apply:   0%|          | 0/23859 [00:00<?, ?it/s]"
      ]
     },
     "metadata": {},
     "output_type": "display_data"
    },
    {
     "data": {
      "application/vnd.jupyter.widget-view+json": {
       "model_id": "750c82759f5240f1a1a8a2e4a6883857",
       "version_major": 2,
       "version_minor": 0
      },
      "text/plain": [
       "Pandas Apply:   0%|          | 0/23859 [00:00<?, ?it/s]"
      ]
     },
     "metadata": {},
     "output_type": "display_data"
    },
    {
     "data": {
      "application/vnd.jupyter.widget-view+json": {
       "model_id": "784647e05c5e4cb39bbd435524dbc83c",
       "version_major": 2,
       "version_minor": 0
      },
      "text/plain": [
       "Pandas Apply:   0%|          | 0/23859 [00:00<?, ?it/s]"
      ]
     },
     "metadata": {},
     "output_type": "display_data"
    },
    {
     "data": {
      "application/vnd.jupyter.widget-view+json": {
       "model_id": "96a59f74181d44619edc327e4104d731",
       "version_major": 2,
       "version_minor": 0
      },
      "text/plain": [
       "Pandas Apply:   0%|          | 0/23859 [00:00<?, ?it/s]"
      ]
     },
     "metadata": {},
     "output_type": "display_data"
    },
    {
     "data": {
      "application/vnd.jupyter.widget-view+json": {
       "model_id": "02d875683cb14776a1af1eee6f1c4d1c",
       "version_major": 2,
       "version_minor": 0
      },
      "text/plain": [
       "Pandas Apply:   0%|          | 0/23859 [00:00<?, ?it/s]"
      ]
     },
     "metadata": {},
     "output_type": "display_data"
    },
    {
     "data": {
      "application/vnd.jupyter.widget-view+json": {
       "model_id": "7dee9285ff4f4215be2aa162706374aa",
       "version_major": 2,
       "version_minor": 0
      },
      "text/plain": [
       "Pandas Apply:   0%|          | 0/23859 [00:00<?, ?it/s]"
      ]
     },
     "metadata": {},
     "output_type": "display_data"
    },
    {
     "data": {
      "application/vnd.jupyter.widget-view+json": {
       "model_id": "bc1e5fc7975240f081ddf7422ae310e2",
       "version_major": 2,
       "version_minor": 0
      },
      "text/plain": [
       "Pandas Apply:   0%|          | 0/23859 [00:00<?, ?it/s]"
      ]
     },
     "metadata": {},
     "output_type": "display_data"
    },
    {
     "data": {
      "application/vnd.jupyter.widget-view+json": {
       "model_id": "eaff5428461f4724af00d3b933f9ffea",
       "version_major": 2,
       "version_minor": 0
      },
      "text/plain": [
       "Pandas Apply:   0%|          | 0/23859 [00:00<?, ?it/s]"
      ]
     },
     "metadata": {},
     "output_type": "display_data"
    },
    {
     "data": {
      "application/vnd.jupyter.widget-view+json": {
       "model_id": "e083745fbaec427a8b18ab49657e473e",
       "version_major": 2,
       "version_minor": 0
      },
      "text/plain": [
       "Pandas Apply:   0%|          | 0/23859 [00:00<?, ?it/s]"
      ]
     },
     "metadata": {},
     "output_type": "display_data"
    },
    {
     "data": {
      "application/vnd.jupyter.widget-view+json": {
       "model_id": "83309e8e0f3e434aa4a651f75a976b5d",
       "version_major": 2,
       "version_minor": 0
      },
      "text/plain": [
       "Pandas Apply:   0%|          | 0/23859 [00:00<?, ?it/s]"
      ]
     },
     "metadata": {},
     "output_type": "display_data"
    },
    {
     "data": {
      "application/vnd.jupyter.widget-view+json": {
       "model_id": "c591242c8ac94ea9991f8c1f35b3fa5f",
       "version_major": 2,
       "version_minor": 0
      },
      "text/plain": [
       "Pandas Apply:   0%|          | 0/23859 [00:00<?, ?it/s]"
      ]
     },
     "metadata": {},
     "output_type": "display_data"
    },
    {
     "data": {
      "application/vnd.jupyter.widget-view+json": {
       "model_id": "6a8c276119114e818eb16d3cbcebdd34",
       "version_major": 2,
       "version_minor": 0
      },
      "text/plain": [
       "Pandas Apply:   0%|          | 0/23859 [00:00<?, ?it/s]"
      ]
     },
     "metadata": {},
     "output_type": "display_data"
    },
    {
     "data": {
      "application/vnd.jupyter.widget-view+json": {
       "model_id": "c0f324e25296455cbf0cb8aab57aa4b8",
       "version_major": 2,
       "version_minor": 0
      },
      "text/plain": [
       "Pandas Apply:   0%|          | 0/23859 [00:00<?, ?it/s]"
      ]
     },
     "metadata": {},
     "output_type": "display_data"
    },
    {
     "data": {
      "application/vnd.jupyter.widget-view+json": {
       "model_id": "d044ec1442444bb79e519386c3ebaea9",
       "version_major": 2,
       "version_minor": 0
      },
      "text/plain": [
       "Pandas Apply:   0%|          | 0/23859 [00:00<?, ?it/s]"
      ]
     },
     "metadata": {},
     "output_type": "display_data"
    },
    {
     "data": {
      "application/vnd.jupyter.widget-view+json": {
       "model_id": "43cdf34608734035b5a739840a9c1660",
       "version_major": 2,
       "version_minor": 0
      },
      "text/plain": [
       "Pandas Apply:   0%|          | 0/23859 [00:00<?, ?it/s]"
      ]
     },
     "metadata": {},
     "output_type": "display_data"
    },
    {
     "data": {
      "application/vnd.jupyter.widget-view+json": {
       "model_id": "a125ed471d9d489ca90a470b2aed1267",
       "version_major": 2,
       "version_minor": 0
      },
      "text/plain": [
       "Pandas Apply:   0%|          | 0/23859 [00:00<?, ?it/s]"
      ]
     },
     "metadata": {},
     "output_type": "display_data"
    },
    {
     "data": {
      "application/vnd.jupyter.widget-view+json": {
       "model_id": "dbe72f21c2244c3b911eb04fcb713daf",
       "version_major": 2,
       "version_minor": 0
      },
      "text/plain": [
       "Pandas Apply:   0%|          | 0/23859 [00:00<?, ?it/s]"
      ]
     },
     "metadata": {},
     "output_type": "display_data"
    },
    {
     "data": {
      "application/vnd.jupyter.widget-view+json": {
       "model_id": "7e2a6ed47e14440a870c5abf1e13a80b",
       "version_major": 2,
       "version_minor": 0
      },
      "text/plain": [
       "Pandas Apply:   0%|          | 0/23859 [00:00<?, ?it/s]"
      ]
     },
     "metadata": {},
     "output_type": "display_data"
    },
    {
     "data": {
      "application/vnd.jupyter.widget-view+json": {
       "model_id": "c7fb597b52e449d0bdddf5d79ef269e9",
       "version_major": 2,
       "version_minor": 0
      },
      "text/plain": [
       "Pandas Apply:   0%|          | 0/23859 [00:00<?, ?it/s]"
      ]
     },
     "metadata": {},
     "output_type": "display_data"
    },
    {
     "data": {
      "application/vnd.jupyter.widget-view+json": {
       "model_id": "2ad49b42eb634a3687af64301c8d2ef1",
       "version_major": 2,
       "version_minor": 0
      },
      "text/plain": [
       "Pandas Apply:   0%|          | 0/23859 [00:00<?, ?it/s]"
      ]
     },
     "metadata": {},
     "output_type": "display_data"
    },
    {
     "data": {
      "application/vnd.jupyter.widget-view+json": {
       "model_id": "9d226514f8dc4a81b2f122ba449a903e",
       "version_major": 2,
       "version_minor": 0
      },
      "text/plain": [
       "Pandas Apply:   0%|          | 0/23859 [00:00<?, ?it/s]"
      ]
     },
     "metadata": {},
     "output_type": "display_data"
    },
    {
     "data": {
      "application/vnd.jupyter.widget-view+json": {
       "model_id": "3bf38d3ef85b4de991c5aa35d0cb9f3d",
       "version_major": 2,
       "version_minor": 0
      },
      "text/plain": [
       "Pandas Apply:   0%|          | 0/23859 [00:00<?, ?it/s]"
      ]
     },
     "metadata": {},
     "output_type": "display_data"
    },
    {
     "data": {
      "application/vnd.jupyter.widget-view+json": {
       "model_id": "8ed115b4cbee4841b8fe3056c2f5c369",
       "version_major": 2,
       "version_minor": 0
      },
      "text/plain": [
       "Pandas Apply:   0%|          | 0/23859 [00:00<?, ?it/s]"
      ]
     },
     "metadata": {},
     "output_type": "display_data"
    },
    {
     "data": {
      "application/vnd.jupyter.widget-view+json": {
       "model_id": "c85e8f854f2c49c9a309d57490d3ae1b",
       "version_major": 2,
       "version_minor": 0
      },
      "text/plain": [
       "Pandas Apply:   0%|          | 0/23859 [00:00<?, ?it/s]"
      ]
     },
     "metadata": {},
     "output_type": "display_data"
    },
    {
     "data": {
      "application/vnd.jupyter.widget-view+json": {
       "model_id": "cfb0e7cea86f4de7b88dfc5958d72d7d",
       "version_major": 2,
       "version_minor": 0
      },
      "text/plain": [
       "Pandas Apply:   0%|          | 0/23859 [00:00<?, ?it/s]"
      ]
     },
     "metadata": {},
     "output_type": "display_data"
    },
    {
     "data": {
      "application/vnd.jupyter.widget-view+json": {
       "model_id": "3011b687e1144f5f98dbed7907687ec5",
       "version_major": 2,
       "version_minor": 0
      },
      "text/plain": [
       "Pandas Apply:   0%|          | 0/23859 [00:00<?, ?it/s]"
      ]
     },
     "metadata": {},
     "output_type": "display_data"
    },
    {
     "data": {
      "application/vnd.jupyter.widget-view+json": {
       "model_id": "3282b85774d546a4b3af056937d01622",
       "version_major": 2,
       "version_minor": 0
      },
      "text/plain": [
       "Pandas Apply:   0%|          | 0/23859 [00:00<?, ?it/s]"
      ]
     },
     "metadata": {},
     "output_type": "display_data"
    },
    {
     "data": {
      "application/vnd.jupyter.widget-view+json": {
       "model_id": "dd6ced15eb57478f92656338ccf55e39",
       "version_major": 2,
       "version_minor": 0
      },
      "text/plain": [
       "Pandas Apply:   0%|          | 0/23859 [00:00<?, ?it/s]"
      ]
     },
     "metadata": {},
     "output_type": "display_data"
    },
    {
     "data": {
      "application/vnd.jupyter.widget-view+json": {
       "model_id": "e95ee8ffeaeb47e4a5ec2af3e8db8303",
       "version_major": 2,
       "version_minor": 0
      },
      "text/plain": [
       "Pandas Apply:   0%|          | 0/23859 [00:00<?, ?it/s]"
      ]
     },
     "metadata": {},
     "output_type": "display_data"
    },
    {
     "data": {
      "application/vnd.jupyter.widget-view+json": {
       "model_id": "853c664a8adf47598b2537fa270ccd23",
       "version_major": 2,
       "version_minor": 0
      },
      "text/plain": [
       "Pandas Apply:   0%|          | 0/23859 [00:00<?, ?it/s]"
      ]
     },
     "metadata": {},
     "output_type": "display_data"
    },
    {
     "data": {
      "application/vnd.jupyter.widget-view+json": {
       "model_id": "9848259b206e4f98ae7197ec0e2b1435",
       "version_major": 2,
       "version_minor": 0
      },
      "text/plain": [
       "Pandas Apply:   0%|          | 0/23859 [00:00<?, ?it/s]"
      ]
     },
     "metadata": {},
     "output_type": "display_data"
    },
    {
     "data": {
      "application/vnd.jupyter.widget-view+json": {
       "model_id": "c7eb502a8e7d43369c823934b017fc64",
       "version_major": 2,
       "version_minor": 0
      },
      "text/plain": [
       "Pandas Apply:   0%|          | 0/23859 [00:00<?, ?it/s]"
      ]
     },
     "metadata": {},
     "output_type": "display_data"
    },
    {
     "data": {
      "application/vnd.jupyter.widget-view+json": {
       "model_id": "801c59f20eaf4adc96746dc5bd2a55bc",
       "version_major": 2,
       "version_minor": 0
      },
      "text/plain": [
       "Pandas Apply:   0%|          | 0/23859 [00:00<?, ?it/s]"
      ]
     },
     "metadata": {},
     "output_type": "display_data"
    },
    {
     "data": {
      "application/vnd.jupyter.widget-view+json": {
       "model_id": "33e95de8b14b46a296d9bfc9c88cf7a6",
       "version_major": 2,
       "version_minor": 0
      },
      "text/plain": [
       "Pandas Apply:   0%|          | 0/23859 [00:00<?, ?it/s]"
      ]
     },
     "metadata": {},
     "output_type": "display_data"
    },
    {
     "data": {
      "application/vnd.jupyter.widget-view+json": {
       "model_id": "973347bafdf3491d9f28bb66422cb8f1",
       "version_major": 2,
       "version_minor": 0
      },
      "text/plain": [
       "Pandas Apply:   0%|          | 0/23859 [00:00<?, ?it/s]"
      ]
     },
     "metadata": {},
     "output_type": "display_data"
    },
    {
     "data": {
      "application/vnd.jupyter.widget-view+json": {
       "model_id": "5691d43fd8034dfaa4c88db856dd169e",
       "version_major": 2,
       "version_minor": 0
      },
      "text/plain": [
       "Pandas Apply:   0%|          | 0/23859 [00:00<?, ?it/s]"
      ]
     },
     "metadata": {},
     "output_type": "display_data"
    },
    {
     "data": {
      "application/vnd.jupyter.widget-view+json": {
       "model_id": "13bba08bda4d4f989238ebb71be67af4",
       "version_major": 2,
       "version_minor": 0
      },
      "text/plain": [
       "Pandas Apply:   0%|          | 0/23859 [00:00<?, ?it/s]"
      ]
     },
     "metadata": {},
     "output_type": "display_data"
    },
    {
     "data": {
      "application/vnd.jupyter.widget-view+json": {
       "model_id": "bae1b7f94aa44e7cb3dbe0a8b1a69ca9",
       "version_major": 2,
       "version_minor": 0
      },
      "text/plain": [
       "Pandas Apply:   0%|          | 0/23859 [00:00<?, ?it/s]"
      ]
     },
     "metadata": {},
     "output_type": "display_data"
    },
    {
     "data": {
      "application/vnd.jupyter.widget-view+json": {
       "model_id": "c626ab8b932449188c227c24072e87e1",
       "version_major": 2,
       "version_minor": 0
      },
      "text/plain": [
       "Pandas Apply:   0%|          | 0/23859 [00:00<?, ?it/s]"
      ]
     },
     "metadata": {},
     "output_type": "display_data"
    },
    {
     "data": {
      "application/vnd.jupyter.widget-view+json": {
       "model_id": "bbda1aa8a4544cefbc82b3140c8860cb",
       "version_major": 2,
       "version_minor": 0
      },
      "text/plain": [
       "Pandas Apply:   0%|          | 0/23859 [00:00<?, ?it/s]"
      ]
     },
     "metadata": {},
     "output_type": "display_data"
    },
    {
     "data": {
      "application/vnd.jupyter.widget-view+json": {
       "model_id": "069fc977eaae4c4e8dc484f930cca78b",
       "version_major": 2,
       "version_minor": 0
      },
      "text/plain": [
       "Pandas Apply:   0%|          | 0/23859 [00:00<?, ?it/s]"
      ]
     },
     "metadata": {},
     "output_type": "display_data"
    },
    {
     "data": {
      "application/vnd.jupyter.widget-view+json": {
       "model_id": "57593195a4e5488e87a098ddd333ba0b",
       "version_major": 2,
       "version_minor": 0
      },
      "text/plain": [
       "Pandas Apply:   0%|          | 0/23859 [00:00<?, ?it/s]"
      ]
     },
     "metadata": {},
     "output_type": "display_data"
    },
    {
     "data": {
      "application/vnd.jupyter.widget-view+json": {
       "model_id": "7a55e10bce394be1a740779cc7ca8752",
       "version_major": 2,
       "version_minor": 0
      },
      "text/plain": [
       "Pandas Apply:   0%|          | 0/23859 [00:00<?, ?it/s]"
      ]
     },
     "metadata": {},
     "output_type": "display_data"
    },
    {
     "data": {
      "application/vnd.jupyter.widget-view+json": {
       "model_id": "edef7a1bae994013823cd4245b85272f",
       "version_major": 2,
       "version_minor": 0
      },
      "text/plain": [
       "Pandas Apply:   0%|          | 0/23859 [00:00<?, ?it/s]"
      ]
     },
     "metadata": {},
     "output_type": "display_data"
    },
    {
     "data": {
      "application/vnd.jupyter.widget-view+json": {
       "model_id": "71779084b10a4726be74315a728bcf34",
       "version_major": 2,
       "version_minor": 0
      },
      "text/plain": [
       "Pandas Apply:   0%|          | 0/23859 [00:00<?, ?it/s]"
      ]
     },
     "metadata": {},
     "output_type": "display_data"
    },
    {
     "data": {
      "application/vnd.jupyter.widget-view+json": {
       "model_id": "a1842ecd5331461e873ce0f465c9d1cf",
       "version_major": 2,
       "version_minor": 0
      },
      "text/plain": [
       "Pandas Apply:   0%|          | 0/23859 [00:00<?, ?it/s]"
      ]
     },
     "metadata": {},
     "output_type": "display_data"
    },
    {
     "data": {
      "application/vnd.jupyter.widget-view+json": {
       "model_id": "21e1ab9df87946fabf7dc56883cb8843",
       "version_major": 2,
       "version_minor": 0
      },
      "text/plain": [
       "Pandas Apply:   0%|          | 0/23859 [00:00<?, ?it/s]"
      ]
     },
     "metadata": {},
     "output_type": "display_data"
    },
    {
     "data": {
      "application/vnd.jupyter.widget-view+json": {
       "model_id": "4726bd03039641698dc78b6f653a77fd",
       "version_major": 2,
       "version_minor": 0
      },
      "text/plain": [
       "Pandas Apply:   0%|          | 0/23859 [00:00<?, ?it/s]"
      ]
     },
     "metadata": {},
     "output_type": "display_data"
    },
    {
     "data": {
      "application/vnd.jupyter.widget-view+json": {
       "model_id": "ca71032106ab426cad1037d4c9a6ea5a",
       "version_major": 2,
       "version_minor": 0
      },
      "text/plain": [
       "Pandas Apply:   0%|          | 0/23859 [00:00<?, ?it/s]"
      ]
     },
     "metadata": {},
     "output_type": "display_data"
    },
    {
     "data": {
      "application/vnd.jupyter.widget-view+json": {
       "model_id": "511d7c96555646a1abc7e5729dffc216",
       "version_major": 2,
       "version_minor": 0
      },
      "text/plain": [
       "Pandas Apply:   0%|          | 0/23859 [00:00<?, ?it/s]"
      ]
     },
     "metadata": {},
     "output_type": "display_data"
    },
    {
     "data": {
      "application/vnd.jupyter.widget-view+json": {
       "model_id": "0226a5850fdc4894adb9b4ee1102fadb",
       "version_major": 2,
       "version_minor": 0
      },
      "text/plain": [
       "Pandas Apply:   0%|          | 0/23859 [00:00<?, ?it/s]"
      ]
     },
     "metadata": {},
     "output_type": "display_data"
    },
    {
     "data": {
      "application/vnd.jupyter.widget-view+json": {
       "model_id": "3f5afb81d9ca4de586c72d561062b19e",
       "version_major": 2,
       "version_minor": 0
      },
      "text/plain": [
       "Pandas Apply:   0%|          | 0/23859 [00:00<?, ?it/s]"
      ]
     },
     "metadata": {},
     "output_type": "display_data"
    },
    {
     "data": {
      "application/vnd.jupyter.widget-view+json": {
       "model_id": "939c89659b844d6d8eb21158428e5f3c",
       "version_major": 2,
       "version_minor": 0
      },
      "text/plain": [
       "Pandas Apply:   0%|          | 0/23859 [00:00<?, ?it/s]"
      ]
     },
     "metadata": {},
     "output_type": "display_data"
    },
    {
     "data": {
      "application/vnd.jupyter.widget-view+json": {
       "model_id": "879866c650604f18942ae5b6f255804b",
       "version_major": 2,
       "version_minor": 0
      },
      "text/plain": [
       "Pandas Apply:   0%|          | 0/23859 [00:00<?, ?it/s]"
      ]
     },
     "metadata": {},
     "output_type": "display_data"
    },
    {
     "data": {
      "application/vnd.jupyter.widget-view+json": {
       "model_id": "e44a2e6e5f1f4e8c91c725fbf733ad2e",
       "version_major": 2,
       "version_minor": 0
      },
      "text/plain": [
       "Pandas Apply:   0%|          | 0/23859 [00:00<?, ?it/s]"
      ]
     },
     "metadata": {},
     "output_type": "display_data"
    },
    {
     "data": {
      "application/vnd.jupyter.widget-view+json": {
       "model_id": "29ee119f3762476fba317b2e0f5a02cf",
       "version_major": 2,
       "version_minor": 0
      },
      "text/plain": [
       "Pandas Apply:   0%|          | 0/23859 [00:00<?, ?it/s]"
      ]
     },
     "metadata": {},
     "output_type": "display_data"
    },
    {
     "data": {
      "application/vnd.jupyter.widget-view+json": {
       "model_id": "461c6c7a12a64aabbeda39419d1c7416",
       "version_major": 2,
       "version_minor": 0
      },
      "text/plain": [
       "Pandas Apply:   0%|          | 0/23859 [00:00<?, ?it/s]"
      ]
     },
     "metadata": {},
     "output_type": "display_data"
    },
    {
     "data": {
      "application/vnd.jupyter.widget-view+json": {
       "model_id": "5fbf059a95034fd78ad2493baa55e918",
       "version_major": 2,
       "version_minor": 0
      },
      "text/plain": [
       "Pandas Apply:   0%|          | 0/23859 [00:00<?, ?it/s]"
      ]
     },
     "metadata": {},
     "output_type": "display_data"
    },
    {
     "data": {
      "application/vnd.jupyter.widget-view+json": {
       "model_id": "37bc627b2dc048b59f0a6e5c6f6140bf",
       "version_major": 2,
       "version_minor": 0
      },
      "text/plain": [
       "Pandas Apply:   0%|          | 0/23859 [00:00<?, ?it/s]"
      ]
     },
     "metadata": {},
     "output_type": "display_data"
    },
    {
     "data": {
      "application/vnd.jupyter.widget-view+json": {
       "model_id": "eb0eaf4109be425596fa1b92b9ee88fc",
       "version_major": 2,
       "version_minor": 0
      },
      "text/plain": [
       "Pandas Apply:   0%|          | 0/23859 [00:00<?, ?it/s]"
      ]
     },
     "metadata": {},
     "output_type": "display_data"
    },
    {
     "name": "stdout",
     "output_type": "stream",
     "text": [
      "61.9 ms ± 1.17 ms per loop (mean ± std. dev. of 7 runs, 10 loops each)\n"
     ]
    }
   ],
   "source": [
    "%%timeit\n",
    "res_s = df.Q3.swifter.apply(limit_countries).rename('Country')"
   ]
  },
  {
   "cell_type": "code",
   "execution_count": 50,
   "metadata": {
    "lines_to_next_cell": 2
   },
   "outputs": [],
   "source": [
    "import dask"
   ]
  },
  {
   "cell_type": "code",
   "execution_count": 52,
   "metadata": {
    "lines_to_next_cell": 2
   },
   "outputs": [
    {
     "name": "stdout",
     "output_type": "stream",
     "text": [
      "495 ms ± 24.7 ms per loop (mean ± std. dev. of 7 runs, 1 loop each)\n"
     ]
    }
   ],
   "source": [
    "%%timeit\n",
    "res_d = (dask.dataframe.from_pandas(\n",
    "       df, npartitions=4)\n",
    "   .map_partitions(lambda df: df.Q3.apply(limit_countries))\n",
    "   .rename('Countries')\n",
    ")"
   ]
  },
  {
   "cell_type": "code",
   "execution_count": 53,
   "metadata": {
    "lines_to_next_cell": 2
   },
   "outputs": [],
   "source": [
    "np_fn = np.vectorize(limit_countries)"
   ]
  },
  {
   "cell_type": "code",
   "execution_count": 54,
   "metadata": {
    "lines_to_next_cell": 2
   },
   "outputs": [
    {
     "name": "stdout",
     "output_type": "stream",
     "text": [
      "287 ms ± 2.78 ms per loop (mean ± std. dev. of 7 runs, 1 loop each)\n"
     ]
    }
   ],
   "source": [
    "%%timeit\n",
    "res_v = df.Q3.apply(np_fn).rename('Country')"
   ]
  },
  {
   "cell_type": "code",
   "execution_count": 55,
   "metadata": {},
   "outputs": [],
   "source": [
    "from numba import jit"
   ]
  },
  {
   "cell_type": "code",
   "execution_count": 56,
   "metadata": {},
   "outputs": [],
   "source": [
    "@jit\n",
    "def limit_countries2(val):\n",
    "     if val in  ['United States of America', 'India', 'China']:\n",
    "         return val\n",
    "     return 'Another'"
   ]
  },
  {
   "cell_type": "code",
   "execution_count": 57,
   "metadata": {
    "lines_to_next_cell": 2
   },
   "outputs": [
    {
     "name": "stdout",
     "output_type": "stream",
     "text": [
      "68.2 ms ± 982 µs per loop (mean ± std. dev. of 7 runs, 1 loop each)\n"
     ]
    }
   ],
   "source": [
    "%%timeit\n",
    "res_n = df.Q3.apply(limit_countries2).rename('Country')"
   ]
  },
  {
   "cell_type": "markdown",
   "metadata": {},
   "source": [
    "## 코드 분석하기\n",
    "우리는 jupyter를 사용하기에, 여러 방법들을 이용한 코드 분석이 가능합니다.\n"
   ]
  },
  {
   "cell_type": "code",
   "execution_count": 58,
   "metadata": {
    "lines_to_next_cell": 2
   },
   "outputs": [],
   "source": [
    "import zipfile\n",
    "url = 'archive.zip'"
   ]
  },
  {
   "cell_type": "code",
   "execution_count": 59,
   "metadata": {
    "lines_to_next_cell": 2
   },
   "outputs": [
    {
     "name": "stderr",
     "output_type": "stream",
     "text": [
      "C:\\Users\\K\\anaconda3\\lib\\site-packages\\IPython\\core\\interactiveshell.py:3444: DtypeWarning: Columns (0,2,8,10,21,23,24,25,26,27,28,44,56,64,83,85,87,107,109,123,125,150,157,172,174,194,210,218,219,223,246,249,262,264,276,277,278,279,280,281,282,283,284,285,286,287,288,289,290,304,306,325,326,329,341,368,371,384,385,389,390,391,393,394) have mixed types.Specify dtype option on import or set low_memory=False.\n",
      "  exec(code_obj, self.user_global_ns, self.user_ns)\n"
     ]
    }
   ],
   "source": [
    "with zipfile.ZipFile(url) as z:\n",
    "    kag = pd.read_csv(z.open('multipleChoiceResponses.csv'))\n",
    "    df = kag.iloc[1:]"
   ]
  },
  {
   "cell_type": "code",
   "execution_count": 63,
   "metadata": {
    "comment_questions": false,
    "lines_to_next_cell": 2
   },
   "outputs": [
    {
     "data": {
      "text/plain": [
       "\u001b[1;31mSignature:\u001b[0m\n",
       "\u001b[0mdf\u001b[0m\u001b[1;33m.\u001b[0m\u001b[0mQ3\u001b[0m\u001b[1;33m.\u001b[0m\u001b[0mapply\u001b[0m\u001b[1;33m(\u001b[0m\u001b[1;33m\n",
       "\u001b[0m    \u001b[0mfunc\u001b[0m\u001b[1;33m:\u001b[0m \u001b[1;34m'AggFuncType'\u001b[0m\u001b[1;33m,\u001b[0m\u001b[1;33m\n",
       "\u001b[0m    \u001b[0mconvert_dtype\u001b[0m\u001b[1;33m:\u001b[0m \u001b[1;34m'bool'\u001b[0m \u001b[1;33m=\u001b[0m \u001b[1;32mTrue\u001b[0m\u001b[1;33m,\u001b[0m\u001b[1;33m\n",
       "\u001b[0m    \u001b[0margs\u001b[0m\u001b[1;33m:\u001b[0m \u001b[1;34m'tuple[Any, ...]'\u001b[0m \u001b[1;33m=\u001b[0m \u001b[1;33m(\u001b[0m\u001b[1;33m)\u001b[0m\u001b[1;33m,\u001b[0m\u001b[1;33m\n",
       "\u001b[0m    \u001b[1;33m**\u001b[0m\u001b[0mkwargs\u001b[0m\u001b[1;33m,\u001b[0m\u001b[1;33m\n",
       "\u001b[0m\u001b[1;33m)\u001b[0m \u001b[1;33m->\u001b[0m \u001b[1;34m'FrameOrSeriesUnion'\u001b[0m\u001b[1;33m\u001b[0m\u001b[1;33m\u001b[0m\u001b[0m\n",
       "\u001b[1;31mDocstring:\u001b[0m\n",
       "Invoke function on values of Series.\n",
       "\n",
       "Can be ufunc (a NumPy function that applies to the entire Series)\n",
       "or a Python function that only works on single values.\n",
       "\n",
       "Parameters\n",
       "----------\n",
       "func : function\n",
       "    Python function or NumPy ufunc to apply.\n",
       "convert_dtype : bool, default True\n",
       "    Try to find better dtype for elementwise function results. If\n",
       "    False, leave as dtype=object. Note that the dtype is always\n",
       "    preserved for some extension array dtypes, such as Categorical.\n",
       "args : tuple\n",
       "    Positional arguments passed to func after the series value.\n",
       "**kwargs\n",
       "    Additional keyword arguments passed to func.\n",
       "\n",
       "Returns\n",
       "-------\n",
       "Series or DataFrame\n",
       "    If func returns a Series object the result will be a DataFrame.\n",
       "\n",
       "See Also\n",
       "--------\n",
       "Series.map: For element-wise operations.\n",
       "Series.agg: Only perform aggregating type operations.\n",
       "Series.transform: Only perform transforming type operations.\n",
       "\n",
       "Notes\n",
       "-----\n",
       "Functions that mutate the passed object can produce unexpected\n",
       "behavior or errors and are not supported. See :ref:`gotchas.udf-mutation`\n",
       "for more details.\n",
       "\n",
       "Examples\n",
       "--------\n",
       "Create a series with typical summer temperatures for each city.\n",
       "\n",
       ">>> s = pd.Series([20, 21, 12],\n",
       "...               index=['London', 'New York', 'Helsinki'])\n",
       ">>> s\n",
       "London      20\n",
       "New York    21\n",
       "Helsinki    12\n",
       "dtype: int64\n",
       "\n",
       "Square the values by defining a function and passing it as an\n",
       "argument to ``apply()``.\n",
       "\n",
       ">>> def square(x):\n",
       "...     return x ** 2\n",
       ">>> s.apply(square)\n",
       "London      400\n",
       "New York    441\n",
       "Helsinki    144\n",
       "dtype: int64\n",
       "\n",
       "Square the values by passing an anonymous function as an\n",
       "argument to ``apply()``.\n",
       "\n",
       ">>> s.apply(lambda x: x ** 2)\n",
       "London      400\n",
       "New York    441\n",
       "Helsinki    144\n",
       "dtype: int64\n",
       "\n",
       "Define a custom function that needs additional positional\n",
       "arguments and pass these additional arguments using the\n",
       "``args`` keyword.\n",
       "\n",
       ">>> def subtract_custom_value(x, custom_value):\n",
       "...     return x - custom_value\n",
       "\n",
       ">>> s.apply(subtract_custom_value, args=(5,))\n",
       "London      15\n",
       "New York    16\n",
       "Helsinki     7\n",
       "dtype: int64\n",
       "\n",
       "Define a custom function that takes keyword arguments\n",
       "and pass these arguments to ``apply``.\n",
       "\n",
       ">>> def add_custom_values(x, **kwargs):\n",
       "...     for month in kwargs:\n",
       "...         x += kwargs[month]\n",
       "...     return x\n",
       "\n",
       ">>> s.apply(add_custom_values, june=30, july=20, august=25)\n",
       "London      95\n",
       "New York    96\n",
       "Helsinki    87\n",
       "dtype: int64\n",
       "\n",
       "Use a function from the Numpy library.\n",
       "\n",
       ">>> s.apply(np.log)\n",
       "London      2.995732\n",
       "New York    3.044522\n",
       "Helsinki    2.484907\n",
       "dtype: float64\n",
       "\u001b[1;31mFile:\u001b[0m      c:\\users\\k\\anaconda3\\lib\\site-packages\\pandas\\core\\series.py\n",
       "\u001b[1;31mType:\u001b[0m      method\n"
      ]
     },
     "metadata": {},
     "output_type": "display_data"
    }
   ],
   "source": [
    "df.Q3.apply?\n",
    "#help(df.Q3.apply)"
   ]
  },
  {
   "cell_type": "code",
   "execution_count": 64,
   "metadata": {
    "comment_questions": false,
    "lines_to_next_cell": 2
   },
   "outputs": [
    {
     "data": {
      "text/plain": [
       "\u001b[1;31mSignature:\u001b[0m\n",
       "\u001b[0mdf\u001b[0m\u001b[1;33m.\u001b[0m\u001b[0mQ3\u001b[0m\u001b[1;33m.\u001b[0m\u001b[0mapply\u001b[0m\u001b[1;33m(\u001b[0m\u001b[1;33m\n",
       "\u001b[0m    \u001b[0mfunc\u001b[0m\u001b[1;33m:\u001b[0m \u001b[1;34m'AggFuncType'\u001b[0m\u001b[1;33m,\u001b[0m\u001b[1;33m\n",
       "\u001b[0m    \u001b[0mconvert_dtype\u001b[0m\u001b[1;33m:\u001b[0m \u001b[1;34m'bool'\u001b[0m \u001b[1;33m=\u001b[0m \u001b[1;32mTrue\u001b[0m\u001b[1;33m,\u001b[0m\u001b[1;33m\n",
       "\u001b[0m    \u001b[0margs\u001b[0m\u001b[1;33m:\u001b[0m \u001b[1;34m'tuple[Any, ...]'\u001b[0m \u001b[1;33m=\u001b[0m \u001b[1;33m(\u001b[0m\u001b[1;33m)\u001b[0m\u001b[1;33m,\u001b[0m\u001b[1;33m\n",
       "\u001b[0m    \u001b[1;33m**\u001b[0m\u001b[0mkwargs\u001b[0m\u001b[1;33m,\u001b[0m\u001b[1;33m\n",
       "\u001b[0m\u001b[1;33m)\u001b[0m \u001b[1;33m->\u001b[0m \u001b[1;34m'FrameOrSeriesUnion'\u001b[0m\u001b[1;33m\u001b[0m\u001b[1;33m\u001b[0m\u001b[0m\n",
       "\u001b[1;31mSource:\u001b[0m   \n",
       "    \u001b[1;32mdef\u001b[0m \u001b[0mapply\u001b[0m\u001b[1;33m(\u001b[0m\u001b[1;33m\n",
       "\u001b[0m        \u001b[0mself\u001b[0m\u001b[1;33m,\u001b[0m\u001b[1;33m\n",
       "\u001b[0m        \u001b[0mfunc\u001b[0m\u001b[1;33m:\u001b[0m \u001b[0mAggFuncType\u001b[0m\u001b[1;33m,\u001b[0m\u001b[1;33m\n",
       "\u001b[0m        \u001b[0mconvert_dtype\u001b[0m\u001b[1;33m:\u001b[0m \u001b[0mbool\u001b[0m \u001b[1;33m=\u001b[0m \u001b[1;32mTrue\u001b[0m\u001b[1;33m,\u001b[0m\u001b[1;33m\n",
       "\u001b[0m        \u001b[0margs\u001b[0m\u001b[1;33m:\u001b[0m \u001b[0mtuple\u001b[0m\u001b[1;33m[\u001b[0m\u001b[0mAny\u001b[0m\u001b[1;33m,\u001b[0m \u001b[1;33m...\u001b[0m\u001b[1;33m]\u001b[0m \u001b[1;33m=\u001b[0m \u001b[1;33m(\u001b[0m\u001b[1;33m)\u001b[0m\u001b[1;33m,\u001b[0m\u001b[1;33m\n",
       "\u001b[0m        \u001b[1;33m**\u001b[0m\u001b[0mkwargs\u001b[0m\u001b[1;33m,\u001b[0m\u001b[1;33m\n",
       "\u001b[0m    \u001b[1;33m)\u001b[0m \u001b[1;33m->\u001b[0m \u001b[0mFrameOrSeriesUnion\u001b[0m\u001b[1;33m:\u001b[0m\u001b[1;33m\n",
       "\u001b[0m        \u001b[1;34m\"\"\"\n",
       "        Invoke function on values of Series.\n",
       "\n",
       "        Can be ufunc (a NumPy function that applies to the entire Series)\n",
       "        or a Python function that only works on single values.\n",
       "\n",
       "        Parameters\n",
       "        ----------\n",
       "        func : function\n",
       "            Python function or NumPy ufunc to apply.\n",
       "        convert_dtype : bool, default True\n",
       "            Try to find better dtype for elementwise function results. If\n",
       "            False, leave as dtype=object. Note that the dtype is always\n",
       "            preserved for some extension array dtypes, such as Categorical.\n",
       "        args : tuple\n",
       "            Positional arguments passed to func after the series value.\n",
       "        **kwargs\n",
       "            Additional keyword arguments passed to func.\n",
       "\n",
       "        Returns\n",
       "        -------\n",
       "        Series or DataFrame\n",
       "            If func returns a Series object the result will be a DataFrame.\n",
       "\n",
       "        See Also\n",
       "        --------\n",
       "        Series.map: For element-wise operations.\n",
       "        Series.agg: Only perform aggregating type operations.\n",
       "        Series.transform: Only perform transforming type operations.\n",
       "\n",
       "        Notes\n",
       "        -----\n",
       "        Functions that mutate the passed object can produce unexpected\n",
       "        behavior or errors and are not supported. See :ref:`gotchas.udf-mutation`\n",
       "        for more details.\n",
       "\n",
       "        Examples\n",
       "        --------\n",
       "        Create a series with typical summer temperatures for each city.\n",
       "\n",
       "        >>> s = pd.Series([20, 21, 12],\n",
       "        ...               index=['London', 'New York', 'Helsinki'])\n",
       "        >>> s\n",
       "        London      20\n",
       "        New York    21\n",
       "        Helsinki    12\n",
       "        dtype: int64\n",
       "\n",
       "        Square the values by defining a function and passing it as an\n",
       "        argument to ``apply()``.\n",
       "\n",
       "        >>> def square(x):\n",
       "        ...     return x ** 2\n",
       "        >>> s.apply(square)\n",
       "        London      400\n",
       "        New York    441\n",
       "        Helsinki    144\n",
       "        dtype: int64\n",
       "\n",
       "        Square the values by passing an anonymous function as an\n",
       "        argument to ``apply()``.\n",
       "\n",
       "        >>> s.apply(lambda x: x ** 2)\n",
       "        London      400\n",
       "        New York    441\n",
       "        Helsinki    144\n",
       "        dtype: int64\n",
       "\n",
       "        Define a custom function that needs additional positional\n",
       "        arguments and pass these additional arguments using the\n",
       "        ``args`` keyword.\n",
       "\n",
       "        >>> def subtract_custom_value(x, custom_value):\n",
       "        ...     return x - custom_value\n",
       "\n",
       "        >>> s.apply(subtract_custom_value, args=(5,))\n",
       "        London      15\n",
       "        New York    16\n",
       "        Helsinki     7\n",
       "        dtype: int64\n",
       "\n",
       "        Define a custom function that takes keyword arguments\n",
       "        and pass these arguments to ``apply``.\n",
       "\n",
       "        >>> def add_custom_values(x, **kwargs):\n",
       "        ...     for month in kwargs:\n",
       "        ...         x += kwargs[month]\n",
       "        ...     return x\n",
       "\n",
       "        >>> s.apply(add_custom_values, june=30, july=20, august=25)\n",
       "        London      95\n",
       "        New York    96\n",
       "        Helsinki    87\n",
       "        dtype: int64\n",
       "\n",
       "        Use a function from the Numpy library.\n",
       "\n",
       "        >>> s.apply(np.log)\n",
       "        London      2.995732\n",
       "        New York    3.044522\n",
       "        Helsinki    2.484907\n",
       "        dtype: float64\n",
       "        \"\"\"\u001b[0m\u001b[1;33m\n",
       "\u001b[0m        \u001b[1;32mreturn\u001b[0m \u001b[0mSeriesApply\u001b[0m\u001b[1;33m(\u001b[0m\u001b[0mself\u001b[0m\u001b[1;33m,\u001b[0m \u001b[0mfunc\u001b[0m\u001b[1;33m,\u001b[0m \u001b[0mconvert_dtype\u001b[0m\u001b[1;33m,\u001b[0m \u001b[0margs\u001b[0m\u001b[1;33m,\u001b[0m \u001b[0mkwargs\u001b[0m\u001b[1;33m)\u001b[0m\u001b[1;33m.\u001b[0m\u001b[0mapply\u001b[0m\u001b[1;33m(\u001b[0m\u001b[1;33m)\u001b[0m\u001b[1;33m\u001b[0m\u001b[1;33m\u001b[0m\u001b[0m\n",
       "\u001b[1;31mFile:\u001b[0m      c:\\users\\k\\anaconda3\\lib\\site-packages\\pandas\\core\\series.py\n",
       "\u001b[1;31mType:\u001b[0m      method\n"
      ]
     },
     "metadata": {},
     "output_type": "display_data"
    }
   ],
   "source": [
    "df.Q3.apply??"
   ]
  },
  {
   "cell_type": "code",
   "execution_count": 65,
   "metadata": {
    "lines_to_next_cell": 2
   },
   "outputs": [
    {
     "data": {
      "text/plain": [
       "<module 'pandas._libs.lib' from 'C:\\\\Users\\\\K\\\\anaconda3\\\\lib\\\\site-packages\\\\pandas\\\\_libs\\\\lib.cp38-win_amd64.pyd'>"
      ]
     },
     "execution_count": 65,
     "metadata": {},
     "output_type": "execute_result"
    }
   ],
   "source": [
    "import pandas.core.series\n",
    "pandas.core.series.lib"
   ]
  },
  {
   "cell_type": "code",
   "execution_count": 66,
   "metadata": {
    "comment_questions": false,
    "lines_to_next_cell": 2
   },
   "outputs": [
    {
     "data": {
      "text/plain": [
       "\u001b[1;31mDocstring:\u001b[0m\n",
       "Substitute for np.vectorize with pandas-friendly dtype inference.\n",
       "\n",
       "Parameters\n",
       "----------\n",
       "arr : ndarray\n",
       "f : function\n",
       "convert : bint\n",
       "ignore_na : bint\n",
       "    If True, NA values will not have f applied\n",
       "\n",
       "Returns\n",
       "-------\n",
       "np.ndarray\n",
       "\u001b[1;31mType:\u001b[0m      builtin_function_or_method\n"
      ]
     },
     "metadata": {},
     "output_type": "display_data"
    }
   ],
   "source": [
    "pandas.core.series.lib.map_infer??"
   ]
  },
  {
   "cell_type": "code",
   "execution_count": 69,
   "metadata": {
    "lines_to_next_cell": 2
   },
   "outputs": [],
   "source": [
    "import zipfile\n",
    "url = 'archive.zip'"
   ]
  },
  {
   "cell_type": "code",
   "execution_count": 70,
   "metadata": {},
   "outputs": [
    {
     "name": "stderr",
     "output_type": "stream",
     "text": [
      "C:\\Users\\K\\anaconda3\\lib\\site-packages\\IPython\\core\\interactiveshell.py:3444: DtypeWarning: Columns (0,2,8,10,21,23,24,25,26,27,28,44,56,64,83,85,87,107,109,123,125,150,157,172,174,194,210,218,219,223,246,249,262,264,276,277,278,279,280,281,282,283,284,285,286,287,288,289,290,304,306,325,326,329,341,368,371,384,385,389,390,391,393,394) have mixed types.Specify dtype option on import or set low_memory=False.\n",
      "  exec(code_obj, self.user_global_ns, self.user_ns)\n"
     ]
    }
   ],
   "source": [
    "with zipfile.ZipFile(url) as z:\n",
    "    kag = pd.read_csv(z.open('multipleChoiceResponses.csv'))\n",
    "    df = kag.iloc[1:]"
   ]
  },
  {
   "cell_type": "code",
   "execution_count": 78,
   "metadata": {},
   "outputs": [],
   "source": [
    "def add1(x):\n",
    "    return x + 1"
   ]
  },
  {
   "cell_type": "code",
   "execution_count": 79,
   "metadata": {
    "lines_to_next_cell": 2
   },
   "outputs": [
    {
     "ename": "TypeError",
     "evalue": "can only concatenate str (not \"int\") to str",
     "output_type": "error",
     "traceback": [
      "\u001b[1;31m---------------------------------------------------------------------------\u001b[0m",
      "\u001b[1;31mTypeError\u001b[0m                                 Traceback (most recent call last)",
      "\u001b[1;32m~\\AppData\\Local\\Temp/ipykernel_14240/3980150385.py\u001b[0m in \u001b[0;36m<module>\u001b[1;34m\u001b[0m\n\u001b[1;32m----> 1\u001b[1;33m \u001b[0mdf\u001b[0m\u001b[1;33m.\u001b[0m\u001b[0mQ3\u001b[0m\u001b[1;33m.\u001b[0m\u001b[0mapply\u001b[0m\u001b[1;33m(\u001b[0m\u001b[0madd1\u001b[0m\u001b[1;33m)\u001b[0m\u001b[1;33m\u001b[0m\u001b[1;33m\u001b[0m\u001b[0m\n\u001b[0m",
      "\u001b[1;32m~\\anaconda3\\lib\\site-packages\\pandas\\core\\series.py\u001b[0m in \u001b[0;36mapply\u001b[1;34m(self, func, convert_dtype, args, **kwargs)\u001b[0m\n\u001b[0;32m   4355\u001b[0m         \u001b[0mdtype\u001b[0m\u001b[1;33m:\u001b[0m \u001b[0mfloat64\u001b[0m\u001b[1;33m\u001b[0m\u001b[1;33m\u001b[0m\u001b[0m\n\u001b[0;32m   4356\u001b[0m         \"\"\"\n\u001b[1;32m-> 4357\u001b[1;33m         \u001b[1;32mreturn\u001b[0m \u001b[0mSeriesApply\u001b[0m\u001b[1;33m(\u001b[0m\u001b[0mself\u001b[0m\u001b[1;33m,\u001b[0m \u001b[0mfunc\u001b[0m\u001b[1;33m,\u001b[0m \u001b[0mconvert_dtype\u001b[0m\u001b[1;33m,\u001b[0m \u001b[0margs\u001b[0m\u001b[1;33m,\u001b[0m \u001b[0mkwargs\u001b[0m\u001b[1;33m)\u001b[0m\u001b[1;33m.\u001b[0m\u001b[0mapply\u001b[0m\u001b[1;33m(\u001b[0m\u001b[1;33m)\u001b[0m\u001b[1;33m\u001b[0m\u001b[1;33m\u001b[0m\u001b[0m\n\u001b[0m\u001b[0;32m   4358\u001b[0m \u001b[1;33m\u001b[0m\u001b[0m\n\u001b[0;32m   4359\u001b[0m     def _reduce(\n",
      "\u001b[1;32m~\\anaconda3\\lib\\site-packages\\pandas\\core\\apply.py\u001b[0m in \u001b[0;36mapply\u001b[1;34m(self)\u001b[0m\n\u001b[0;32m   1041\u001b[0m             \u001b[1;32mreturn\u001b[0m \u001b[0mself\u001b[0m\u001b[1;33m.\u001b[0m\u001b[0mapply_str\u001b[0m\u001b[1;33m(\u001b[0m\u001b[1;33m)\u001b[0m\u001b[1;33m\u001b[0m\u001b[1;33m\u001b[0m\u001b[0m\n\u001b[0;32m   1042\u001b[0m \u001b[1;33m\u001b[0m\u001b[0m\n\u001b[1;32m-> 1043\u001b[1;33m         \u001b[1;32mreturn\u001b[0m \u001b[0mself\u001b[0m\u001b[1;33m.\u001b[0m\u001b[0mapply_standard\u001b[0m\u001b[1;33m(\u001b[0m\u001b[1;33m)\u001b[0m\u001b[1;33m\u001b[0m\u001b[1;33m\u001b[0m\u001b[0m\n\u001b[0m\u001b[0;32m   1044\u001b[0m \u001b[1;33m\u001b[0m\u001b[0m\n\u001b[0;32m   1045\u001b[0m     \u001b[1;32mdef\u001b[0m \u001b[0magg\u001b[0m\u001b[1;33m(\u001b[0m\u001b[0mself\u001b[0m\u001b[1;33m)\u001b[0m\u001b[1;33m:\u001b[0m\u001b[1;33m\u001b[0m\u001b[1;33m\u001b[0m\u001b[0m\n",
      "\u001b[1;32m~\\anaconda3\\lib\\site-packages\\pandas\\core\\apply.py\u001b[0m in \u001b[0;36mapply_standard\u001b[1;34m(self)\u001b[0m\n\u001b[0;32m   1096\u001b[0m                 \u001b[1;31m# List[Union[Callable[..., Any], str]]]]]\"; expected\u001b[0m\u001b[1;33m\u001b[0m\u001b[1;33m\u001b[0m\u001b[1;33m\u001b[0m\u001b[0m\n\u001b[0;32m   1097\u001b[0m                 \u001b[1;31m# \"Callable[[Any], Any]\"\u001b[0m\u001b[1;33m\u001b[0m\u001b[1;33m\u001b[0m\u001b[1;33m\u001b[0m\u001b[0m\n\u001b[1;32m-> 1098\u001b[1;33m                 mapped = lib.map_infer(\n\u001b[0m\u001b[0;32m   1099\u001b[0m                     \u001b[0mvalues\u001b[0m\u001b[1;33m,\u001b[0m\u001b[1;33m\u001b[0m\u001b[1;33m\u001b[0m\u001b[0m\n\u001b[0;32m   1100\u001b[0m                     \u001b[0mf\u001b[0m\u001b[1;33m,\u001b[0m  \u001b[1;31m# type: ignore[arg-type]\u001b[0m\u001b[1;33m\u001b[0m\u001b[1;33m\u001b[0m\u001b[0m\n",
      "\u001b[1;32m~\\anaconda3\\lib\\site-packages\\pandas\\_libs\\lib.pyx\u001b[0m in \u001b[0;36mpandas._libs.lib.map_infer\u001b[1;34m()\u001b[0m\n",
      "\u001b[1;32m~\\AppData\\Local\\Temp/ipykernel_14240/3352928176.py\u001b[0m in \u001b[0;36madd1\u001b[1;34m(x)\u001b[0m\n\u001b[0;32m      1\u001b[0m \u001b[1;32mdef\u001b[0m \u001b[0madd1\u001b[0m\u001b[1;33m(\u001b[0m\u001b[0mx\u001b[0m\u001b[1;33m)\u001b[0m\u001b[1;33m:\u001b[0m\u001b[1;33m\u001b[0m\u001b[1;33m\u001b[0m\u001b[0m\n\u001b[1;32m----> 2\u001b[1;33m     \u001b[1;32mreturn\u001b[0m \u001b[0mx\u001b[0m \u001b[1;33m+\u001b[0m \u001b[1;36m1\u001b[0m\u001b[1;33m\u001b[0m\u001b[1;33m\u001b[0m\u001b[0m\n\u001b[0m",
      "\u001b[1;31mTypeError\u001b[0m: can only concatenate str (not \"int\") to str"
     ]
    }
   ],
   "source": [
    "df.Q3.apply(add1)"
   ]
  },
  {
   "cell_type": "code",
   "execution_count": 80,
   "metadata": {},
   "outputs": [
    {
     "name": "stdout",
     "output_type": "stream",
     "text": [
      "> \u001b[1;32mc:\\users\\k\\appdata\\local\\temp\\ipykernel_14240\\3352928176.py\u001b[0m(2)\u001b[0;36madd1\u001b[1;34m()\u001b[0m\n",
      "\n"
     ]
    },
    {
     "name": "stdin",
     "output_type": "stream",
     "text": [
      "ipdb>  p x\n"
     ]
    },
    {
     "name": "stdout",
     "output_type": "stream",
     "text": [
      "'United States of America'\n"
     ]
    },
    {
     "name": "stdin",
     "output_type": "stream",
     "text": [
      "ipdb>  q\n"
     ]
    }
   ],
   "source": [
    "%debug"
   ]
  },
  {
   "cell_type": "code",
   "execution_count": 73,
   "metadata": {},
   "outputs": [],
   "source": [
    "from IPython.core.debugger import set_trace"
   ]
  },
  {
   "cell_type": "code",
   "execution_count": 74,
   "metadata": {},
   "outputs": [],
   "source": [
    "def add1(x):\n",
    "    set_trace()\n",
    "    return x + 1"
   ]
  },
  {
   "cell_type": "code",
   "execution_count": 76,
   "metadata": {
    "lines_to_next_cell": 2
   },
   "outputs": [
    {
     "name": "stdout",
     "output_type": "stream",
     "text": [
      "> \u001b[1;32mc:\\users\\k\\appdata\\local\\temp\\ipykernel_14240\\1527908075.py\u001b[0m(3)\u001b[0;36madd1\u001b[1;34m()\u001b[0m\n",
      "\n"
     ]
    },
    {
     "name": "stdin",
     "output_type": "stream",
     "text": [
      "ipdb>  q\n"
     ]
    },
    {
     "ename": "BdbQuit",
     "evalue": "",
     "output_type": "error",
     "traceback": [
      "\u001b[1;31m---------------------------------------------------------------------------\u001b[0m",
      "\u001b[1;31mBdbQuit\u001b[0m                                   Traceback (most recent call last)",
      "\u001b[1;32m~\\AppData\\Local\\Temp/ipykernel_14240/3980150385.py\u001b[0m in \u001b[0;36m<module>\u001b[1;34m\u001b[0m\n\u001b[1;32m----> 1\u001b[1;33m \u001b[0mdf\u001b[0m\u001b[1;33m.\u001b[0m\u001b[0mQ3\u001b[0m\u001b[1;33m.\u001b[0m\u001b[0mapply\u001b[0m\u001b[1;33m(\u001b[0m\u001b[0madd1\u001b[0m\u001b[1;33m)\u001b[0m\u001b[1;33m\u001b[0m\u001b[1;33m\u001b[0m\u001b[0m\n\u001b[0m",
      "\u001b[1;32m~\\anaconda3\\lib\\site-packages\\pandas\\core\\series.py\u001b[0m in \u001b[0;36mapply\u001b[1;34m(self, func, convert_dtype, args, **kwargs)\u001b[0m\n\u001b[0;32m   4355\u001b[0m         \u001b[0mdtype\u001b[0m\u001b[1;33m:\u001b[0m \u001b[0mfloat64\u001b[0m\u001b[1;33m\u001b[0m\u001b[1;33m\u001b[0m\u001b[0m\n\u001b[0;32m   4356\u001b[0m         \"\"\"\n\u001b[1;32m-> 4357\u001b[1;33m         \u001b[1;32mreturn\u001b[0m \u001b[0mSeriesApply\u001b[0m\u001b[1;33m(\u001b[0m\u001b[0mself\u001b[0m\u001b[1;33m,\u001b[0m \u001b[0mfunc\u001b[0m\u001b[1;33m,\u001b[0m \u001b[0mconvert_dtype\u001b[0m\u001b[1;33m,\u001b[0m \u001b[0margs\u001b[0m\u001b[1;33m,\u001b[0m \u001b[0mkwargs\u001b[0m\u001b[1;33m)\u001b[0m\u001b[1;33m.\u001b[0m\u001b[0mapply\u001b[0m\u001b[1;33m(\u001b[0m\u001b[1;33m)\u001b[0m\u001b[1;33m\u001b[0m\u001b[1;33m\u001b[0m\u001b[0m\n\u001b[0m\u001b[0;32m   4358\u001b[0m \u001b[1;33m\u001b[0m\u001b[0m\n\u001b[0;32m   4359\u001b[0m     def _reduce(\n",
      "\u001b[1;32m~\\anaconda3\\lib\\site-packages\\pandas\\core\\apply.py\u001b[0m in \u001b[0;36mapply\u001b[1;34m(self)\u001b[0m\n\u001b[0;32m   1041\u001b[0m             \u001b[1;32mreturn\u001b[0m \u001b[0mself\u001b[0m\u001b[1;33m.\u001b[0m\u001b[0mapply_str\u001b[0m\u001b[1;33m(\u001b[0m\u001b[1;33m)\u001b[0m\u001b[1;33m\u001b[0m\u001b[1;33m\u001b[0m\u001b[0m\n\u001b[0;32m   1042\u001b[0m \u001b[1;33m\u001b[0m\u001b[0m\n\u001b[1;32m-> 1043\u001b[1;33m         \u001b[1;32mreturn\u001b[0m \u001b[0mself\u001b[0m\u001b[1;33m.\u001b[0m\u001b[0mapply_standard\u001b[0m\u001b[1;33m(\u001b[0m\u001b[1;33m)\u001b[0m\u001b[1;33m\u001b[0m\u001b[1;33m\u001b[0m\u001b[0m\n\u001b[0m\u001b[0;32m   1044\u001b[0m \u001b[1;33m\u001b[0m\u001b[0m\n\u001b[0;32m   1045\u001b[0m     \u001b[1;32mdef\u001b[0m \u001b[0magg\u001b[0m\u001b[1;33m(\u001b[0m\u001b[0mself\u001b[0m\u001b[1;33m)\u001b[0m\u001b[1;33m:\u001b[0m\u001b[1;33m\u001b[0m\u001b[1;33m\u001b[0m\u001b[0m\n",
      "\u001b[1;32m~\\anaconda3\\lib\\site-packages\\pandas\\core\\apply.py\u001b[0m in \u001b[0;36mapply_standard\u001b[1;34m(self)\u001b[0m\n\u001b[0;32m   1096\u001b[0m                 \u001b[1;31m# List[Union[Callable[..., Any], str]]]]]\"; expected\u001b[0m\u001b[1;33m\u001b[0m\u001b[1;33m\u001b[0m\u001b[1;33m\u001b[0m\u001b[0m\n\u001b[0;32m   1097\u001b[0m                 \u001b[1;31m# \"Callable[[Any], Any]\"\u001b[0m\u001b[1;33m\u001b[0m\u001b[1;33m\u001b[0m\u001b[1;33m\u001b[0m\u001b[0m\n\u001b[1;32m-> 1098\u001b[1;33m                 mapped = lib.map_infer(\n\u001b[0m\u001b[0;32m   1099\u001b[0m                     \u001b[0mvalues\u001b[0m\u001b[1;33m,\u001b[0m\u001b[1;33m\u001b[0m\u001b[1;33m\u001b[0m\u001b[0m\n\u001b[0;32m   1100\u001b[0m                     \u001b[0mf\u001b[0m\u001b[1;33m,\u001b[0m  \u001b[1;31m# type: ignore[arg-type]\u001b[0m\u001b[1;33m\u001b[0m\u001b[1;33m\u001b[0m\u001b[0m\n",
      "\u001b[1;32m~\\anaconda3\\lib\\site-packages\\pandas\\_libs\\lib.pyx\u001b[0m in \u001b[0;36mpandas._libs.lib.map_infer\u001b[1;34m()\u001b[0m\n",
      "\u001b[1;32m~\\AppData\\Local\\Temp/ipykernel_14240/1527908075.py\u001b[0m in \u001b[0;36madd1\u001b[1;34m(x)\u001b[0m\n\u001b[0;32m      1\u001b[0m \u001b[1;32mdef\u001b[0m \u001b[0madd1\u001b[0m\u001b[1;33m(\u001b[0m\u001b[0mx\u001b[0m\u001b[1;33m)\u001b[0m\u001b[1;33m:\u001b[0m\u001b[1;33m\u001b[0m\u001b[1;33m\u001b[0m\u001b[0m\n\u001b[0;32m      2\u001b[0m     \u001b[0mset_trace\u001b[0m\u001b[1;33m(\u001b[0m\u001b[1;33m)\u001b[0m\u001b[1;33m\u001b[0m\u001b[1;33m\u001b[0m\u001b[0m\n\u001b[1;32m----> 3\u001b[1;33m     \u001b[1;32mreturn\u001b[0m \u001b[0mx\u001b[0m \u001b[1;33m+\u001b[0m \u001b[1;36m1\u001b[0m\u001b[1;33m\u001b[0m\u001b[1;33m\u001b[0m\u001b[0m\n\u001b[0m",
      "\u001b[1;32m~\\AppData\\Local\\Temp/ipykernel_14240/1527908075.py\u001b[0m in \u001b[0;36madd1\u001b[1;34m(x)\u001b[0m\n\u001b[0;32m      1\u001b[0m \u001b[1;32mdef\u001b[0m \u001b[0madd1\u001b[0m\u001b[1;33m(\u001b[0m\u001b[0mx\u001b[0m\u001b[1;33m)\u001b[0m\u001b[1;33m:\u001b[0m\u001b[1;33m\u001b[0m\u001b[1;33m\u001b[0m\u001b[0m\n\u001b[0;32m      2\u001b[0m     \u001b[0mset_trace\u001b[0m\u001b[1;33m(\u001b[0m\u001b[1;33m)\u001b[0m\u001b[1;33m\u001b[0m\u001b[1;33m\u001b[0m\u001b[0m\n\u001b[1;32m----> 3\u001b[1;33m     \u001b[1;32mreturn\u001b[0m \u001b[0mx\u001b[0m \u001b[1;33m+\u001b[0m \u001b[1;36m1\u001b[0m\u001b[1;33m\u001b[0m\u001b[1;33m\u001b[0m\u001b[0m\n\u001b[0m",
      "\u001b[1;32m~\\anaconda3\\lib\\bdb.py\u001b[0m in \u001b[0;36mtrace_dispatch\u001b[1;34m(self, frame, event, arg)\u001b[0m\n\u001b[0;32m     86\u001b[0m             \u001b[1;32mreturn\u001b[0m \u001b[1;31m# None\u001b[0m\u001b[1;33m\u001b[0m\u001b[1;33m\u001b[0m\u001b[0m\n\u001b[0;32m     87\u001b[0m         \u001b[1;32mif\u001b[0m \u001b[0mevent\u001b[0m \u001b[1;33m==\u001b[0m \u001b[1;34m'line'\u001b[0m\u001b[1;33m:\u001b[0m\u001b[1;33m\u001b[0m\u001b[1;33m\u001b[0m\u001b[0m\n\u001b[1;32m---> 88\u001b[1;33m             \u001b[1;32mreturn\u001b[0m \u001b[0mself\u001b[0m\u001b[1;33m.\u001b[0m\u001b[0mdispatch_line\u001b[0m\u001b[1;33m(\u001b[0m\u001b[0mframe\u001b[0m\u001b[1;33m)\u001b[0m\u001b[1;33m\u001b[0m\u001b[1;33m\u001b[0m\u001b[0m\n\u001b[0m\u001b[0;32m     89\u001b[0m         \u001b[1;32mif\u001b[0m \u001b[0mevent\u001b[0m \u001b[1;33m==\u001b[0m \u001b[1;34m'call'\u001b[0m\u001b[1;33m:\u001b[0m\u001b[1;33m\u001b[0m\u001b[1;33m\u001b[0m\u001b[0m\n\u001b[0;32m     90\u001b[0m             \u001b[1;32mreturn\u001b[0m \u001b[0mself\u001b[0m\u001b[1;33m.\u001b[0m\u001b[0mdispatch_call\u001b[0m\u001b[1;33m(\u001b[0m\u001b[0mframe\u001b[0m\u001b[1;33m,\u001b[0m \u001b[0marg\u001b[0m\u001b[1;33m)\u001b[0m\u001b[1;33m\u001b[0m\u001b[1;33m\u001b[0m\u001b[0m\n",
      "\u001b[1;32m~\\anaconda3\\lib\\bdb.py\u001b[0m in \u001b[0;36mdispatch_line\u001b[1;34m(self, frame)\u001b[0m\n\u001b[0;32m    111\u001b[0m         \u001b[1;32mif\u001b[0m \u001b[0mself\u001b[0m\u001b[1;33m.\u001b[0m\u001b[0mstop_here\u001b[0m\u001b[1;33m(\u001b[0m\u001b[0mframe\u001b[0m\u001b[1;33m)\u001b[0m \u001b[1;32mor\u001b[0m \u001b[0mself\u001b[0m\u001b[1;33m.\u001b[0m\u001b[0mbreak_here\u001b[0m\u001b[1;33m(\u001b[0m\u001b[0mframe\u001b[0m\u001b[1;33m)\u001b[0m\u001b[1;33m:\u001b[0m\u001b[1;33m\u001b[0m\u001b[1;33m\u001b[0m\u001b[0m\n\u001b[0;32m    112\u001b[0m             \u001b[0mself\u001b[0m\u001b[1;33m.\u001b[0m\u001b[0muser_line\u001b[0m\u001b[1;33m(\u001b[0m\u001b[0mframe\u001b[0m\u001b[1;33m)\u001b[0m\u001b[1;33m\u001b[0m\u001b[1;33m\u001b[0m\u001b[0m\n\u001b[1;32m--> 113\u001b[1;33m             \u001b[1;32mif\u001b[0m \u001b[0mself\u001b[0m\u001b[1;33m.\u001b[0m\u001b[0mquitting\u001b[0m\u001b[1;33m:\u001b[0m \u001b[1;32mraise\u001b[0m \u001b[0mBdbQuit\u001b[0m\u001b[1;33m\u001b[0m\u001b[1;33m\u001b[0m\u001b[0m\n\u001b[0m\u001b[0;32m    114\u001b[0m         \u001b[1;32mreturn\u001b[0m \u001b[0mself\u001b[0m\u001b[1;33m.\u001b[0m\u001b[0mtrace_dispatch\u001b[0m\u001b[1;33m\u001b[0m\u001b[1;33m\u001b[0m\u001b[0m\n\u001b[0;32m    115\u001b[0m \u001b[1;33m\u001b[0m\u001b[0m\n",
      "\u001b[1;31mBdbQuit\u001b[0m: "
     ]
    }
   ],
   "source": [
    "df.Q3.apply(add1)"
   ]
  },
  {
   "cell_type": "markdown",
   "metadata": {},
   "source": [
    "## Great Expectations 활용해 데이터 무결성 보장하기\n",
    "GE는 데이터의 속성을 캡처하고 정의하여 추후 데이터 무결성을 보장할 수 있는 도구입니다."
   ]
  },
  {
   "cell_type": "code",
   "execution_count": 81,
   "metadata": {
    "scrolled": true,
    "tags": []
   },
   "outputs": [
    {
     "name": "stdout",
     "output_type": "stream",
     "text": [
      "Collecting great-expectations\n",
      "  Downloading great_expectations-0.15.7-py3-none-any.whl (5.1 MB)\n",
      "Requirement already satisfied: pandas>=0.23.0 in c:\\users\\k\\anaconda3\\lib\\site-packages (from great-expectations) (1.3.4)\n",
      "Requirement already satisfied: jinja2<3.1.0,>=2.10 in c:\\users\\k\\anaconda3\\lib\\site-packages (from great-expectations) (3.0.3)\n",
      "Collecting altair<5,>=4.0.0\n",
      "  Downloading altair-4.2.0-py3-none-any.whl (812 kB)\n",
      "Requirement already satisfied: python-dateutil>=2.8.1 in c:\\users\\k\\anaconda3\\lib\\site-packages (from great-expectations) (2.8.2)\n",
      "Requirement already satisfied: colorama>=0.4.3 in c:\\users\\k\\anaconda3\\lib\\site-packages (from great-expectations) (0.4.4)\n",
      "Requirement already satisfied: packaging in c:\\users\\k\\anaconda3\\lib\\site-packages (from great-expectations) (21.3)\n",
      "Requirement already satisfied: pytz>=2021.3 in c:\\users\\k\\anaconda3\\lib\\site-packages (from great-expectations) (2021.3)\n",
      "Collecting jsonpatch>=1.22\n",
      "  Downloading jsonpatch-1.32-py2.py3-none-any.whl (12 kB)\n",
      "Requirement already satisfied: typing-extensions>=3.10.0.0 in c:\\users\\k\\anaconda3\\lib\\site-packages (from great-expectations) (4.0.0)\n",
      "Requirement already satisfied: importlib-metadata>=1.7.0 in c:\\users\\k\\anaconda3\\lib\\site-packages (from great-expectations) (4.8.2)\n",
      "Requirement already satisfied: mistune>=0.8.4 in c:\\users\\k\\anaconda3\\lib\\site-packages (from great-expectations) (0.8.4)\n",
      "Requirement already satisfied: tqdm>=4.59.0 in c:\\users\\k\\anaconda3\\lib\\site-packages (from great-expectations) (4.62.3)\n",
      "Requirement already satisfied: requests>=2.20 in c:\\users\\k\\anaconda3\\lib\\site-packages (from great-expectations) (2.26.0)\n",
      "Requirement already satisfied: termcolor>=1.1.0 in c:\\users\\k\\anaconda3\\lib\\site-packages (from great-expectations) (1.1.0)\n",
      "Requirement already satisfied: Click>=7.1.2 in c:\\users\\k\\anaconda3\\lib\\site-packages (from great-expectations) (8.0.3)\n",
      "Requirement already satisfied: numpy>=1.14.1 in c:\\users\\k\\anaconda3\\lib\\site-packages (from great-expectations) (1.20.3)\n",
      "Requirement already satisfied: urllib3<1.27,>=1.25.4 in c:\\users\\k\\anaconda3\\lib\\site-packages (from great-expectations) (1.26.7)\n",
      "Requirement already satisfied: jsonschema>=2.5.1 in c:\\users\\k\\anaconda3\\lib\\site-packages (from great-expectations) (4.2.1)\n",
      "Requirement already satisfied: Ipython>=7.16.3 in c:\\users\\k\\anaconda3\\lib\\site-packages (from great-expectations) (7.29.0)\n",
      "Collecting tzlocal>=1.2\n",
      "  Downloading tzlocal-4.2-py3-none-any.whl (19 kB)\n",
      "Requirement already satisfied: nbformat>=5.0 in c:\\users\\k\\anaconda3\\lib\\site-packages (from great-expectations) (5.1.3)\n",
      "Collecting notebook>=6.4.10\n",
      "  Downloading notebook-6.4.11-py3-none-any.whl (9.9 MB)\n",
      "Requirement already satisfied: scipy>=0.19.0 in c:\\users\\k\\anaconda3\\lib\\site-packages (from great-expectations) (1.6.2)\n",
      "Collecting pyparsing<3,>=2.4\n",
      "  Downloading pyparsing-2.4.7-py2.py3-none-any.whl (67 kB)\n",
      "Collecting ruamel.yaml<0.17.18,>=0.16\n",
      "  Downloading ruamel.yaml-0.17.17-py3-none-any.whl (109 kB)\n",
      "Requirement already satisfied: cryptography<37.0.0,>=3.2 in c:\\users\\k\\anaconda3\\lib\\site-packages (from great-expectations) (35.0.0)\n",
      "Requirement already satisfied: entrypoints in c:\\users\\k\\anaconda3\\lib\\site-packages (from altair<5,>=4.0.0->great-expectations) (0.3)\n",
      "Requirement already satisfied: toolz in c:\\users\\k\\anaconda3\\lib\\site-packages (from altair<5,>=4.0.0->great-expectations) (0.11.2)\n",
      "Requirement already satisfied: cffi>=1.12 in c:\\users\\k\\anaconda3\\lib\\site-packages (from cryptography<37.0.0,>=3.2->great-expectations) (1.15.0)\n",
      "Requirement already satisfied: zipp>=0.5 in c:\\users\\k\\anaconda3\\lib\\site-packages (from importlib-metadata>=1.7.0->great-expectations) (3.6.0)\n",
      "Requirement already satisfied: jedi>=0.16 in c:\\users\\k\\anaconda3\\lib\\site-packages (from Ipython>=7.16.3->great-expectations) (0.17.2)\n",
      "Requirement already satisfied: backcall in c:\\users\\k\\anaconda3\\lib\\site-packages (from Ipython>=7.16.3->great-expectations) (0.2.0)\n",
      "Requirement already satisfied: pickleshare in c:\\users\\k\\anaconda3\\lib\\site-packages (from Ipython>=7.16.3->great-expectations) (0.7.5)\n",
      "Requirement already satisfied: setuptools>=18.5 in c:\\users\\k\\anaconda3\\lib\\site-packages (from Ipython>=7.16.3->great-expectations) (59.2.0)\n",
      "Requirement already satisfied: decorator in c:\\users\\k\\anaconda3\\lib\\site-packages (from Ipython>=7.16.3->great-expectations) (5.1.0)\n",
      "Requirement already satisfied: prompt-toolkit!=3.0.0,!=3.0.1,<3.1.0,>=2.0.0 in c:\\users\\k\\anaconda3\\lib\\site-packages (from Ipython>=7.16.3->great-expectations) (3.0.22)\n",
      "Requirement already satisfied: matplotlib-inline in c:\\users\\k\\anaconda3\\lib\\site-packages (from Ipython>=7.16.3->great-expectations) (0.1.3)\n",
      "Requirement already satisfied: traitlets>=4.2 in c:\\users\\k\\anaconda3\\lib\\site-packages (from Ipython>=7.16.3->great-expectations) (5.1.1)\n",
      "Requirement already satisfied: pygments in c:\\users\\k\\anaconda3\\lib\\site-packages (from Ipython>=7.16.3->great-expectations) (2.10.0)\n",
      "Requirement already satisfied: MarkupSafe>=2.0 in c:\\users\\k\\anaconda3\\lib\\site-packages (from jinja2<3.1.0,>=2.10->great-expectations) (2.0.1)\n",
      "Collecting jsonpointer>=1.9\n",
      "  Downloading jsonpointer-2.3-py2.py3-none-any.whl (7.8 kB)\n",
      "Requirement already satisfied: pyrsistent!=0.17.0,!=0.17.1,!=0.17.2,>=0.14.0 in c:\\users\\k\\anaconda3\\lib\\site-packages (from jsonschema>=2.5.1->great-expectations) (0.18.0)\n",
      "Requirement already satisfied: attrs>=17.4.0 in c:\\users\\k\\anaconda3\\lib\\site-packages (from jsonschema>=2.5.1->great-expectations) (21.2.0)\n",
      "Requirement already satisfied: importlib-resources>=1.4.0 in c:\\users\\k\\anaconda3\\lib\\site-packages (from jsonschema>=2.5.1->great-expectations) (5.4.0)\n",
      "Requirement already satisfied: jupyter-core in c:\\users\\k\\anaconda3\\lib\\site-packages (from nbformat>=5.0->great-expectations) (4.9.1)\n",
      "Requirement already satisfied: ipython-genutils in c:\\users\\k\\anaconda3\\lib\\site-packages (from nbformat>=5.0->great-expectations) (0.2.0)\n",
      "Requirement already satisfied: pyzmq>=17 in c:\\users\\k\\anaconda3\\lib\\site-packages (from notebook>=6.4.10->great-expectations) (22.3.0)\n",
      "Requirement already satisfied: argon2-cffi in c:\\users\\k\\anaconda3\\lib\\site-packages (from notebook>=6.4.10->great-expectations) (21.1.0)\n",
      "Requirement already satisfied: terminado>=0.8.3 in c:\\users\\k\\anaconda3\\lib\\site-packages (from notebook>=6.4.10->great-expectations) (0.12.1)\n",
      "Requirement already satisfied: ipykernel in c:\\users\\k\\anaconda3\\lib\\site-packages (from notebook>=6.4.10->great-expectations) (6.5.0)\n",
      "Requirement already satisfied: prometheus-client in c:\\users\\k\\anaconda3\\lib\\site-packages (from notebook>=6.4.10->great-expectations) (0.12.0)\n",
      "Requirement already satisfied: jupyter-client>=5.3.4 in c:\\users\\k\\anaconda3\\lib\\site-packages (from notebook>=6.4.10->great-expectations) (7.1.0)\n",
      "Requirement already satisfied: Send2Trash>=1.8.0 in c:\\users\\k\\anaconda3\\lib\\site-packages (from notebook>=6.4.10->great-expectations) (1.8.0)\n",
      "Requirement already satisfied: nest-asyncio>=1.5 in c:\\users\\k\\anaconda3\\lib\\site-packages (from notebook>=6.4.10->great-expectations) (1.5.1)\n",
      "Requirement already satisfied: nbconvert>=5 in c:\\users\\k\\anaconda3\\lib\\site-packages (from notebook>=6.4.10->great-expectations) (6.3.0)\n",
      "Requirement already satisfied: tornado>=6.1 in c:\\users\\k\\anaconda3\\lib\\site-packages (from notebook>=6.4.10->great-expectations) (6.1)\n",
      "Requirement already satisfied: six>=1.5 in c:\\users\\k\\anaconda3\\lib\\site-packages (from python-dateutil>=2.8.1->great-expectations) (1.15.0)\n",
      "Requirement already satisfied: certifi>=2017.4.17 in c:\\users\\k\\anaconda3\\lib\\site-packages (from requests>=2.20->great-expectations) (2021.10.8)\n",
      "Requirement already satisfied: charset-normalizer~=2.0.0 in c:\\users\\k\\anaconda3\\lib\\site-packages (from requests>=2.20->great-expectations) (2.0.0)\n",
      "Requirement already satisfied: idna<4,>=2.5 in c:\\users\\k\\anaconda3\\lib\\site-packages (from requests>=2.20->great-expectations) (3.1)\n",
      "Collecting ruamel.yaml.clib>=0.1.2\n",
      "  Downloading ruamel.yaml.clib-0.2.6-cp38-cp38-win_amd64.whl (117 kB)\n",
      "Collecting backports.zoneinfo\n",
      "  Downloading backports.zoneinfo-0.2.1-cp38-cp38-win_amd64.whl (38 kB)\n",
      "Collecting pytz-deprecation-shim\n",
      "  Downloading pytz_deprecation_shim-0.1.0.post0-py2.py3-none-any.whl (15 kB)\n",
      "Collecting tzdata\n",
      "  Downloading tzdata-2022.1-py2.py3-none-any.whl (339 kB)\n",
      "Requirement already satisfied: pycparser in c:\\users\\k\\anaconda3\\lib\\site-packages (from cffi>=1.12->cryptography<37.0.0,>=3.2->great-expectations) (2.21)\n",
      "Requirement already satisfied: parso<0.8.0,>=0.7.0 in c:\\users\\k\\anaconda3\\lib\\site-packages (from jedi>=0.16->Ipython>=7.16.3->great-expectations) (0.7.0)\n",
      "Requirement already satisfied: pywin32>=1.0 in c:\\users\\k\\anaconda3\\lib\\site-packages (from jupyter-core->nbformat>=5.0->great-expectations) (302)\n",
      "Requirement already satisfied: jupyterlab-pygments in c:\\users\\k\\anaconda3\\lib\\site-packages (from nbconvert>=5->notebook>=6.4.10->great-expectations) (0.1.2)\n",
      "Requirement already satisfied: bleach in c:\\users\\k\\anaconda3\\lib\\site-packages (from nbconvert>=5->notebook>=6.4.10->great-expectations) (4.1.0)\n",
      "Requirement already satisfied: defusedxml in c:\\users\\k\\anaconda3\\lib\\site-packages (from nbconvert>=5->notebook>=6.4.10->great-expectations) (0.7.1)\n",
      "Requirement already satisfied: nbclient<0.6.0,>=0.5.0 in c:\\users\\k\\anaconda3\\lib\\site-packages (from nbconvert>=5->notebook>=6.4.10->great-expectations) (0.5.9)\n",
      "Requirement already satisfied: pandocfilters>=1.4.1 in c:\\users\\k\\anaconda3\\lib\\site-packages (from nbconvert>=5->notebook>=6.4.10->great-expectations) (1.5.0)\n",
      "Requirement already satisfied: testpath in c:\\users\\k\\anaconda3\\lib\\site-packages (from nbconvert>=5->notebook>=6.4.10->great-expectations) (0.5.0)\n",
      "Requirement already satisfied: wcwidth in c:\\users\\k\\anaconda3\\lib\\site-packages (from prompt-toolkit!=3.0.0,!=3.0.1,<3.1.0,>=2.0.0->Ipython>=7.16.3->great-expectations) (0.2.5)\n",
      "Requirement already satisfied: pywinpty>=1.1.0 in c:\\users\\k\\anaconda3\\lib\\site-packages (from terminado>=0.8.3->notebook>=6.4.10->great-expectations) (1.1.6)\n",
      "Requirement already satisfied: debugpy<2.0,>=1.0.0 in c:\\users\\k\\anaconda3\\lib\\site-packages (from ipykernel->notebook>=6.4.10->great-expectations) (1.5.1)\n",
      "Requirement already satisfied: webencodings in c:\\users\\k\\anaconda3\\lib\\site-packages (from bleach->nbconvert>=5->notebook>=6.4.10->great-expectations) (0.5.1)\n",
      "Installing collected packages: pyparsing, tzdata, backports.zoneinfo, ruamel.yaml.clib, pytz-deprecation-shim, jsonpointer, tzlocal, ruamel.yaml, notebook, jsonpatch, altair, great-expectations\n",
      "  Attempting uninstall: pyparsing\n",
      "    Found existing installation: pyparsing 3.0.6\n",
      "    Uninstalling pyparsing-3.0.6:\n",
      "      Successfully uninstalled pyparsing-3.0.6\n",
      "  Attempting uninstall: notebook\n",
      "    Found existing installation: notebook 6.4.6\n",
      "    Uninstalling notebook-6.4.6:\n",
      "      Successfully uninstalled notebook-6.4.6\n"
     ]
    },
    {
     "name": "stderr",
     "output_type": "stream",
     "text": [
      "WARNING: Ignoring invalid distribution -onlpy (c:\\users\\k\\anaconda3\\lib\\site-packages)\n",
      "WARNING: Ignoring invalid distribution -onlpy (c:\\users\\k\\anaconda3\\lib\\site-packages)\n",
      "WARNING: Ignoring invalid distribution -onlpy (c:\\users\\k\\anaconda3\\lib\\site-packages)\n",
      "    WARNING: Ignoring invalid distribution -onlpy (c:\\users\\k\\anaconda3\\lib\\site-packages)\n",
      "    WARNING: Ignoring invalid distribution -onlpy (c:\\users\\k\\anaconda3\\lib\\site-packages)\n",
      "ERROR: Could not install packages due to an OSError: [WinError 5] 액세스가 거부되었습니다: 'C:\\\\Users\\\\K\\\\AppData\\\\Local\\\\Temp\\\\pip-uninstall-4qf3vlqe\\\\jupyter-bundlerextension.exe'\n",
      "Consider using the `--user` option or check the permissions.\n",
      "\n",
      "WARNING: Ignoring invalid distribution -onlpy (c:\\users\\k\\anaconda3\\lib\\site-packages)\n",
      "WARNING: Ignoring invalid distribution -onlpy (c:\\users\\k\\anaconda3\\lib\\site-packages)\n",
      "WARNING: Ignoring invalid distribution -onlpy (c:\\users\\k\\anaconda3\\lib\\site-packages)\n"
     ]
    }
   ],
   "source": [
    "!pip install great-expectations"
   ]
  },
  {
   "cell_type": "code",
   "execution_count": 84,
   "metadata": {
    "lines_to_next_cell": 2
   },
   "outputs": [],
   "source": [
    "kag = tweak_kag(df)"
   ]
  },
  {
   "cell_type": "code",
   "execution_count": 85,
   "metadata": {
    "lines_to_next_cell": 2
   },
   "outputs": [],
   "source": [
    "import great_expectations as ge\n",
    "kag_ge = ge.from_pandas(kag)"
   ]
  },
  {
   "cell_type": "code",
   "execution_count": 86,
   "metadata": {
    "lines_to_next_cell": 2
   },
   "outputs": [
    {
     "data": {
      "text/plain": [
       "['add_citation',\n",
       " 'append_expectation',\n",
       " 'attempt_allowing_relative_error',\n",
       " 'autoinspect',\n",
       " 'batch_id',\n",
       " 'batch_kwargs',\n",
       " 'batch_markers',\n",
       " 'batch_parameters',\n",
       " 'caching',\n",
       " 'column_aggregate_expectation',\n",
       " 'column_map_expectation',\n",
       " 'column_pair_map_expectation',\n",
       " 'default_expectation_args',\n",
       " 'discard_failing_expectations',\n",
       " 'discard_subset_failing_expectations',\n",
       " 'edit_expectation_suite',\n",
       " 'expect_column_bootstrapped_ks_test_p_value_to_be_greater_than',\n",
       " 'expect_column_chisquare_test_p_value_to_be_greater_than',\n",
       " 'expect_column_distinct_values_to_be_in_set',\n",
       " 'expect_column_distinct_values_to_contain_set',\n",
       " 'expect_column_distinct_values_to_equal_set',\n",
       " 'expect_column_kl_divergence_to_be_less_than',\n",
       " 'expect_column_max_to_be_between',\n",
       " 'expect_column_mean_to_be_between',\n",
       " 'expect_column_median_to_be_between',\n",
       " 'expect_column_min_to_be_between',\n",
       " 'expect_column_most_common_value_to_be_in_set',\n",
       " 'expect_column_pair_cramers_phi_value_to_be_less_than',\n",
       " 'expect_column_pair_values_A_to_be_greater_than_B',\n",
       " 'expect_column_pair_values_to_be_equal',\n",
       " 'expect_column_pair_values_to_be_in_set',\n",
       " 'expect_column_parameterized_distribution_ks_test_p_value_to_be_greater_than',\n",
       " 'expect_column_proportion_of_unique_values_to_be_between',\n",
       " 'expect_column_quantile_values_to_be_between',\n",
       " 'expect_column_stdev_to_be_between',\n",
       " 'expect_column_sum_to_be_between',\n",
       " 'expect_column_to_exist',\n",
       " 'expect_column_unique_value_count_to_be_between',\n",
       " 'expect_column_value_lengths_to_be_between',\n",
       " 'expect_column_value_lengths_to_equal',\n",
       " 'expect_column_values_to_be_between',\n",
       " 'expect_column_values_to_be_dateutil_parseable',\n",
       " 'expect_column_values_to_be_decreasing',\n",
       " 'expect_column_values_to_be_in_set',\n",
       " 'expect_column_values_to_be_in_type_list',\n",
       " 'expect_column_values_to_be_increasing',\n",
       " 'expect_column_values_to_be_json_parseable',\n",
       " 'expect_column_values_to_be_null',\n",
       " 'expect_column_values_to_be_of_type',\n",
       " 'expect_column_values_to_be_unique',\n",
       " 'expect_column_values_to_match_json_schema',\n",
       " 'expect_column_values_to_match_regex',\n",
       " 'expect_column_values_to_match_regex_list',\n",
       " 'expect_column_values_to_match_strftime_format',\n",
       " 'expect_column_values_to_not_be_in_set',\n",
       " 'expect_column_values_to_not_be_null',\n",
       " 'expect_column_values_to_not_match_regex',\n",
       " 'expect_column_values_to_not_match_regex_list',\n",
       " 'expect_compound_columns_to_be_unique',\n",
       " 'expect_multicolumn_sum_to_equal',\n",
       " 'expect_multicolumn_values_to_be_unique',\n",
       " 'expect_select_column_values_to_be_unique_within_record',\n",
       " 'expect_table_column_count_to_be_between',\n",
       " 'expect_table_column_count_to_equal',\n",
       " 'expect_table_columns_to_match_ordered_list',\n",
       " 'expect_table_columns_to_match_set',\n",
       " 'expect_table_row_count_to_be_between',\n",
       " 'expect_table_row_count_to_equal',\n",
       " 'expectation',\n",
       " 'expectation_suite_name',\n",
       " 'find_expectation_indexes',\n",
       " 'find_expectations',\n",
       " 'from_dataset',\n",
       " 'get_binned_values',\n",
       " 'get_column_count',\n",
       " 'get_column_count_in_range',\n",
       " 'get_column_hist',\n",
       " 'get_column_max',\n",
       " 'get_column_mean',\n",
       " 'get_column_median',\n",
       " 'get_column_min',\n",
       " 'get_column_modes',\n",
       " 'get_column_nonnull_count',\n",
       " 'get_column_partition',\n",
       " 'get_column_quantiles',\n",
       " 'get_column_stdev',\n",
       " 'get_column_sum',\n",
       " 'get_column_unique_count',\n",
       " 'get_column_value_counts',\n",
       " 'get_config_value',\n",
       " 'get_crosstab',\n",
       " 'get_default_expectation_arguments',\n",
       " 'get_evaluation_parameter',\n",
       " 'get_expectation_suite',\n",
       " 'get_expectations_config',\n",
       " 'get_row_count',\n",
       " 'get_table_columns',\n",
       " 'hashable_getters',\n",
       " 'list_available_expectation_types',\n",
       " 'multicolumn_map_expectation',\n",
       " 'profile',\n",
       " 'remove_expectation',\n",
       " 'save_expectation_suite',\n",
       " 'set_config_value',\n",
       " 'set_default_expectation_argument',\n",
       " 'set_evaluation_parameter',\n",
       " 'test_column_aggregate_expectation_function',\n",
       " 'test_column_map_expectation_function',\n",
       " 'test_expectation_function',\n",
       " 'validate']"
      ]
     },
     "execution_count": 86,
     "metadata": {},
     "output_type": "execute_result"
    }
   ],
   "source": [
    "sorted([x for x in set(dir(kag_ge)) - set(dir(kag))\n",
    "    if not x.startswith('_')])"
   ]
  },
  {
   "cell_type": "code",
   "execution_count": 87,
   "metadata": {
    "lines_to_next_cell": 2
   },
   "outputs": [
    {
     "data": {
      "text/plain": [
       "{\n",
       "  \"success\": true,\n",
       "  \"exception_info\": {\n",
       "    \"raised_exception\": false,\n",
       "    \"exception_traceback\": null,\n",
       "    \"exception_message\": null\n",
       "  },\n",
       "  \"result\": {},\n",
       "  \"meta\": {}\n",
       "}"
      ]
     },
     "execution_count": 87,
     "metadata": {},
     "output_type": "execute_result"
    }
   ],
   "source": [
    "kag_ge.expect_column_to_exist('Salary')"
   ]
  },
  {
   "cell_type": "code",
   "execution_count": 88,
   "metadata": {
    "lines_to_next_cell": 2
   },
   "outputs": [
    {
     "data": {
      "text/plain": [
       "{\n",
       "  \"success\": true,\n",
       "  \"exception_info\": {\n",
       "    \"raised_exception\": false,\n",
       "    \"exception_traceback\": null,\n",
       "    \"exception_message\": null\n",
       "  },\n",
       "  \"result\": {\n",
       "    \"observed_value\": 43869.66102793441,\n",
       "    \"element_count\": 15429,\n",
       "    \"missing_count\": null,\n",
       "    \"missing_percent\": null\n",
       "  },\n",
       "  \"meta\": {}\n",
       "}"
      ]
     },
     "execution_count": 88,
     "metadata": {},
     "output_type": "execute_result"
    }
   ],
   "source": [
    "kag_ge.expect_column_mean_to_be_between(\n",
    "   'Salary', min_value=10_000, max_value=100_000)"
   ]
  },
  {
   "cell_type": "code",
   "execution_count": 89,
   "metadata": {
    "lines_to_next_cell": 2
   },
   "outputs": [
    {
     "data": {
      "text/plain": [
       "{\n",
       "  \"success\": true,\n",
       "  \"exception_info\": {\n",
       "    \"raised_exception\": false,\n",
       "    \"exception_traceback\": null,\n",
       "    \"exception_message\": null\n",
       "  },\n",
       "  \"result\": {\n",
       "    \"element_count\": 15429,\n",
       "    \"missing_count\": 0,\n",
       "    \"missing_percent\": 0.0,\n",
       "    \"unexpected_count\": 0,\n",
       "    \"unexpected_percent\": 0.0,\n",
       "    \"unexpected_percent_total\": 0.0,\n",
       "    \"unexpected_percent_nonmissing\": 0.0,\n",
       "    \"partial_unexpected_list\": []\n",
       "  },\n",
       "  \"meta\": {}\n",
       "}"
      ]
     },
     "execution_count": 89,
     "metadata": {},
     "output_type": "execute_result"
    }
   ],
   "source": [
    "kag_ge.expect_column_values_to_be_between(\n",
    "   'Salary', min_value=0, max_value=500_000)"
   ]
  },
  {
   "cell_type": "code",
   "execution_count": 90,
   "metadata": {
    "lines_to_next_cell": 2
   },
   "outputs": [
    {
     "data": {
      "text/plain": [
       "{\n",
       "  \"success\": true,\n",
       "  \"exception_info\": {\n",
       "    \"raised_exception\": false,\n",
       "    \"exception_traceback\": null,\n",
       "    \"exception_message\": null\n",
       "  },\n",
       "  \"result\": {\n",
       "    \"element_count\": 15429,\n",
       "    \"unexpected_count\": 0,\n",
       "    \"unexpected_percent\": 0.0,\n",
       "    \"unexpected_percent_total\": 0.0,\n",
       "    \"partial_unexpected_list\": []\n",
       "  },\n",
       "  \"meta\": {}\n",
       "}"
      ]
     },
     "execution_count": 90,
     "metadata": {},
     "output_type": "execute_result"
    }
   ],
   "source": [
    "kag_ge.expect_column_values_to_not_be_null('Salary')"
   ]
  },
  {
   "cell_type": "code",
   "execution_count": 91,
   "metadata": {
    "lines_to_next_cell": 2
   },
   "outputs": [
    {
     "data": {
      "text/plain": [
       "{\n",
       "  \"success\": true,\n",
       "  \"exception_info\": {\n",
       "    \"raised_exception\": false,\n",
       "    \"exception_traceback\": null,\n",
       "    \"exception_message\": null\n",
       "  },\n",
       "  \"result\": {\n",
       "    \"element_count\": 15429,\n",
       "    \"missing_count\": 0,\n",
       "    \"missing_percent\": 0.0,\n",
       "    \"unexpected_count\": 0,\n",
       "    \"unexpected_percent\": 0.0,\n",
       "    \"unexpected_percent_total\": 0.0,\n",
       "    \"unexpected_percent_nonmissing\": 0.0,\n",
       "    \"partial_unexpected_list\": []\n",
       "  },\n",
       "  \"meta\": {}\n",
       "}"
      ]
     },
     "execution_count": 91,
     "metadata": {},
     "output_type": "execute_result"
    }
   ],
   "source": [
    "kag_ge.expect_column_values_to_match_regex(\n",
    "    'Country', r'America|India|Another|China')"
   ]
  },
  {
   "cell_type": "code",
   "execution_count": 92,
   "metadata": {
    "lines_to_next_cell": 2
   },
   "outputs": [
    {
     "data": {
      "text/plain": [
       "{\n",
       "  \"success\": true,\n",
       "  \"exception_info\": {\n",
       "    \"raised_exception\": false,\n",
       "    \"exception_traceback\": null,\n",
       "    \"exception_message\": null\n",
       "  },\n",
       "  \"result\": {\n",
       "    \"observed_value\": \"int32\"\n",
       "  },\n",
       "  \"meta\": {}\n",
       "}"
      ]
     },
     "execution_count": 92,
     "metadata": {},
     "output_type": "execute_result"
    }
   ],
   "source": [
    "kag_ge.expect_column_values_to_be_of_type(\n",
    "   'Salary', type_='int')"
   ]
  },
  {
   "cell_type": "code",
   "execution_count": 93,
   "metadata": {
    "lines_to_next_cell": 2
   },
   "outputs": [],
   "source": [
    "kag_ge.save_expectation_suite('kaggle_expectations.json')"
   ]
  },
  {
   "cell_type": "code",
   "execution_count": 94,
   "metadata": {
    "lines_to_next_cell": 2
   },
   "outputs": [
    {
     "data": {
      "text/plain": [
       "{\n",
       "  \"results\": [\n",
       "    {\n",
       "      \"success\": true,\n",
       "      \"exception_info\": {\n",
       "        \"raised_exception\": false,\n",
       "        \"exception_message\": null,\n",
       "        \"exception_traceback\": null\n",
       "      },\n",
       "      \"result\": {},\n",
       "      \"meta\": {},\n",
       "      \"expectation_config\": {\n",
       "        \"kwargs\": {\n",
       "          \"column\": \"Salary\"\n",
       "        },\n",
       "        \"meta\": {},\n",
       "        \"expectation_type\": \"expect_column_to_exist\"\n",
       "      }\n",
       "    },\n",
       "    {\n",
       "      \"success\": true,\n",
       "      \"exception_info\": {\n",
       "        \"raised_exception\": false,\n",
       "        \"exception_message\": null,\n",
       "        \"exception_traceback\": null\n",
       "      },\n",
       "      \"result\": {\n",
       "        \"observed_value\": 43869.66102793441,\n",
       "        \"element_count\": 15429,\n",
       "        \"missing_count\": null,\n",
       "        \"missing_percent\": null\n",
       "      },\n",
       "      \"meta\": {},\n",
       "      \"expectation_config\": {\n",
       "        \"kwargs\": {\n",
       "          \"column\": \"Salary\",\n",
       "          \"max_value\": 100000,\n",
       "          \"min_value\": 10000\n",
       "        },\n",
       "        \"meta\": {},\n",
       "        \"expectation_type\": \"expect_column_mean_to_be_between\"\n",
       "      }\n",
       "    },\n",
       "    {\n",
       "      \"success\": true,\n",
       "      \"exception_info\": {\n",
       "        \"raised_exception\": false,\n",
       "        \"exception_message\": null,\n",
       "        \"exception_traceback\": null\n",
       "      },\n",
       "      \"result\": {\n",
       "        \"element_count\": 15429,\n",
       "        \"missing_count\": 0,\n",
       "        \"missing_percent\": 0.0,\n",
       "        \"unexpected_count\": 0,\n",
       "        \"unexpected_percent\": 0.0,\n",
       "        \"unexpected_percent_total\": 0.0,\n",
       "        \"unexpected_percent_nonmissing\": 0.0,\n",
       "        \"partial_unexpected_list\": []\n",
       "      },\n",
       "      \"meta\": {},\n",
       "      \"expectation_config\": {\n",
       "        \"kwargs\": {\n",
       "          \"column\": \"Salary\",\n",
       "          \"max_value\": 500000,\n",
       "          \"min_value\": 0\n",
       "        },\n",
       "        \"meta\": {},\n",
       "        \"expectation_type\": \"expect_column_values_to_be_between\"\n",
       "      }\n",
       "    },\n",
       "    {\n",
       "      \"success\": true,\n",
       "      \"exception_info\": {\n",
       "        \"raised_exception\": false,\n",
       "        \"exception_message\": null,\n",
       "        \"exception_traceback\": null\n",
       "      },\n",
       "      \"result\": {\n",
       "        \"element_count\": 15429,\n",
       "        \"unexpected_count\": 0,\n",
       "        \"unexpected_percent\": 0.0,\n",
       "        \"unexpected_percent_total\": 0.0,\n",
       "        \"partial_unexpected_list\": []\n",
       "      },\n",
       "      \"meta\": {},\n",
       "      \"expectation_config\": {\n",
       "        \"kwargs\": {\n",
       "          \"column\": \"Salary\"\n",
       "        },\n",
       "        \"meta\": {},\n",
       "        \"expectation_type\": \"expect_column_values_to_not_be_null\"\n",
       "      }\n",
       "    },\n",
       "    {\n",
       "      \"success\": false,\n",
       "      \"exception_info\": {\n",
       "        \"raised_exception\": false,\n",
       "        \"exception_message\": null,\n",
       "        \"exception_traceback\": null\n",
       "      },\n",
       "      \"result\": {\n",
       "        \"observed_value\": \"int64\"\n",
       "      },\n",
       "      \"meta\": {},\n",
       "      \"expectation_config\": {\n",
       "        \"kwargs\": {\n",
       "          \"column\": \"Salary\",\n",
       "          \"type_\": \"int\"\n",
       "        },\n",
       "        \"meta\": {},\n",
       "        \"expectation_type\": \"expect_column_values_to_be_of_type\"\n",
       "      }\n",
       "    },\n",
       "    {\n",
       "      \"success\": true,\n",
       "      \"exception_info\": {\n",
       "        \"raised_exception\": false,\n",
       "        \"exception_message\": null,\n",
       "        \"exception_traceback\": null\n",
       "      },\n",
       "      \"result\": {\n",
       "        \"element_count\": 15429,\n",
       "        \"missing_count\": 0,\n",
       "        \"missing_percent\": 0.0,\n",
       "        \"unexpected_count\": 0,\n",
       "        \"unexpected_percent\": 0.0,\n",
       "        \"unexpected_percent_total\": 0.0,\n",
       "        \"unexpected_percent_nonmissing\": 0.0,\n",
       "        \"partial_unexpected_list\": []\n",
       "      },\n",
       "      \"meta\": {},\n",
       "      \"expectation_config\": {\n",
       "        \"kwargs\": {\n",
       "          \"column\": \"Country\",\n",
       "          \"regex\": \"America|India|Another|China\"\n",
       "        },\n",
       "        \"meta\": {},\n",
       "        \"expectation_type\": \"expect_column_values_to_match_regex\"\n",
       "      }\n",
       "    }\n",
       "  ],\n",
       "  \"success\": false,\n",
       "  \"statistics\": {\n",
       "    \"evaluated_expectations\": 6,\n",
       "    \"successful_expectations\": 5,\n",
       "    \"unsuccessful_expectations\": 1,\n",
       "    \"success_percent\": 83.33333333333334\n",
       "  },\n",
       "  \"meta\": {\n",
       "    \"great_expectations_version\": \"0.15.7\",\n",
       "    \"expectation_suite_name\": \"default\",\n",
       "    \"run_id\": {\n",
       "      \"run_time\": \"2022-05-30T23:30:55.025800+00:00\",\n",
       "      \"run_name\": null\n",
       "    },\n",
       "    \"batch_kwargs\": {\n",
       "      \"ge_batch_id\": \"8d1eaf4c-e070-11ec-91e7-b42e991fdd29\"\n",
       "    },\n",
       "    \"batch_markers\": {},\n",
       "    \"batch_parameters\": {},\n",
       "    \"validation_time\": \"20220530T233055.025800Z\",\n",
       "    \"expectation_suite_meta\": {\n",
       "      \"great_expectations_version\": \"0.15.7\"\n",
       "    }\n",
       "  },\n",
       "  \"evaluation_parameters\": {}\n",
       "}"
      ]
     },
     "execution_count": 94,
     "metadata": {},
     "output_type": "execute_result"
    }
   ],
   "source": [
    "kag_ge.to_csv('kag.csv')\n",
    "import json\n",
    "ge.validate(ge.read_csv('kag.csv'), \n",
    "    expectation_suite=json.load(\n",
    "        open('kaggle_expectations.json')))"
   ]
  },
  {
   "cell_type": "markdown",
   "metadata": {},
   "source": [
    "### How it works..."
   ]
  },
  {
   "cell_type": "markdown",
   "metadata": {
    "jp-MarkdownHeadingCollapsed": true,
    "tags": []
   },
   "source": [
    "## Using pytest with pandas"
   ]
  },
  {
   "cell_type": "markdown",
   "metadata": {
    "tags": []
   },
   "source": [
    "### How to do it..."
   ]
  },
  {
   "cell_type": "markdown",
   "metadata": {
    "jp-MarkdownHeadingCollapsed": true,
    "tags": []
   },
   "source": [
    "### How it works..."
   ]
  },
  {
   "cell_type": "markdown",
   "metadata": {
    "tags": []
   },
   "source": [
    "### There's more..."
   ]
  },
  {
   "cell_type": "markdown",
   "metadata": {
    "jp-MarkdownHeadingCollapsed": true,
    "tags": []
   },
   "source": [
    "## Generating Tests with Hypothesis"
   ]
  },
  {
   "cell_type": "markdown",
   "metadata": {
    "jp-MarkdownHeadingCollapsed": true,
    "tags": []
   },
   "source": [
    "### How to do it..."
   ]
  },
  {
   "cell_type": "markdown",
   "metadata": {
    "jp-MarkdownHeadingCollapsed": true,
    "lines_to_next_cell": 2,
    "tags": []
   },
   "source": [
    "### How it works..."
   ]
  }
 ],
 "metadata": {
  "jupytext": {
   "cell_metadata_filter": "comment_questions,-all",
   "main_language": "python",
   "notebook_metadata_filter": "-all"
  },
  "kernelspec": {
   "display_name": "Python 3 (ipykernel)",
   "language": "python",
   "name": "python3"
  },
  "language_info": {
   "codemirror_mode": {
    "name": "ipython",
    "version": 3
   },
   "file_extension": ".py",
   "mimetype": "text/x-python",
   "name": "python",
   "nbconvert_exporter": "python",
   "pygments_lexer": "ipython3",
   "version": "3.9.7"
  }
 },
 "nbformat": 4,
 "nbformat_minor": 4
}
